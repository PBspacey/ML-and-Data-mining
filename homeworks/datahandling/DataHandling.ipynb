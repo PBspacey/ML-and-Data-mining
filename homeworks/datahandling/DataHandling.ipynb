{
 "cells": [
  {
   "cell_type": "markdown",
   "metadata": {
    "id": "view-in-github"
   },
   "source": [
    "<a href=\"https://colab.research.google.com/github/HSE-LAMBDA/MLDM-2022/blob/master/01-intro/DataHandling.ipynb\" target=\"_parent\"><img src=\"https://colab.research.google.com/assets/colab-badge.svg\" alt=\"Open In Colab\"/></a>"
   ]
  },
  {
   "cell_type": "markdown",
   "metadata": {
    "id": "n_nitmHugcSH"
   },
   "source": [
    "# Welcome"
   ]
  },
  {
   "cell_type": "markdown",
   "metadata": {
    "id": "pfojW1Laghph"
   },
   "source": [
    "During the practical sessions of the course we are going to use [Python programming language](https://www.python.org) in the [Google Colab environment](https://colab.research.google.com). Alternatively you can download some other python distribution, e.g. [anaconda](https://www.anaconda.com/) and run jupyter locally (see the [docs](https://jupyter.readthedocs.io/en/latest/running.html) for more info)."
   ]
  },
  {
   "cell_type": "code",
   "execution_count": 171,
   "metadata": {
    "id": "WAa6UFGdwp2z"
   },
   "outputs": [
    {
     "name": "stdout",
     "output_type": "stream",
     "text": [
      "Python 3.9.13\n"
     ]
    }
   ],
   "source": [
    "!python --version"
   ]
  },
  {
   "cell_type": "markdown",
   "metadata": {
    "id": "rCkInromwobd"
   },
   "source": [
    "If you are new to Python, please consider reading through the following tutorial:\n",
    " - https://docs.python.org/3.7/tutorial/\n",
    "\n",
    "In particular, the following parts of it should provide a more or less comprehensive introduction to the must-know basics:\n",
    "   - https://docs.python.org/3.7/tutorial/introduction.html\n",
    "   - https://docs.python.org/3.7/tutorial/controlflow.html\n",
    "   - https://docs.python.org/3.7/tutorial/datastructures.html\n",
    "   - https://docs.python.org/3.7/tutorial/modules.html\n",
    "   - https://docs.python.org/3.7/tutorial/classes.html\n",
    "\n",
    "Don't forget to follow [PEP-8](https://peps.python.org/pep-0008/). You may also check other[style guides](https://google.github.io/styleguide/pyguide.html)."
   ]
  },
  {
   "cell_type": "markdown",
   "metadata": {
    "id": "wNKpO_suinc-"
   },
   "source": [
    "An overview of basic features of the Google Colab environment can be found [here](https://colab.research.google.com/notebooks/basic_features_overview.ipynb)."
   ]
  },
  {
   "cell_type": "markdown",
   "metadata": {
    "id": "Aw1cuRi7hhzz"
   },
   "source": [
    "# Tabular Playground Series"
   ]
  },
  {
   "cell_type": "markdown",
   "metadata": {
    "id": "w3muhqoaJXVL"
   },
   "source": [
    "![Tabular Playground Series](https://storage.googleapis.com/kaggle-competitions/kaggle/33101/logos/header.png?t=2021-12-30-01-23-41)\n",
    "\n",
    "This notebook's gonna teach you to use the basic data science stack for python: jupyter, numpy, matplotlib and sklearn.\n",
    "\n",
    "We are going to use [Tabular Playground Series](https://www.kaggle.com/competitions?searchQuery=Tabular+Playground+Series) as the main data sourse for the experiments. \n",
    "\n",
    "\"These competitions are a great choice for people looking for something in between the Titanic Getting Started competition and the Featured competitions.\""
   ]
  },
  {
   "cell_type": "markdown",
   "metadata": {
    "id": "I_J_iM9Hjwc3"
   },
   "source": [
    "## Part I: Jupyter notebooks recap"
   ]
  },
  {
   "cell_type": "markdown",
   "metadata": {
    "id": "lyB4dc4Lt7xp"
   },
   "source": [
    "This whole document you are looking at right now is a **jupyter notebook**. You can think of jupyter as of a browser-friendly python development environment.\n",
    "\n",
    "For each notebook there's a python interpreter running behind the scenes, also called a **kernel**. The notebook consists of **cells** - either *code* cells, or *text* cells. E.g. this text you're reading is in a text cell.\n",
    "\n",
    "An example of a code cell can be found below. You can execute its code by placing the coursor in it and hitting `Shift + Enter`.\n",
    "\n",
    "__please keep running all the code cells as you read__"
   ]
  },
  {
   "cell_type": "code",
   "execution_count": 172,
   "metadata": {
    "id": "pJak2EJ-vEYd"
   },
   "outputs": [
    {
     "name": "stdout",
     "output_type": "stream",
     "text": [
      "Hellow world\n"
     ]
    }
   ],
   "source": [
    "print('Hellow world')"
   ]
  },
  {
   "cell_type": "markdown",
   "metadata": {
    "id": "HMZCQoKzvMJv"
   },
   "source": [
    "Note that same python session is used to run the code from different cells. So, for example, by defining a variable in one cell, you can re-use it in another:"
   ]
  },
  {
   "cell_type": "code",
   "execution_count": 173,
   "metadata": {
    "id": "yeSmID9LvKgS"
   },
   "outputs": [],
   "source": [
    "some_number = 42"
   ]
  },
  {
   "cell_type": "code",
   "execution_count": 174,
   "metadata": {
    "id": "K7o2AxcoveeN"
   },
   "outputs": [
    {
     "data": {
      "text/plain": [
       "1764"
      ]
     },
     "execution_count": 174,
     "metadata": {},
     "output_type": "execute_result"
    }
   ],
   "source": [
    "some_number**2"
   ]
  },
  {
   "cell_type": "markdown",
   "metadata": {
    "id": "s9QW0Uojvlxh"
   },
   "source": [
    "Jupyter allows you to run cells in an arbitrary order, which may make your code a bit messy and complicated to debug. In general it's a good practice to write your code such that it successfully runs from top to bottom in a clean environment. To reset your environment back to a clean state click `Runtime -> Restart runtime` (in regular jupter: `Kernel -> Restart`)."
   ]
  },
  {
   "cell_type": "markdown",
   "metadata": {
    "id": "De2BsSxGJXVV"
   },
   "source": [
    "**The most important feature** of jupyter notebooks for this course: \n",
    "* contextual help: the behaviour depends on whether you're running this in google colab or in regular jupyter.\n",
    "* In colab the suggestions / documentation will appear automatically as you type.\n",
    "* In regular jupyter if you're typing something, press `Tab` to see automatic suggestions / `Shift + Tab` for function documentation.\n",
    "\n",
    "You can use [Markdown](https://jupyter.brynmawr.edu/services/public/dblank/Jupyter%20Notebook%20Users%20Manual.ipynb#4.-Using-Markdown-Cells-for-Writing) and [LaTeX](https://stackoverflow.com/questions/13208286/how-to-write-latex-in-ipython-notebook) through the cells as well.\n",
    "\n",
    "*Note: here we'll assume you're using google colab*"
   ]
  },
  {
   "cell_type": "code",
   "execution_count": 175,
   "metadata": {
    "id": "5oQdc9MIJXVW"
   },
   "outputs": [],
   "source": [
    "# run this first\n",
    "import math"
   ]
  },
  {
   "cell_type": "code",
   "execution_count": 176,
   "metadata": {
    "id": "4FZxJodmJXVZ"
   },
   "outputs": [
    {
     "data": {
      "text/plain": [
       "0.49934672168013006"
      ]
     },
     "execution_count": 176,
     "metadata": {},
     "output_type": "execute_result"
    }
   ],
   "source": [
    "# Place your cursor at the end of the unfinished line below and \n",
    "# type in '.' to see the contextual help and\n",
    "# find a function that computes arctangent from two parameters (should\n",
    "# have 2 in it's name).\n",
    "# Once you chose it, put an opening bracket character to\n",
    "# see the docs.\n",
    "\n",
    "math.atan2(1.2,2.2)# <--- type in a '.' symbol to see suggestions"
   ]
  },
  {
   "cell_type": "markdown",
   "metadata": {
    "id": "-cY1PEyznRYw"
   },
   "source": [
    "## Part II: Numpy and vectorized computing"
   ]
  },
  {
   "cell_type": "markdown",
   "metadata": {
    "id": "4luG6vWXJXWU"
   },
   "source": [
    "Almost any machine learning model requires some computational heavy lifting usually involving linear algebra problems. Unfortunately, raw python is terrible at this because each operation is interpreted at runtime. \n",
    "\n",
    "So instead, we'll use `numpy` - a library that lets you run blazing fast computation with vectors, matrices and other tensors. It's written in lower-level programming languages like C or Fortran and only uses python as an interface.\n",
    "\n",
    "Quoting [documentation](https://numpy.org/devdocs/user/quickstart.html):\n",
    "> NumPy’s main object is the homogeneous multidimensional array. It is a table of elements (usually numbers), all of the same type, indexed by a tuple of non-negative integers. In NumPy dimensions are called axes.\n",
    "\n",
    "\n",
    "\n",
    "\n",
    "This object is called `numpy.ndarray` (\"nd\" standing for \"N-dimensional\"). It is also aliased to `numpy.array` and consists of two major components: the raw array data (from now on, referred to as the data buffer), and the information about the raw array data.\n",
    "\n",
    "The data buffer is typically what people think of as arrays in C or Fortran, a contiguous (and fixed) block of memory containing fixed-sized data items. NumPy also contains a significant set of data that describes how to interpret the data in the data buffer. This extra information contains (among other things):\n",
    "\n",
    "* The basic data element’s size in bytes.\n",
    "\n",
    "* The start of the data within the data buffer (an offset relative to the beginning of the data buffer).\n",
    "\n",
    "* The number of dimensions and the size of each dimension.\n",
    "\n",
    "* The separation between elements for each dimension (the stride). This does not have to be a multiple of the element size.\n",
    "\n",
    "* The byte order of the data (which may not be the native byte order).\n"
   ]
  },
  {
   "cell_type": "code",
   "execution_count": 177,
   "metadata": {
    "id": "gcTokNL-JXWV"
   },
   "outputs": [
    {
     "name": "stdout",
     "output_type": "stream",
     "text": [
      "a =  [1 2 3 4 5]\n",
      "b =  [5 4 3 2 1]\n",
      "a + 1 = [2 3 4 5 6]\n",
      "a * 2 = [ 2  4  6  8 10]\n",
      "a == 2 [False  True False False False]\n",
      "a + b = [6 6 6 6 6]\n",
      "a * b = [5 8 9 8 5]\n"
     ]
    }
   ],
   "source": [
    "import numpy as np\n",
    "\n",
    "a = np.array([1,2,3,4,5])\n",
    "b = np.array([5,4,3,2,1])\n",
    "print(\"a = \", a)\n",
    "print(\"b = \", b)\n",
    "\n",
    "# math and boolean operations can applied to each element of an array\n",
    "print(\"a + 1 =\", a + 1)\n",
    "print(\"a * 2 =\", a * 2)\n",
    "print(\"a == 2\", a == 2)\n",
    "# ... or corresponding elements of two (or more) arrays\n",
    "print(\"a + b =\", a + b)\n",
    "print(\"a * b =\", a * b)"
   ]
  },
  {
   "cell_type": "markdown",
   "metadata": {
    "id": "479Etj_pG7WU"
   },
   "source": [
    "**All the solutions you share can give you additional points that can be added to HW's ones.**"
   ]
  },
  {
   "cell_type": "code",
   "execution_count": 178,
   "metadata": {
    "id": "40slF_H1JXWY"
   },
   "outputs": [],
   "source": [
    "# Your turn: compute half-products of a and b elements (halves of products)\n",
    "def half_product(a, b):\n",
    "    return a*b/2"
   ]
  },
  {
   "cell_type": "code",
   "execution_count": 179,
   "metadata": {
    "id": "dYvyRQAQL083"
   },
   "outputs": [
    {
     "data": {
      "text/plain": [
       "array([2.5, 4. , 4.5, 4. , 2.5])"
      ]
     },
     "execution_count": 179,
     "metadata": {},
     "output_type": "execute_result"
    }
   ],
   "source": [
    "half_product(a,b)"
   ]
  },
  {
   "cell_type": "code",
   "execution_count": 180,
   "metadata": {
    "id": "EnNXgtaaJXWa"
   },
   "outputs": [],
   "source": [
    "# compute elementwise quotient between squared a and (b plus 1)\n",
    "def quotient(a,b):\n",
    "    return a**2/(b+1)"
   ]
  },
  {
   "cell_type": "code",
   "execution_count": 181,
   "metadata": {
    "id": "twC3QxYAL9cV"
   },
   "outputs": [
    {
     "data": {
      "text/plain": [
       "array([ 0.16666667,  0.8       ,  2.25      ,  5.33333333, 12.5       ])"
      ]
     },
     "execution_count": 181,
     "metadata": {},
     "output_type": "execute_result"
    }
   ],
   "source": [
    "quotient(a, b)"
   ]
  },
  {
   "cell_type": "markdown",
   "metadata": {
    "id": "KSkrSyKTnJBp"
   },
   "source": [
    "```\n",
    "\n",
    "```\n",
    "\n",
    "```\n",
    "\n",
    "```\n",
    "\n",
    "```\n",
    "\n",
    "```\n",
    "\n",
    "```\n",
    "\n",
    "```\n",
    "\n",
    "```\n",
    "\n",
    "```"
   ]
  },
  {
   "cell_type": "markdown",
   "metadata": {
    "id": "uHV6HlQgoL-r"
   },
   "source": [
    "There's a number of functions to create arrays of zeros, ones, ascending/descending numbers etc.:"
   ]
  },
  {
   "cell_type": "code",
   "execution_count": 182,
   "metadata": {
    "id": "dCqkfcCWoi1I"
   },
   "outputs": [
    {
     "data": {
      "text/plain": [
       "array([[0., 0., 0., 0.],\n",
       "       [0., 0., 0., 0.],\n",
       "       [0., 0., 0., 0.]])"
      ]
     },
     "execution_count": 182,
     "metadata": {},
     "output_type": "execute_result"
    }
   ],
   "source": [
    "np.zeros(shape=(3, 4))"
   ]
  },
  {
   "cell_type": "code",
   "execution_count": 183,
   "metadata": {
    "id": "NAee3VdtorX8"
   },
   "outputs": [
    {
     "name": "stderr",
     "output_type": "stream",
     "text": [
      "/var/folders/pd/fjb9sj5x6t3dnxtpzxxzkv6c0000gn/T/ipykernel_75994/2576088586.py:1: DeprecationWarning: `np.bool` is a deprecated alias for the builtin `bool`. To silence this warning, use `bool` by itself. Doing this will not modify any behavior and is safe. If you specifically wanted the numpy scalar type, use `np.bool_` here.\n",
      "Deprecated in NumPy 1.20; for more details and guidance: https://numpy.org/devdocs/release/1.20.0-notes.html#deprecations\n",
      "  np.ones(shape=(2, 5), dtype=np.bool)\n"
     ]
    },
    {
     "data": {
      "text/plain": [
       "array([[ True,  True,  True,  True,  True],\n",
       "       [ True,  True,  True,  True,  True]])"
      ]
     },
     "execution_count": 183,
     "metadata": {},
     "output_type": "execute_result"
    }
   ],
   "source": [
    "np.ones(shape=(2, 5), dtype=np.bool)"
   ]
  },
  {
   "cell_type": "code",
   "execution_count": 184,
   "metadata": {
    "id": "ymW4lMqpozFn"
   },
   "outputs": [
    {
     "data": {
      "text/plain": [
       "array([ 3,  5,  7,  9, 11, 13])"
      ]
     },
     "execution_count": 184,
     "metadata": {},
     "output_type": "execute_result"
    }
   ],
   "source": [
    "np.arange(3, 15, 2) # start, stop, step"
   ]
  },
  {
   "cell_type": "code",
   "execution_count": 185,
   "metadata": {
    "id": "KQi-FGqto_ty"
   },
   "outputs": [
    {
     "data": {
      "text/plain": [
       "array([ 0.,  1.,  2.,  3.,  4.,  5.,  6.,  7.,  8.,  9., 10.])"
      ]
     },
     "execution_count": 185,
     "metadata": {},
     "output_type": "execute_result"
    }
   ],
   "source": [
    "np.linspace(0, 10, 11) # divide [0, 10] interval into 11 points"
   ]
  },
  {
   "cell_type": "code",
   "execution_count": 186,
   "metadata": {
    "id": "7d7MlvuqpJ0S"
   },
   "outputs": [
    {
     "data": {
      "text/plain": [
       "array([   2,    4,    8,   16,   32,   64,  128,  256,  512, 1024])"
      ]
     },
     "execution_count": 186,
     "metadata": {},
     "output_type": "execute_result"
    }
   ],
   "source": [
    "np.logspace(1, 10, 10, base=2, dtype=np.int64)"
   ]
  },
  {
   "cell_type": "markdown",
   "metadata": {
    "id": "C4hb3shSpdBf"
   },
   "source": [
    "You can easily reshape arrays:"
   ]
  },
  {
   "cell_type": "code",
   "execution_count": 187,
   "metadata": {
    "id": "83xNeecTphm4"
   },
   "outputs": [
    {
     "data": {
      "text/plain": [
       "array([[[ 0,  1,  2,  3],\n",
       "        [ 4,  5,  6,  7],\n",
       "        [ 8,  9, 10, 11]],\n",
       "\n",
       "       [[12, 13, 14, 15],\n",
       "        [16, 17, 18, 19],\n",
       "        [20, 21, 22, 23]]])"
      ]
     },
     "execution_count": 187,
     "metadata": {},
     "output_type": "execute_result"
    }
   ],
   "source": [
    "np.arange(24).reshape(2, 3, 4)"
   ]
  },
  {
   "cell_type": "markdown",
   "metadata": {
    "id": "XS-w_lLJd8uN"
   },
   "source": [
    "The `strides` of an array tell us how many bytes we have to skip in memory to move to the next position along a certain axis. "
   ]
  },
  {
   "cell_type": "code",
   "execution_count": 188,
   "metadata": {
    "id": "U4CRnMEPd5dI"
   },
   "outputs": [
    {
     "name": "stdout",
     "output_type": "stream",
     "text": [
      "[[ 0  1  2  3  4  5]\n",
      " [ 6  7  8  9 10 11]]\n",
      "(48, 8)\n",
      "(48, 8)\n",
      "[[ 0  1]\n",
      " [ 2  3]\n",
      " [ 4  5]\n",
      " [ 6  7]\n",
      " [ 8  9]\n",
      " [10 11]]\n"
     ]
    },
    {
     "data": {
      "text/plain": [
       "(16, 8)"
      ]
     },
     "execution_count": 188,
     "metadata": {},
     "output_type": "execute_result"
    }
   ],
   "source": [
    "d = np.arange(12).reshape(2, -1)\n",
    "print(d)\n",
    "print(d.strides)\n",
    "print((d.shape[1] * d.dtype.itemsize, d.dtype.itemsize))\n",
    "d = d.reshape(-1, 2)\n",
    "print(d)\n",
    "d.strides"
   ]
  },
  {
   "cell_type": "markdown",
   "metadata": {
    "id": "F_evgKCtpzpk"
   },
   "source": [
    "or add dimensions of size 1:"
   ]
  },
  {
   "cell_type": "code",
   "execution_count": 189,
   "metadata": {
    "id": "It_JTbIiqCTH"
   },
   "outputs": [
    {
     "name": "stdout",
     "output_type": "stream",
     "text": [
      "[[0]\n",
      " [1]\n",
      " [2]]\n",
      "---\n",
      "[[0 1 2]]\n"
     ]
    }
   ],
   "source": [
    "print(np.arange(3)[:, np.newaxis])\n",
    "print('---')\n",
    "print(np.arange(3)[np.newaxis, :])\n",
    "\n",
    "#### Or similarly:\n",
    "\n",
    "# print(np.arange(3)[:, None])\n",
    "# print('---')\n",
    "# print(np.arange(3)[None, :])"
   ]
  },
  {
   "cell_type": "markdown",
   "metadata": {
    "id": "4eE5Uq8GqO75"
   },
   "source": [
    "Such dimensions are automatically [broadcast](https://numpy.org/doc/stable/user/basics.broadcasting.html) when doing mathematical operations:"
   ]
  },
  {
   "cell_type": "code",
   "execution_count": 190,
   "metadata": {
    "id": "VmO2UtjtqcEU"
   },
   "outputs": [
    {
     "name": "stdout",
     "output_type": "stream",
     "text": [
      "[[0 0 0]\n",
      " [1 1 1]\n",
      " [2 2 2]]\n",
      "\n",
      "[[0 1 2]\n",
      " [0 1 2]\n",
      " [0 1 2]]\n"
     ]
    }
   ],
   "source": [
    "print(np.arange(3)[:, np.newaxis] + np.zeros(shape=(3, 3), dtype=int))\n",
    "print()\n",
    "print(np.arange(3)[np.newaxis, :] + np.zeros(shape=(3, 3), dtype=int))"
   ]
  },
  {
   "cell_type": "markdown",
   "metadata": {
    "id": "CX6xP8UgX10b"
   },
   "source": [
    "When operating on two arrays, NumPy compares their shapes element-wise. It starts with the trailing (i.e. rightmost) dimensions and works its way left. Two dimensions are compatible when:\n",
    "\n",
    "*   they are equal, or\n",
    "*   one of them is 1\n",
    "\n",
    "If these conditions are not met, a `ValueError`: operands could not be broadcast together exception is thrown, indicating that the arrays have incompatible shapes. The size of the resulting array is the size that is not 1 along each axis of the inputs.\n",
    "\n",
    "When either of the dimensions compared is one, the other is used. In other words, dimensions with size 1 are stretched or “copied” to match the other."
   ]
  },
  {
   "cell_type": "markdown",
   "metadata": {
    "id": "aEE0W788XDRZ"
   },
   "source": [
    "![broadcasting_2[1].png](https://numpy.org/doc/stable/_images/broadcasting_2.png)\n",
    "\n"
   ]
  },
  {
   "cell_type": "markdown",
   "metadata": {
    "id": "pfmFlVopqzId"
   },
   "source": [
    "There is also a number of ways to stack arrays together:"
   ]
  },
  {
   "cell_type": "code",
   "execution_count": 191,
   "metadata": {
    "id": "WzfKzymGq3wX"
   },
   "outputs": [
    {
     "data": {
      "text/plain": [
       "array([[  0,   1,   2,   3,   4,   0,  -1],\n",
       "       [  5,   6,   7,   8,   9,  -2,  -3],\n",
       "       [ 10,  11,  12,  13,  14,  -4,  -5],\n",
       "       [ 15,  16,  17,  18,  19,  -6,  -7],\n",
       "       [ 20,  21,  22,  23,  24,  -8,  -9],\n",
       "       [ 25,  26,  27,  28,  29, -10, -11],\n",
       "       [ 30,  31,  32,  33,  34, -12, -13],\n",
       "       [ 35,  36,  37,  38,  39, -14, -15],\n",
       "       [ 40,  41,  42,  43,  44, -16, -17],\n",
       "       [ 45,  46,  47,  48,  49, -18, -19]])"
      ]
     },
     "execution_count": 191,
     "metadata": {},
     "output_type": "execute_result"
    }
   ],
   "source": [
    "matrix1 = np.arange(50).reshape(10, 5)\n",
    "matrix2 = -np.arange(20).reshape(10, 2)\n",
    "\n",
    "np.concatenate([matrix1, matrix2], axis=1)"
   ]
  },
  {
   "cell_type": "code",
   "execution_count": 192,
   "metadata": {
    "id": "EqJnzNehrYYP"
   },
   "outputs": [
    {
     "name": "stdout",
     "output_type": "stream",
     "text": [
      "[ 0  5 10 15 20 25 30 35 40 45]\n",
      "---\n",
      "[  0  -2  -4  -6  -8 -10 -12 -14 -16 -18]\n",
      "---\n",
      "[[  0   0]\n",
      " [  5  -2]\n",
      " [ 10  -4]\n",
      " [ 15  -6]\n",
      " [ 20  -8]\n",
      " [ 25 -10]\n",
      " [ 30 -12]\n",
      " [ 35 -14]\n",
      " [ 40 -16]\n",
      " [ 45 -18]]\n"
     ]
    }
   ],
   "source": [
    "A = matrix1[:,0]\n",
    "B = matrix2[:,0]\n",
    "\n",
    "print(A)\n",
    "print('---')\n",
    "print(B)\n",
    "print('---')\n",
    "print(np.stack([A, B], axis=1))\n",
    "\n"
   ]
  },
  {
   "cell_type": "markdown",
   "metadata": {
    "id": "MulZJhPBr6ie"
   },
   "source": [
    "Any matrix can be transposed easily:"
   ]
  },
  {
   "cell_type": "code",
   "execution_count": 193,
   "metadata": {
    "id": "KIeOCQ-wr_Q6"
   },
   "outputs": [
    {
     "name": "stdout",
     "output_type": "stream",
     "text": [
      "[[  0  -1]\n",
      " [ -2  -3]\n",
      " [ -4  -5]\n",
      " [ -6  -7]\n",
      " [ -8  -9]\n",
      " [-10 -11]\n",
      " [-12 -13]\n",
      " [-14 -15]\n",
      " [-16 -17]\n",
      " [-18 -19]]\n",
      "---\n",
      "[[  0  -2  -4  -6  -8 -10 -12 -14 -16 -18]\n",
      " [ -1  -3  -5  -7  -9 -11 -13 -15 -17 -19]]\n"
     ]
    }
   ],
   "source": [
    "print(matrix2)\n",
    "print('---')\n",
    "print(matrix2.T)"
   ]
  },
  {
   "cell_type": "markdown",
   "metadata": {
    "id": "HEP-dcq-fk5c"
   },
   "source": [
    "You don't create a copy of your data, but you change the `strides`"
   ]
  },
  {
   "cell_type": "code",
   "execution_count": 194,
   "metadata": {
    "id": "SIceEFFiMK5k"
   },
   "outputs": [
    {
     "name": "stdout",
     "output_type": "stream",
     "text": [
      "matrix2.shape = (10, 2)  strides = (16, 8)\n",
      "matrix2.T.shape = (2, 10)  strides = (8, 16)\n"
     ]
    }
   ],
   "source": [
    "print('matrix2.shape =', matrix2.shape, ' strides =', matrix2.strides)\n",
    "print('matrix2.T.shape =', matrix2.T.shape, ' strides =', matrix2.T.strides)"
   ]
  },
  {
   "cell_type": "code",
   "execution_count": 195,
   "metadata": {
    "id": "WnajGvSrsP-t"
   },
   "outputs": [
    {
     "data": {
      "text/plain": [
       "array([[0, 0, 0, 0, 0],\n",
       "       [1, 1, 1, 1, 1],\n",
       "       [2, 2, 2, 2, 2],\n",
       "       [3, 3, 3, 3, 3],\n",
       "       [4, 4, 4, 4, 4],\n",
       "       [5, 5, 5, 5, 5],\n",
       "       [6, 6, 6, 6, 6]])"
      ]
     },
     "execution_count": 195,
     "metadata": {},
     "output_type": "execute_result"
    }
   ],
   "source": [
    "# Your turn: make a (7 x 5) matrix with e_ij = i\n",
    "# (i - row number, j - column number)\n",
    "#\n",
    "# Avoid using loops.\n",
    "\n",
    "np.arange(7)[:,np.newaxis] + np.zeros(shape=(7,5), dtype=int)"
   ]
  },
  {
   "cell_type": "markdown",
   "metadata": {
    "id": "56X724n8nNK9"
   },
   "source": [
    "### How fast is it?"
   ]
  },
  {
   "cell_type": "markdown",
   "metadata": {
    "id": "J7ugCw1wJXWc"
   },
   "source": [
    "Let's compare computation time for python and numpy\n",
    "* Two arrays of 10^6 elements\n",
    " * first - from 0 to 1 000 000\n",
    " * second - from 99 to 1 000 099\n",
    " \n",
    "* Computing:\n",
    " * elemwise sum\n",
    " * elemwise product\n",
    " * square root of first array\n",
    " * sum of all elements in the first array\n",
    " "
   ]
  },
  {
   "cell_type": "code",
   "execution_count": 196,
   "metadata": {
    "id": "hkaH4AkUJXWd"
   },
   "outputs": [
    {
     "name": "stdout",
     "output_type": "stream",
     "text": [
      "CPU times: user 672 ms, sys: 36.2 ms, total: 708 ms\n",
      "Wall time: 710 ms\n"
     ]
    }
   ],
   "source": [
    "%%time \n",
    "# ^-- this \"magic\" measures and prints cell computation time\n",
    "\n",
    "# Option I: pure python\n",
    "arr_1 = range(1000000)\n",
    "arr_2 = range(99,1000099)\n",
    "\n",
    "\n",
    "a_sum = []\n",
    "a_prod = []\n",
    "sqrt_a1 = []\n",
    "for i in range(len(arr_1)):\n",
    "    a_sum.append(arr_1[i]+arr_2[i])\n",
    "    a_prod.append(arr_1[i]*arr_2[i])\n",
    "    a_sum.append(arr_1[i]**0.5)\n",
    "    \n",
    "arr_1_sum = sum(arr_1)\n"
   ]
  },
  {
   "cell_type": "code",
   "execution_count": 197,
   "metadata": {
    "id": "BasUnM6uJXWf"
   },
   "outputs": [
    {
     "name": "stdout",
     "output_type": "stream",
     "text": [
      "CPU times: user 213 ms, sys: 34.8 ms, total: 248 ms\n",
      "Wall time: 246 ms\n"
     ]
    }
   ],
   "source": [
    "%%time\n",
    "\n",
    "# Option II: start from python, convert to numpy\n",
    "arr_1 = range(1000000)\n",
    "arr_2 = range(99,1000099)\n",
    "\n",
    "arr_1, arr_2 = np.array(arr_1) , np.array(arr_2)\n",
    "\n",
    "\n",
    "a_sum = arr_1 + arr_2\n",
    "a_prod = arr_1 * arr_2\n",
    "sqrt_a1 = arr_1 ** .5\n",
    "arr_1_sum = arr_1.sum()\n"
   ]
  },
  {
   "cell_type": "code",
   "execution_count": 198,
   "metadata": {
    "id": "whU6BvJ6JXWi"
   },
   "outputs": [
    {
     "name": "stdout",
     "output_type": "stream",
     "text": [
      "CPU times: user 21.4 ms, sys: 4.14 ms, total: 25.5 ms\n",
      "Wall time: 24.4 ms\n"
     ]
    }
   ],
   "source": [
    "%%time\n",
    "\n",
    "# Option III: pure numpy\n",
    "arr_1 = np.arange(1000000)\n",
    "arr_2 = np.arange(99,1000099)\n",
    "\n",
    "a_sum = arr_1 + arr_2\n",
    "a_prod = arr_1 * arr_2\n",
    "sqrt_a1 = arr_1 ** .5\n",
    "arr_1_sum = arr_1.sum()\n"
   ]
  },
  {
   "cell_type": "markdown",
   "metadata": {
    "id": "7Jc5_Z5wJXWl"
   },
   "source": [
    "If you want more serious benchmarks, take a look at [this](http://brilliantlywrong.blogspot.ru/2015/01/benchmarks-of-speed-numpy-vs-all.html)."
   ]
  },
  {
   "cell_type": "markdown",
   "metadata": {
    "id": "H2cYqf_UJXWm"
   },
   "source": [
    "```\n",
    "\n",
    "```\n",
    "\n",
    "```\n",
    "\n",
    "```\n",
    "\n",
    "```\n",
    "\n",
    "```\n",
    "\n",
    "```\n",
    "\n",
    "```\n",
    "\n",
    "```\n",
    "\n",
    "```\n",
    "\n",
    "```\n",
    "\n",
    "```\n",
    "\n",
    "```\n",
    "\n",
    "```"
   ]
  },
  {
   "cell_type": "markdown",
   "metadata": {
    "id": "OPtaPKy3uI6A"
   },
   "source": [
    "### Other numpy functions and features"
   ]
  },
  {
   "cell_type": "markdown",
   "metadata": {
    "id": "S-8KaYRmuM4m"
   },
   "source": [
    "There's also a bunch of pre-implemented operations including logarithms, trigonometry, vector/matrix products and aggregations."
   ]
  },
  {
   "cell_type": "code",
   "execution_count": 199,
   "metadata": {
    "id": "RklGSklbJXWn"
   },
   "outputs": [
    {
     "name": "stdout",
     "output_type": "stream",
     "text": [
      "numpy.sum(a) =  15\n",
      "numpy.mean(a) =  3.0\n",
      "numpy.min(a) =  1\n",
      "numpy.argmin(b) =  4\n",
      "numpy.dot(a,b) =  35\n",
      "numpy.unique(['male','male','female','female','male']) =  ['female' 'male']\n"
     ]
    }
   ],
   "source": [
    "a = np.array([1,2,3,4,5])\n",
    "b = np.array([5,4,3,2,1])\n",
    "print(\"numpy.sum(a) = \", np.sum(a))\n",
    "print(\"numpy.mean(a) = \", np.mean(a))\n",
    "print(\"numpy.min(a) = \",  np.min(a))\n",
    "print(\"numpy.argmin(b) = \", np.argmin(b))  # index of minimal element\n",
    "print(\"numpy.dot(a,b) = \", np.dot(a, b))      # dot product. Also used for matrix/tensor multiplication\n",
    "print(\"numpy.unique(['male','male','female','female','male']) = \", np.unique(['male','male','female','female','male']))\n",
    "\n",
    "# and tons of other stuff. see http://bit.ly/2u5q430 ."
   ]
  },
  {
   "cell_type": "code",
   "execution_count": 200,
   "metadata": {
    "id": "4N_kpGw3NcGk"
   },
   "outputs": [
    {
     "name": "stdout",
     "output_type": "stream",
     "text": [
      "a.min() = 1\n",
      "a.mean() = 3.0\n"
     ]
    }
   ],
   "source": [
    "# most of this functions are also implemented as members of numpy arrays, e.g.:\n",
    "print('a.min() =', a.min())\n",
    "print('a.mean() =', a.mean())"
   ]
  },
  {
   "cell_type": "code",
   "execution_count": 201,
   "metadata": {
    "id": "Jkq07GT5JXW0"
   },
   "outputs": [
    {
     "name": "stdout",
     "output_type": "stream",
     "text": [
      "Boolean operations\n",
      "a =  [1 2 3 4 5]\n",
      "b =  [5 4 3 2 1]\n",
      "a > 2 [False False  True  True  True]\n",
      "numpy.logical_not(a>2) =  [ True  True False False False]\n",
      "numpy.logical_and(a>2,b>2) =  [False False  True False False]\n",
      "numpy.logical_or(a>2,b<3) =  [False False  True  True  True]\n",
      "\n",
      " shortcuts\n",
      "~(a > 2) =  [ True  True False False False]\n",
      "(a > 2) & (b > 2) =  [False False  True False False]\n",
      "(a > 2) | (b < 3) =  [False False  True  True  True]\n"
     ]
    }
   ],
   "source": [
    "print(\"Boolean operations\")\n",
    "\n",
    "print('a = ', a)\n",
    "print('b = ', b)\n",
    "print(\"a > 2\", a > 2)\n",
    "print(\"numpy.logical_not(a>2) = \", np.logical_not(a>2))\n",
    "print(\"numpy.logical_and(a>2,b>2) = \", np.logical_and(a > 2,b > 2))\n",
    "print(\"numpy.logical_or(a>2,b<3) = \", np.logical_or(a > 2, b < 3))\n",
    "\n",
    "print(\"\\n shortcuts\")\n",
    "print(\"~(a > 2) = \", ~(a > 2))                    #logical_not(a > 2)\n",
    "print(\"(a > 2) & (b > 2) = \", (a > 2) & (b > 2))  #logical_and\n",
    "print(\"(a > 2) | (b < 3) = \", (a > 2) | (b < 3))  #logical_or"
   ]
  },
  {
   "cell_type": "markdown",
   "metadata": {
    "id": "VBkDTTOLJXW3"
   },
   "source": [
    "Another numpy feature we'll need is indexing: selecting elements from an array. \n",
    "Aside from python indexes and slices (e.g. a[1:4]), numpy also allows you to select several elements at once."
   ]
  },
  {
   "cell_type": "code",
   "execution_count": 202,
   "metadata": {
    "id": "RDtdSCMAPyLL"
   },
   "outputs": [
    {
     "name": "stdout",
     "output_type": "stream",
     "text": [
      "[[ 0  1  2  3  4  5]\n",
      " [ 6  7  8  9 10 11]\n",
      " [12 13 14 15 16 17]\n",
      " [18 19 20 21 22 23]]\n",
      "---\n",
      "[[ 6  8 10]\n",
      " [12 14 16]]\n"
     ]
    }
   ],
   "source": [
    "a = np.arange(24).reshape(4, 6)\n",
    "print(a)\n",
    "print('---')\n",
    "print(a[1:3, 0:6:2])"
   ]
  },
  {
   "cell_type": "code",
   "execution_count": 203,
   "metadata": {
    "id": "MhXHB6fgJXW4"
   },
   "outputs": [
    {
     "name": "stdout",
     "output_type": "stream",
     "text": [
      "a =  [ 0  1  4  9 16 25]\n",
      "Select by element index\n",
      "a[[1,2,5]] =  [ 1  4 25]\n",
      "\n",
      "Select by boolean mask\n",
      "a[a > 5] =  [ 9 16 25]\n",
      "(a % 2 == 0) = [ True False  True False  True False]\n",
      "a[a % 2 == 0] = [ 0  4 16]\n"
     ]
    }
   ],
   "source": [
    "a = np.array([0, 1, 4, 9, 16, 25])\n",
    "ix = np.array([1,2,5])\n",
    "print(\"a = \", a)\n",
    "print(\"Select by element index\")\n",
    "print(\"a[[1,2,5]] = \", a[ix])\n",
    "\n",
    "print(\"\\nSelect by boolean mask\")\n",
    "print(\"a[a > 5] = \", a[a > 5])     # select all elements in a that are greater than 5\n",
    "print(\"(a % 2 == 0) =\", a % 2 == 0) # True for even, False for odd\n",
    "print(\"a[a % 2 == 0] =\", a[a % 2 == 0]) # select all elements in a that are even"
   ]
  },
  {
   "cell_type": "markdown",
   "metadata": {
    "id": "iD6NjAugj_3y"
   },
   "source": [
    "## Part III: Loading data with Pandas"
   ]
  },
  {
   "cell_type": "markdown",
   "metadata": {
    "id": "K0OYaO-6JXVb"
   },
   "source": [
    "Pandas is a library that helps you load the data, prepare it and perform some lightweight analysis. The god object here is the `pandas.DataFrame` - a 2d table with batteries included (it actually runs numpy under the hood).\n",
    "\n",
    "Let's donwload the data and perform a small **E**xploratory **D**ata **A**nalysis."
   ]
  },
  {
   "cell_type": "markdown",
   "metadata": {
    "id": "zLZSNMxNFR-W"
   },
   "source": [
    "The most convinient and proper way to do it that allows you to avoid using your local storage looks as follows:\n",
    "\n",
    "1. Go to your Kaggle account, Scroll to API section and Click on Create New API Token - It will download kaggle.json file on your **local** machine.\n",
    "\n",
    "2. Upload it to the Google Colab env.\n",
    "\n",
    "3. Move it using comands bellow. "
   ]
  },
  {
   "cell_type": "code",
   "execution_count": 204,
   "metadata": {
    "collapsed": true,
    "id": "dBaZHbB1Dt5Z"
   },
   "outputs": [
    {
     "name": "stdout",
     "output_type": "stream",
     "text": [
      "cp: kaggle.json: No such file or directory\n",
      "chmod: /Users/nikitasenyatkin/.kaggle/kaggle.json: No such file or directory\n"
     ]
    }
   ],
   "source": [
    "!mkdir ~/.kaggle\n",
    "!cp kaggle.json ~/.kaggle/\n",
    "!chmod 600 ~/.kaggle/kaggle.json"
   ]
  },
  {
   "cell_type": "code",
   "execution_count": 205,
   "metadata": {
    "id": "ZLUjnvLAuCYU"
   },
   "outputs": [
    {
     "name": "stdout",
     "output_type": "stream",
     "text": [
      "zsh:1: command not found: kaggle\n"
     ]
    }
   ],
   "source": [
    "!kaggle datasets list -s tabular-playground-series"
   ]
  },
  {
   "cell_type": "markdown",
   "metadata": {
    "id": "T18TbqfPFXUL"
   },
   "source": [
    "Download the data using the name of the competition you want to work with. Don't forget to accept the rules of the competition. "
   ]
  },
  {
   "cell_type": "code",
   "execution_count": 206,
   "metadata": {
    "id": "uX-OE6_kDPuO"
   },
   "outputs": [
    {
     "name": "stdout",
     "output_type": "stream",
     "text": [
      "zsh:1: command not found: kaggle\n"
     ]
    }
   ],
   "source": [
    "!kaggle competitions download -c 'tabular-playground-series-aug-2022'"
   ]
  },
  {
   "cell_type": "markdown",
   "metadata": {
    "id": "MiDXtzg7F7UT"
   },
   "source": [
    "In case you don't have Kaggle account or you just want to avoid the steps mentioned above, you can just download it from the course repository. "
   ]
  },
  {
   "cell_type": "code",
   "execution_count": 207,
   "metadata": {
    "id": "NyJE7OdxESxz"
   },
   "outputs": [
    {
     "name": "stdout",
     "output_type": "stream",
     "text": [
      "--2023-09-23 17:58:44--  https://raw.githubusercontent.com/HSE-LAMBDA/MLDM-2022/main/01-intro/tabular-playground-series-aug-2022.zip\n",
      "Resolving raw.githubusercontent.com (raw.githubusercontent.com)... 2606:50c0:8003::154, 2606:50c0:8001::154, 2606:50c0:8002::154, ...\n",
      "Connecting to raw.githubusercontent.com (raw.githubusercontent.com)|2606:50c0:8003::154|:443... connected.\n",
      "HTTP request sent, awaiting response... 200 OK\n",
      "Length: 2379850 (2.3M) [application/zip]\n",
      "Saving to: 'tabular-playground-series-aug-2022.zip.1'\n",
      "\n",
      "tabular-playground- 100%[===================>]   2.27M  9.11MB/s    in 0.2s    \n",
      "\n",
      "2023-09-23 17:58:44 (9.11 MB/s) - 'tabular-playground-series-aug-2022.zip.1' saved [2379850/2379850]\n",
      "\n"
     ]
    }
   ],
   "source": [
    "!wget https://raw.githubusercontent.com/HSE-LAMBDA/MLDM-2022/main/01-intro/tabular-playground-series-aug-2022.zip"
   ]
  },
  {
   "cell_type": "code",
   "execution_count": 208,
   "metadata": {
    "id": "tMiK_rJcEFLl"
   },
   "outputs": [
    {
     "name": "stdout",
     "output_type": "stream",
     "text": [
      "Archive:  tabular-playground-series-aug-2022.zip\n",
      "replace data/sample_submission.csv? [y]es, [n]o, [A]ll, [N]one, [r]ename: ^C\n"
     ]
    }
   ],
   "source": [
    "!unzip tabular-playground-series-aug-2022.zip -d data"
   ]
  },
  {
   "cell_type": "markdown",
   "metadata": {
    "id": "SOte8Vs8Gp4C"
   },
   "source": [
    "Now let's use Pandas to read the data."
   ]
  },
  {
   "cell_type": "code",
   "execution_count": 210,
   "metadata": {
    "id": "G36oVo3RJXVc"
   },
   "outputs": [],
   "source": [
    "import pandas as pd\n",
    "data = pd.read_csv('data/train.csv',\n",
    "                    index_col='id') # this yields a pandas.DataFrame\n",
    "data.index += 1"
   ]
  },
  {
   "cell_type": "code",
   "execution_count": 211,
   "metadata": {
    "id": "gEvLO4nvJXVf"
   },
   "outputs": [
    {
     "data": {
      "text/html": [
       "<div>\n",
       "<style scoped>\n",
       "    .dataframe tbody tr th:only-of-type {\n",
       "        vertical-align: middle;\n",
       "    }\n",
       "\n",
       "    .dataframe tbody tr th {\n",
       "        vertical-align: top;\n",
       "    }\n",
       "\n",
       "    .dataframe thead th {\n",
       "        text-align: right;\n",
       "    }\n",
       "</style>\n",
       "<table border=\"1\" class=\"dataframe\">\n",
       "  <thead>\n",
       "    <tr style=\"text-align: right;\">\n",
       "      <th></th>\n",
       "      <th>product_code</th>\n",
       "      <th>loading</th>\n",
       "      <th>attribute_0</th>\n",
       "      <th>attribute_1</th>\n",
       "      <th>attribute_2</th>\n",
       "      <th>attribute_3</th>\n",
       "      <th>measurement_0</th>\n",
       "      <th>measurement_1</th>\n",
       "      <th>measurement_2</th>\n",
       "      <th>measurement_3</th>\n",
       "      <th>...</th>\n",
       "      <th>measurement_9</th>\n",
       "      <th>measurement_10</th>\n",
       "      <th>measurement_11</th>\n",
       "      <th>measurement_12</th>\n",
       "      <th>measurement_13</th>\n",
       "      <th>measurement_14</th>\n",
       "      <th>measurement_15</th>\n",
       "      <th>measurement_16</th>\n",
       "      <th>measurement_17</th>\n",
       "      <th>failure</th>\n",
       "    </tr>\n",
       "    <tr>\n",
       "      <th>id</th>\n",
       "      <th></th>\n",
       "      <th></th>\n",
       "      <th></th>\n",
       "      <th></th>\n",
       "      <th></th>\n",
       "      <th></th>\n",
       "      <th></th>\n",
       "      <th></th>\n",
       "      <th></th>\n",
       "      <th></th>\n",
       "      <th></th>\n",
       "      <th></th>\n",
       "      <th></th>\n",
       "      <th></th>\n",
       "      <th></th>\n",
       "      <th></th>\n",
       "      <th></th>\n",
       "      <th></th>\n",
       "      <th></th>\n",
       "      <th></th>\n",
       "      <th></th>\n",
       "    </tr>\n",
       "  </thead>\n",
       "  <tbody>\n",
       "    <tr>\n",
       "      <th>1</th>\n",
       "      <td>A</td>\n",
       "      <td>80.10</td>\n",
       "      <td>material_7</td>\n",
       "      <td>material_8</td>\n",
       "      <td>9</td>\n",
       "      <td>5</td>\n",
       "      <td>7</td>\n",
       "      <td>8</td>\n",
       "      <td>4</td>\n",
       "      <td>18.040</td>\n",
       "      <td>...</td>\n",
       "      <td>10.672</td>\n",
       "      <td>15.859</td>\n",
       "      <td>17.594</td>\n",
       "      <td>15.193</td>\n",
       "      <td>15.029</td>\n",
       "      <td>NaN</td>\n",
       "      <td>13.034</td>\n",
       "      <td>14.684</td>\n",
       "      <td>764.100</td>\n",
       "      <td>0</td>\n",
       "    </tr>\n",
       "    <tr>\n",
       "      <th>2</th>\n",
       "      <td>A</td>\n",
       "      <td>84.89</td>\n",
       "      <td>material_7</td>\n",
       "      <td>material_8</td>\n",
       "      <td>9</td>\n",
       "      <td>5</td>\n",
       "      <td>14</td>\n",
       "      <td>3</td>\n",
       "      <td>3</td>\n",
       "      <td>18.213</td>\n",
       "      <td>...</td>\n",
       "      <td>12.448</td>\n",
       "      <td>17.947</td>\n",
       "      <td>17.915</td>\n",
       "      <td>11.755</td>\n",
       "      <td>14.732</td>\n",
       "      <td>15.425</td>\n",
       "      <td>14.395</td>\n",
       "      <td>15.631</td>\n",
       "      <td>682.057</td>\n",
       "      <td>0</td>\n",
       "    </tr>\n",
       "    <tr>\n",
       "      <th>3</th>\n",
       "      <td>A</td>\n",
       "      <td>82.43</td>\n",
       "      <td>material_7</td>\n",
       "      <td>material_8</td>\n",
       "      <td>9</td>\n",
       "      <td>5</td>\n",
       "      <td>12</td>\n",
       "      <td>1</td>\n",
       "      <td>5</td>\n",
       "      <td>18.057</td>\n",
       "      <td>...</td>\n",
       "      <td>12.715</td>\n",
       "      <td>15.607</td>\n",
       "      <td>NaN</td>\n",
       "      <td>13.798</td>\n",
       "      <td>16.711</td>\n",
       "      <td>18.631</td>\n",
       "      <td>14.094</td>\n",
       "      <td>17.946</td>\n",
       "      <td>663.376</td>\n",
       "      <td>0</td>\n",
       "    </tr>\n",
       "    <tr>\n",
       "      <th>4</th>\n",
       "      <td>A</td>\n",
       "      <td>101.07</td>\n",
       "      <td>material_7</td>\n",
       "      <td>material_8</td>\n",
       "      <td>9</td>\n",
       "      <td>5</td>\n",
       "      <td>13</td>\n",
       "      <td>2</td>\n",
       "      <td>6</td>\n",
       "      <td>17.295</td>\n",
       "      <td>...</td>\n",
       "      <td>12.471</td>\n",
       "      <td>16.346</td>\n",
       "      <td>18.377</td>\n",
       "      <td>10.020</td>\n",
       "      <td>15.250</td>\n",
       "      <td>15.562</td>\n",
       "      <td>16.154</td>\n",
       "      <td>17.172</td>\n",
       "      <td>826.282</td>\n",
       "      <td>0</td>\n",
       "    </tr>\n",
       "    <tr>\n",
       "      <th>5</th>\n",
       "      <td>A</td>\n",
       "      <td>188.06</td>\n",
       "      <td>material_7</td>\n",
       "      <td>material_8</td>\n",
       "      <td>9</td>\n",
       "      <td>5</td>\n",
       "      <td>9</td>\n",
       "      <td>2</td>\n",
       "      <td>8</td>\n",
       "      <td>19.346</td>\n",
       "      <td>...</td>\n",
       "      <td>10.337</td>\n",
       "      <td>17.082</td>\n",
       "      <td>19.932</td>\n",
       "      <td>12.428</td>\n",
       "      <td>16.182</td>\n",
       "      <td>12.760</td>\n",
       "      <td>13.153</td>\n",
       "      <td>16.412</td>\n",
       "      <td>579.885</td>\n",
       "      <td>0</td>\n",
       "    </tr>\n",
       "  </tbody>\n",
       "</table>\n",
       "<p>5 rows × 25 columns</p>\n",
       "</div>"
      ],
      "text/plain": [
       "   product_code  loading attribute_0 attribute_1  attribute_2  attribute_3  \\\n",
       "id                                                                           \n",
       "1             A    80.10  material_7  material_8            9            5   \n",
       "2             A    84.89  material_7  material_8            9            5   \n",
       "3             A    82.43  material_7  material_8            9            5   \n",
       "4             A   101.07  material_7  material_8            9            5   \n",
       "5             A   188.06  material_7  material_8            9            5   \n",
       "\n",
       "    measurement_0  measurement_1  measurement_2  measurement_3  ...  \\\n",
       "id                                                              ...   \n",
       "1               7              8              4         18.040  ...   \n",
       "2              14              3              3         18.213  ...   \n",
       "3              12              1              5         18.057  ...   \n",
       "4              13              2              6         17.295  ...   \n",
       "5               9              2              8         19.346  ...   \n",
       "\n",
       "    measurement_9  measurement_10  measurement_11  measurement_12  \\\n",
       "id                                                                  \n",
       "1          10.672          15.859          17.594          15.193   \n",
       "2          12.448          17.947          17.915          11.755   \n",
       "3          12.715          15.607             NaN          13.798   \n",
       "4          12.471          16.346          18.377          10.020   \n",
       "5          10.337          17.082          19.932          12.428   \n",
       "\n",
       "    measurement_13  measurement_14  measurement_15  measurement_16  \\\n",
       "id                                                                   \n",
       "1           15.029             NaN          13.034          14.684   \n",
       "2           14.732          15.425          14.395          15.631   \n",
       "3           16.711          18.631          14.094          17.946   \n",
       "4           15.250          15.562          16.154          17.172   \n",
       "5           16.182          12.760          13.153          16.412   \n",
       "\n",
       "    measurement_17  failure  \n",
       "id                           \n",
       "1          764.100        0  \n",
       "2          682.057        0  \n",
       "3          663.376        0  \n",
       "4          826.282        0  \n",
       "5          579.885        0  \n",
       "\n",
       "[5 rows x 25 columns]"
      ]
     },
     "execution_count": 211,
     "metadata": {},
     "output_type": "execute_result"
    }
   ],
   "source": [
    "# Take a look at the data\n",
    "\n",
    "data.head() # selects top 5 lines"
   ]
  },
  {
   "cell_type": "code",
   "execution_count": 212,
   "metadata": {
    "id": "SXpNDAgk3N6W"
   },
   "outputs": [
    {
     "data": {
      "text/html": [
       "<div>\n",
       "<style scoped>\n",
       "    .dataframe tbody tr th:only-of-type {\n",
       "        vertical-align: middle;\n",
       "    }\n",
       "\n",
       "    .dataframe tbody tr th {\n",
       "        vertical-align: top;\n",
       "    }\n",
       "\n",
       "    .dataframe thead th {\n",
       "        text-align: right;\n",
       "    }\n",
       "</style>\n",
       "<table border=\"1\" class=\"dataframe\">\n",
       "  <thead>\n",
       "    <tr style=\"text-align: right;\">\n",
       "      <th></th>\n",
       "      <th>product_code</th>\n",
       "      <th>loading</th>\n",
       "      <th>attribute_0</th>\n",
       "      <th>attribute_1</th>\n",
       "      <th>attribute_2</th>\n",
       "      <th>attribute_3</th>\n",
       "      <th>measurement_0</th>\n",
       "      <th>measurement_1</th>\n",
       "      <th>measurement_2</th>\n",
       "      <th>measurement_3</th>\n",
       "      <th>...</th>\n",
       "      <th>measurement_9</th>\n",
       "      <th>measurement_10</th>\n",
       "      <th>measurement_11</th>\n",
       "      <th>measurement_12</th>\n",
       "      <th>measurement_13</th>\n",
       "      <th>measurement_14</th>\n",
       "      <th>measurement_15</th>\n",
       "      <th>measurement_16</th>\n",
       "      <th>measurement_17</th>\n",
       "      <th>failure</th>\n",
       "    </tr>\n",
       "    <tr>\n",
       "      <th>id</th>\n",
       "      <th></th>\n",
       "      <th></th>\n",
       "      <th></th>\n",
       "      <th></th>\n",
       "      <th></th>\n",
       "      <th></th>\n",
       "      <th></th>\n",
       "      <th></th>\n",
       "      <th></th>\n",
       "      <th></th>\n",
       "      <th></th>\n",
       "      <th></th>\n",
       "      <th></th>\n",
       "      <th></th>\n",
       "      <th></th>\n",
       "      <th></th>\n",
       "      <th></th>\n",
       "      <th></th>\n",
       "      <th></th>\n",
       "      <th></th>\n",
       "      <th></th>\n",
       "    </tr>\n",
       "  </thead>\n",
       "  <tbody>\n",
       "    <tr>\n",
       "      <th>1</th>\n",
       "      <td>A</td>\n",
       "      <td>80.10</td>\n",
       "      <td>material_7</td>\n",
       "      <td>material_8</td>\n",
       "      <td>9</td>\n",
       "      <td>5</td>\n",
       "      <td>7</td>\n",
       "      <td>8</td>\n",
       "      <td>4</td>\n",
       "      <td>18.040</td>\n",
       "      <td>...</td>\n",
       "      <td>10.672</td>\n",
       "      <td>15.859</td>\n",
       "      <td>17.594</td>\n",
       "      <td>15.193</td>\n",
       "      <td>15.029</td>\n",
       "      <td>NaN</td>\n",
       "      <td>13.034</td>\n",
       "      <td>14.684</td>\n",
       "      <td>764.100</td>\n",
       "      <td>0</td>\n",
       "    </tr>\n",
       "    <tr>\n",
       "      <th>2</th>\n",
       "      <td>A</td>\n",
       "      <td>84.89</td>\n",
       "      <td>material_7</td>\n",
       "      <td>material_8</td>\n",
       "      <td>9</td>\n",
       "      <td>5</td>\n",
       "      <td>14</td>\n",
       "      <td>3</td>\n",
       "      <td>3</td>\n",
       "      <td>18.213</td>\n",
       "      <td>...</td>\n",
       "      <td>12.448</td>\n",
       "      <td>17.947</td>\n",
       "      <td>17.915</td>\n",
       "      <td>11.755</td>\n",
       "      <td>14.732</td>\n",
       "      <td>15.425</td>\n",
       "      <td>14.395</td>\n",
       "      <td>15.631</td>\n",
       "      <td>682.057</td>\n",
       "      <td>0</td>\n",
       "    </tr>\n",
       "    <tr>\n",
       "      <th>3</th>\n",
       "      <td>A</td>\n",
       "      <td>82.43</td>\n",
       "      <td>material_7</td>\n",
       "      <td>material_8</td>\n",
       "      <td>9</td>\n",
       "      <td>5</td>\n",
       "      <td>12</td>\n",
       "      <td>1</td>\n",
       "      <td>5</td>\n",
       "      <td>18.057</td>\n",
       "      <td>...</td>\n",
       "      <td>12.715</td>\n",
       "      <td>15.607</td>\n",
       "      <td>NaN</td>\n",
       "      <td>13.798</td>\n",
       "      <td>16.711</td>\n",
       "      <td>18.631</td>\n",
       "      <td>14.094</td>\n",
       "      <td>17.946</td>\n",
       "      <td>663.376</td>\n",
       "      <td>0</td>\n",
       "    </tr>\n",
       "    <tr>\n",
       "      <th>4</th>\n",
       "      <td>A</td>\n",
       "      <td>101.07</td>\n",
       "      <td>material_7</td>\n",
       "      <td>material_8</td>\n",
       "      <td>9</td>\n",
       "      <td>5</td>\n",
       "      <td>13</td>\n",
       "      <td>2</td>\n",
       "      <td>6</td>\n",
       "      <td>17.295</td>\n",
       "      <td>...</td>\n",
       "      <td>12.471</td>\n",
       "      <td>16.346</td>\n",
       "      <td>18.377</td>\n",
       "      <td>10.020</td>\n",
       "      <td>15.250</td>\n",
       "      <td>15.562</td>\n",
       "      <td>16.154</td>\n",
       "      <td>17.172</td>\n",
       "      <td>826.282</td>\n",
       "      <td>0</td>\n",
       "    </tr>\n",
       "    <tr>\n",
       "      <th>5</th>\n",
       "      <td>A</td>\n",
       "      <td>188.06</td>\n",
       "      <td>material_7</td>\n",
       "      <td>material_8</td>\n",
       "      <td>9</td>\n",
       "      <td>5</td>\n",
       "      <td>9</td>\n",
       "      <td>2</td>\n",
       "      <td>8</td>\n",
       "      <td>19.346</td>\n",
       "      <td>...</td>\n",
       "      <td>10.337</td>\n",
       "      <td>17.082</td>\n",
       "      <td>19.932</td>\n",
       "      <td>12.428</td>\n",
       "      <td>16.182</td>\n",
       "      <td>12.760</td>\n",
       "      <td>13.153</td>\n",
       "      <td>16.412</td>\n",
       "      <td>579.885</td>\n",
       "      <td>0</td>\n",
       "    </tr>\n",
       "    <tr>\n",
       "      <th>...</th>\n",
       "      <td>...</td>\n",
       "      <td>...</td>\n",
       "      <td>...</td>\n",
       "      <td>...</td>\n",
       "      <td>...</td>\n",
       "      <td>...</td>\n",
       "      <td>...</td>\n",
       "      <td>...</td>\n",
       "      <td>...</td>\n",
       "      <td>...</td>\n",
       "      <td>...</td>\n",
       "      <td>...</td>\n",
       "      <td>...</td>\n",
       "      <td>...</td>\n",
       "      <td>...</td>\n",
       "      <td>...</td>\n",
       "      <td>...</td>\n",
       "      <td>...</td>\n",
       "      <td>...</td>\n",
       "      <td>...</td>\n",
       "      <td>...</td>\n",
       "    </tr>\n",
       "    <tr>\n",
       "      <th>26566</th>\n",
       "      <td>E</td>\n",
       "      <td>158.95</td>\n",
       "      <td>material_7</td>\n",
       "      <td>material_6</td>\n",
       "      <td>6</td>\n",
       "      <td>9</td>\n",
       "      <td>6</td>\n",
       "      <td>16</td>\n",
       "      <td>4</td>\n",
       "      <td>16.301</td>\n",
       "      <td>...</td>\n",
       "      <td>NaN</td>\n",
       "      <td>12.177</td>\n",
       "      <td>17.942</td>\n",
       "      <td>10.112</td>\n",
       "      <td>15.795</td>\n",
       "      <td>18.572</td>\n",
       "      <td>16.144</td>\n",
       "      <td>NaN</td>\n",
       "      <td>729.131</td>\n",
       "      <td>0</td>\n",
       "    </tr>\n",
       "    <tr>\n",
       "      <th>26567</th>\n",
       "      <td>E</td>\n",
       "      <td>146.02</td>\n",
       "      <td>material_7</td>\n",
       "      <td>material_6</td>\n",
       "      <td>6</td>\n",
       "      <td>9</td>\n",
       "      <td>10</td>\n",
       "      <td>12</td>\n",
       "      <td>8</td>\n",
       "      <td>17.543</td>\n",
       "      <td>...</td>\n",
       "      <td>11.242</td>\n",
       "      <td>14.179</td>\n",
       "      <td>20.564</td>\n",
       "      <td>10.234</td>\n",
       "      <td>14.450</td>\n",
       "      <td>14.322</td>\n",
       "      <td>13.146</td>\n",
       "      <td>16.471</td>\n",
       "      <td>853.924</td>\n",
       "      <td>0</td>\n",
       "    </tr>\n",
       "    <tr>\n",
       "      <th>26568</th>\n",
       "      <td>E</td>\n",
       "      <td>115.62</td>\n",
       "      <td>material_7</td>\n",
       "      <td>material_6</td>\n",
       "      <td>6</td>\n",
       "      <td>9</td>\n",
       "      <td>1</td>\n",
       "      <td>10</td>\n",
       "      <td>1</td>\n",
       "      <td>15.670</td>\n",
       "      <td>...</td>\n",
       "      <td>11.407</td>\n",
       "      <td>16.437</td>\n",
       "      <td>17.476</td>\n",
       "      <td>8.668</td>\n",
       "      <td>15.069</td>\n",
       "      <td>16.599</td>\n",
       "      <td>15.590</td>\n",
       "      <td>14.065</td>\n",
       "      <td>750.364</td>\n",
       "      <td>0</td>\n",
       "    </tr>\n",
       "    <tr>\n",
       "      <th>26569</th>\n",
       "      <td>E</td>\n",
       "      <td>106.38</td>\n",
       "      <td>material_7</td>\n",
       "      <td>material_6</td>\n",
       "      <td>6</td>\n",
       "      <td>9</td>\n",
       "      <td>2</td>\n",
       "      <td>9</td>\n",
       "      <td>4</td>\n",
       "      <td>18.059</td>\n",
       "      <td>...</td>\n",
       "      <td>11.392</td>\n",
       "      <td>17.064</td>\n",
       "      <td>17.814</td>\n",
       "      <td>14.928</td>\n",
       "      <td>16.273</td>\n",
       "      <td>15.485</td>\n",
       "      <td>13.624</td>\n",
       "      <td>12.865</td>\n",
       "      <td>730.156</td>\n",
       "      <td>0</td>\n",
       "    </tr>\n",
       "    <tr>\n",
       "      <th>26570</th>\n",
       "      <td>E</td>\n",
       "      <td>131.20</td>\n",
       "      <td>material_7</td>\n",
       "      <td>material_6</td>\n",
       "      <td>6</td>\n",
       "      <td>9</td>\n",
       "      <td>6</td>\n",
       "      <td>19</td>\n",
       "      <td>1</td>\n",
       "      <td>18.034</td>\n",
       "      <td>...</td>\n",
       "      <td>10.611</td>\n",
       "      <td>15.603</td>\n",
       "      <td>19.703</td>\n",
       "      <td>11.006</td>\n",
       "      <td>15.875</td>\n",
       "      <td>13.366</td>\n",
       "      <td>16.527</td>\n",
       "      <td>17.890</td>\n",
       "      <td>602.354</td>\n",
       "      <td>0</td>\n",
       "    </tr>\n",
       "  </tbody>\n",
       "</table>\n",
       "<p>26570 rows × 25 columns</p>\n",
       "</div>"
      ],
      "text/plain": [
       "      product_code  loading attribute_0 attribute_1  attribute_2  attribute_3  \\\n",
       "id                                                                              \n",
       "1                A    80.10  material_7  material_8            9            5   \n",
       "2                A    84.89  material_7  material_8            9            5   \n",
       "3                A    82.43  material_7  material_8            9            5   \n",
       "4                A   101.07  material_7  material_8            9            5   \n",
       "5                A   188.06  material_7  material_8            9            5   \n",
       "...            ...      ...         ...         ...          ...          ...   \n",
       "26566            E   158.95  material_7  material_6            6            9   \n",
       "26567            E   146.02  material_7  material_6            6            9   \n",
       "26568            E   115.62  material_7  material_6            6            9   \n",
       "26569            E   106.38  material_7  material_6            6            9   \n",
       "26570            E   131.20  material_7  material_6            6            9   \n",
       "\n",
       "       measurement_0  measurement_1  measurement_2  measurement_3  ...  \\\n",
       "id                                                                 ...   \n",
       "1                  7              8              4         18.040  ...   \n",
       "2                 14              3              3         18.213  ...   \n",
       "3                 12              1              5         18.057  ...   \n",
       "4                 13              2              6         17.295  ...   \n",
       "5                  9              2              8         19.346  ...   \n",
       "...              ...            ...            ...            ...  ...   \n",
       "26566              6             16              4         16.301  ...   \n",
       "26567             10             12              8         17.543  ...   \n",
       "26568              1             10              1         15.670  ...   \n",
       "26569              2              9              4         18.059  ...   \n",
       "26570              6             19              1         18.034  ...   \n",
       "\n",
       "       measurement_9  measurement_10  measurement_11  measurement_12  \\\n",
       "id                                                                     \n",
       "1             10.672          15.859          17.594          15.193   \n",
       "2             12.448          17.947          17.915          11.755   \n",
       "3             12.715          15.607             NaN          13.798   \n",
       "4             12.471          16.346          18.377          10.020   \n",
       "5             10.337          17.082          19.932          12.428   \n",
       "...              ...             ...             ...             ...   \n",
       "26566            NaN          12.177          17.942          10.112   \n",
       "26567         11.242          14.179          20.564          10.234   \n",
       "26568         11.407          16.437          17.476           8.668   \n",
       "26569         11.392          17.064          17.814          14.928   \n",
       "26570         10.611          15.603          19.703          11.006   \n",
       "\n",
       "       measurement_13  measurement_14  measurement_15  measurement_16  \\\n",
       "id                                                                      \n",
       "1              15.029             NaN          13.034          14.684   \n",
       "2              14.732          15.425          14.395          15.631   \n",
       "3              16.711          18.631          14.094          17.946   \n",
       "4              15.250          15.562          16.154          17.172   \n",
       "5              16.182          12.760          13.153          16.412   \n",
       "...               ...             ...             ...             ...   \n",
       "26566          15.795          18.572          16.144             NaN   \n",
       "26567          14.450          14.322          13.146          16.471   \n",
       "26568          15.069          16.599          15.590          14.065   \n",
       "26569          16.273          15.485          13.624          12.865   \n",
       "26570          15.875          13.366          16.527          17.890   \n",
       "\n",
       "       measurement_17  failure  \n",
       "id                              \n",
       "1             764.100        0  \n",
       "2             682.057        0  \n",
       "3             663.376        0  \n",
       "4             826.282        0  \n",
       "5             579.885        0  \n",
       "...               ...      ...  \n",
       "26566         729.131        0  \n",
       "26567         853.924        0  \n",
       "26568         750.364        0  \n",
       "26569         730.156        0  \n",
       "26570         602.354        0  \n",
       "\n",
       "[26570 rows x 25 columns]"
      ]
     },
     "execution_count": 212,
     "metadata": {},
     "output_type": "execute_result"
    }
   ],
   "source": [
    "pd.options.display.max_rows = 10\n",
    "data"
   ]
  },
  {
   "cell_type": "code",
   "execution_count": 213,
   "metadata": {
    "id": "Zpm0KYxF3jGs"
   },
   "outputs": [
    {
     "data": {
      "text/html": [
       "<div>\n",
       "<style scoped>\n",
       "    .dataframe tbody tr th:only-of-type {\n",
       "        vertical-align: middle;\n",
       "    }\n",
       "\n",
       "    .dataframe tbody tr th {\n",
       "        vertical-align: top;\n",
       "    }\n",
       "\n",
       "    .dataframe thead th {\n",
       "        text-align: right;\n",
       "    }\n",
       "</style>\n",
       "<table border=\"1\" class=\"dataframe\">\n",
       "  <thead>\n",
       "    <tr style=\"text-align: right;\">\n",
       "      <th></th>\n",
       "      <th>product_code</th>\n",
       "      <th>loading</th>\n",
       "      <th>attribute_0</th>\n",
       "      <th>attribute_1</th>\n",
       "      <th>attribute_2</th>\n",
       "      <th>attribute_3</th>\n",
       "      <th>measurement_0</th>\n",
       "      <th>measurement_1</th>\n",
       "      <th>measurement_2</th>\n",
       "      <th>measurement_3</th>\n",
       "      <th>...</th>\n",
       "      <th>measurement_9</th>\n",
       "      <th>measurement_10</th>\n",
       "      <th>measurement_11</th>\n",
       "      <th>measurement_12</th>\n",
       "      <th>measurement_13</th>\n",
       "      <th>measurement_14</th>\n",
       "      <th>measurement_15</th>\n",
       "      <th>measurement_16</th>\n",
       "      <th>measurement_17</th>\n",
       "      <th>failure</th>\n",
       "    </tr>\n",
       "    <tr>\n",
       "      <th>id</th>\n",
       "      <th></th>\n",
       "      <th></th>\n",
       "      <th></th>\n",
       "      <th></th>\n",
       "      <th></th>\n",
       "      <th></th>\n",
       "      <th></th>\n",
       "      <th></th>\n",
       "      <th></th>\n",
       "      <th></th>\n",
       "      <th></th>\n",
       "      <th></th>\n",
       "      <th></th>\n",
       "      <th></th>\n",
       "      <th></th>\n",
       "      <th></th>\n",
       "      <th></th>\n",
       "      <th></th>\n",
       "      <th></th>\n",
       "      <th></th>\n",
       "      <th></th>\n",
       "    </tr>\n",
       "  </thead>\n",
       "  <tbody>\n",
       "    <tr>\n",
       "      <th>26214</th>\n",
       "      <td>E</td>\n",
       "      <td>95.18</td>\n",
       "      <td>material_7</td>\n",
       "      <td>material_6</td>\n",
       "      <td>6</td>\n",
       "      <td>9</td>\n",
       "      <td>6</td>\n",
       "      <td>8</td>\n",
       "      <td>4</td>\n",
       "      <td>18.265</td>\n",
       "      <td>...</td>\n",
       "      <td>12.152</td>\n",
       "      <td>16.734</td>\n",
       "      <td>19.268</td>\n",
       "      <td>11.737</td>\n",
       "      <td>15.895</td>\n",
       "      <td>13.229</td>\n",
       "      <td>16.440</td>\n",
       "      <td>16.386</td>\n",
       "      <td>737.253</td>\n",
       "      <td>0</td>\n",
       "    </tr>\n",
       "    <tr>\n",
       "      <th>12932</th>\n",
       "      <td>C</td>\n",
       "      <td>101.98</td>\n",
       "      <td>material_7</td>\n",
       "      <td>material_8</td>\n",
       "      <td>5</td>\n",
       "      <td>8</td>\n",
       "      <td>15</td>\n",
       "      <td>11</td>\n",
       "      <td>2</td>\n",
       "      <td>18.877</td>\n",
       "      <td>...</td>\n",
       "      <td>12.364</td>\n",
       "      <td>13.823</td>\n",
       "      <td>19.386</td>\n",
       "      <td>13.018</td>\n",
       "      <td>16.337</td>\n",
       "      <td>18.497</td>\n",
       "      <td>14.963</td>\n",
       "      <td>17.838</td>\n",
       "      <td>NaN</td>\n",
       "      <td>1</td>\n",
       "    </tr>\n",
       "    <tr>\n",
       "      <th>4004</th>\n",
       "      <td>A</td>\n",
       "      <td>152.28</td>\n",
       "      <td>material_7</td>\n",
       "      <td>material_8</td>\n",
       "      <td>9</td>\n",
       "      <td>5</td>\n",
       "      <td>7</td>\n",
       "      <td>2</td>\n",
       "      <td>6</td>\n",
       "      <td>19.143</td>\n",
       "      <td>...</td>\n",
       "      <td>10.721</td>\n",
       "      <td>15.862</td>\n",
       "      <td>17.128</td>\n",
       "      <td>11.559</td>\n",
       "      <td>16.063</td>\n",
       "      <td>16.083</td>\n",
       "      <td>14.109</td>\n",
       "      <td>15.273</td>\n",
       "      <td>634.097</td>\n",
       "      <td>0</td>\n",
       "    </tr>\n",
       "    <tr>\n",
       "      <th>4378</th>\n",
       "      <td>A</td>\n",
       "      <td>168.06</td>\n",
       "      <td>material_7</td>\n",
       "      <td>material_8</td>\n",
       "      <td>9</td>\n",
       "      <td>5</td>\n",
       "      <td>9</td>\n",
       "      <td>6</td>\n",
       "      <td>5</td>\n",
       "      <td>16.633</td>\n",
       "      <td>...</td>\n",
       "      <td>10.573</td>\n",
       "      <td>14.059</td>\n",
       "      <td>21.333</td>\n",
       "      <td>10.444</td>\n",
       "      <td>16.017</td>\n",
       "      <td>18.141</td>\n",
       "      <td>19.996</td>\n",
       "      <td>13.977</td>\n",
       "      <td>562.736</td>\n",
       "      <td>0</td>\n",
       "    </tr>\n",
       "    <tr>\n",
       "      <th>13571</th>\n",
       "      <td>C</td>\n",
       "      <td>104.04</td>\n",
       "      <td>material_7</td>\n",
       "      <td>material_8</td>\n",
       "      <td>5</td>\n",
       "      <td>8</td>\n",
       "      <td>15</td>\n",
       "      <td>6</td>\n",
       "      <td>4</td>\n",
       "      <td>17.311</td>\n",
       "      <td>...</td>\n",
       "      <td>NaN</td>\n",
       "      <td>15.972</td>\n",
       "      <td>19.273</td>\n",
       "      <td>8.130</td>\n",
       "      <td>15.617</td>\n",
       "      <td>15.239</td>\n",
       "      <td>16.087</td>\n",
       "      <td>NaN</td>\n",
       "      <td>724.461</td>\n",
       "      <td>0</td>\n",
       "    </tr>\n",
       "  </tbody>\n",
       "</table>\n",
       "<p>5 rows × 25 columns</p>\n",
       "</div>"
      ],
      "text/plain": [
       "      product_code  loading attribute_0 attribute_1  attribute_2  attribute_3  \\\n",
       "id                                                                              \n",
       "26214            E    95.18  material_7  material_6            6            9   \n",
       "12932            C   101.98  material_7  material_8            5            8   \n",
       "4004             A   152.28  material_7  material_8            9            5   \n",
       "4378             A   168.06  material_7  material_8            9            5   \n",
       "13571            C   104.04  material_7  material_8            5            8   \n",
       "\n",
       "       measurement_0  measurement_1  measurement_2  measurement_3  ...  \\\n",
       "id                                                                 ...   \n",
       "26214              6              8              4         18.265  ...   \n",
       "12932             15             11              2         18.877  ...   \n",
       "4004               7              2              6         19.143  ...   \n",
       "4378               9              6              5         16.633  ...   \n",
       "13571             15              6              4         17.311  ...   \n",
       "\n",
       "       measurement_9  measurement_10  measurement_11  measurement_12  \\\n",
       "id                                                                     \n",
       "26214         12.152          16.734          19.268          11.737   \n",
       "12932         12.364          13.823          19.386          13.018   \n",
       "4004          10.721          15.862          17.128          11.559   \n",
       "4378          10.573          14.059          21.333          10.444   \n",
       "13571            NaN          15.972          19.273           8.130   \n",
       "\n",
       "       measurement_13  measurement_14  measurement_15  measurement_16  \\\n",
       "id                                                                      \n",
       "26214          15.895          13.229          16.440          16.386   \n",
       "12932          16.337          18.497          14.963          17.838   \n",
       "4004           16.063          16.083          14.109          15.273   \n",
       "4378           16.017          18.141          19.996          13.977   \n",
       "13571          15.617          15.239          16.087             NaN   \n",
       "\n",
       "       measurement_17  failure  \n",
       "id                              \n",
       "26214         737.253        0  \n",
       "12932             NaN        1  \n",
       "4004          634.097        0  \n",
       "4378          562.736        0  \n",
       "13571         724.461        0  \n",
       "\n",
       "[5 rows x 25 columns]"
      ]
     },
     "execution_count": 213,
     "metadata": {},
     "output_type": "execute_result"
    }
   ],
   "source": [
    "data.sample(5)"
   ]
  },
  {
   "cell_type": "markdown",
   "metadata": {
    "id": "EDHw3sHgJXVj"
   },
   "source": [
    "#### About the data\n",
    "This data represents the results of a large product testing study. For each `product_code` you are given a number of product `attributes` (fixed for the code) as well as a number of `measurement` values for each individual product, representing various lab testing methods. Each product is used in a simulated real-world environment experiment, and and absorbs a certain amount of fluid (`loading`) to see whether or not it fails.\n",
    "\n",
    "Your task is to use the data to predict individual product failures of new codes with their individual lab test results. The training data includes the target `failure` and you need to predict the likelihood each test id will experience a failure."
   ]
  },
  {
   "cell_type": "code",
   "execution_count": 214,
   "metadata": {
    "id": "PWmRBFP6JXVl"
   },
   "outputs": [
    {
     "name": "stdout",
     "output_type": "stream",
     "text": [
      "len(data) =  26570\n",
      "data.shape =  (26570, 25)\n"
     ]
    }
   ],
   "source": [
    "# table dimensions\n",
    "print(\"len(data) = \", len(data))\n",
    "print(\"data.shape = \", data.shape)"
   ]
  },
  {
   "cell_type": "code",
   "execution_count": 215,
   "metadata": {
    "id": "dt6itIHBJXVn"
   },
   "outputs": [
    {
     "name": "stdout",
     "output_type": "stream",
     "text": [
      "product_code               A\n",
      "loading               101.07\n",
      "attribute_0       material_7\n",
      "attribute_1       material_8\n",
      "attribute_2                9\n",
      "                     ...    \n",
      "measurement_14        15.562\n",
      "measurement_15        16.154\n",
      "measurement_16        17.172\n",
      "measurement_17       826.282\n",
      "failure                    0\n",
      "Name: 4, Length: 25, dtype: object\n"
     ]
    }
   ],
   "source": [
    "# select a single row\n",
    "print(data.loc[4])"
   ]
  },
  {
   "cell_type": "code",
   "execution_count": 216,
   "metadata": {
    "id": "wdpiKMr7JXVq"
   },
   "outputs": [
    {
     "name": "stdout",
     "output_type": "stream",
     "text": [
      "id\n",
      "1      80.10\n",
      "2      84.89\n",
      "3      82.43\n",
      "4     101.07\n",
      "5     188.06\n",
      "6      75.35\n",
      "7     161.71\n",
      "8     177.92\n",
      "9     109.50\n",
      "10     98.72\n",
      "Name: loading, dtype: float64\n"
     ]
    }
   ],
   "source": [
    "# select a single column.\n",
    "loadings = data[\"loading\"] # alternatively: data.loading\n",
    "print(loadings.loc[:10])"
   ]
  },
  {
   "cell_type": "code",
   "execution_count": 217,
   "metadata": {
    "id": "-ao3OhDtJXVu"
   },
   "outputs": [
    {
     "data": {
      "text/html": [
       "<div>\n",
       "<style scoped>\n",
       "    .dataframe tbody tr th:only-of-type {\n",
       "        vertical-align: middle;\n",
       "    }\n",
       "\n",
       "    .dataframe tbody tr th {\n",
       "        vertical-align: top;\n",
       "    }\n",
       "\n",
       "    .dataframe thead th {\n",
       "        text-align: right;\n",
       "    }\n",
       "</style>\n",
       "<table border=\"1\" class=\"dataframe\">\n",
       "  <thead>\n",
       "    <tr style=\"text-align: right;\">\n",
       "      <th></th>\n",
       "      <th>loading</th>\n",
       "      <th>failure</th>\n",
       "    </tr>\n",
       "    <tr>\n",
       "      <th>id</th>\n",
       "      <th></th>\n",
       "      <th></th>\n",
       "    </tr>\n",
       "  </thead>\n",
       "  <tbody>\n",
       "    <tr>\n",
       "      <th>5</th>\n",
       "      <td>188.06</td>\n",
       "      <td>0</td>\n",
       "    </tr>\n",
       "    <tr>\n",
       "      <th>6</th>\n",
       "      <td>75.35</td>\n",
       "      <td>0</td>\n",
       "    </tr>\n",
       "    <tr>\n",
       "      <th>7</th>\n",
       "      <td>161.71</td>\n",
       "      <td>1</td>\n",
       "    </tr>\n",
       "    <tr>\n",
       "      <th>8</th>\n",
       "      <td>177.92</td>\n",
       "      <td>1</td>\n",
       "    </tr>\n",
       "    <tr>\n",
       "      <th>9</th>\n",
       "      <td>109.50</td>\n",
       "      <td>0</td>\n",
       "    </tr>\n",
       "    <tr>\n",
       "      <th>10</th>\n",
       "      <td>98.72</td>\n",
       "      <td>0</td>\n",
       "    </tr>\n",
       "  </tbody>\n",
       "</table>\n",
       "</div>"
      ],
      "text/plain": [
       "    loading  failure\n",
       "id                  \n",
       "5    188.06        0\n",
       "6     75.35        0\n",
       "7    161.71        1\n",
       "8    177.92        1\n",
       "9    109.50        0\n",
       "10    98.72        0"
      ]
     },
     "execution_count": 217,
     "metadata": {},
     "output_type": "execute_result"
    }
   ],
   "source": [
    "# select several columns and rows at once\n",
    "data.loc[5:10, (\"loading\", \"failure\")]    # alternatively: data[[\"loading\",\"failure\"]].loc[5:10]"
   ]
  },
  {
   "cell_type": "markdown",
   "metadata": {
    "id": "h7jqzyjLp9qe"
   },
   "source": [
    "### `loc` vs `iloc`"
   ]
  },
  {
   "cell_type": "markdown",
   "metadata": {
    "id": "qR-MSiiiqDB4"
   },
   "source": [
    "There are two ways of indexing the rows in pandas:\n",
    " *   by index column values (`id` in our case) – use `data.loc` for that\n",
    " *   by positional index - use `data.iloc` for that"
   ]
  },
  {
   "cell_type": "markdown",
   "metadata": {
    "id": "uXCOFn0Fqr1M"
   },
   "source": [
    "Note that index column starts from 1, so positional index 0 will correspond to index column value 1, positional 1 to index column value 2, and so on:"
   ]
  },
  {
   "cell_type": "code",
   "execution_count": 218,
   "metadata": {
    "id": "PWD9vfcIqjAH"
   },
   "outputs": [
    {
     "name": "stdout",
     "output_type": "stream",
     "text": [
      "Int64Index([    1,     2,     3,     4,     5,     6,     7,     8,     9,\n",
      "               10,\n",
      "            ...\n",
      "            26561, 26562, 26563, 26564, 26565, 26566, 26567, 26568, 26569,\n",
      "            26570],\n",
      "           dtype='int64', name='id', length=26570)\n",
      "------\n",
      "data.iloc[0]:\n",
      "product_code               A\n",
      "loading                 80.1\n",
      "attribute_0       material_7\n",
      "attribute_1       material_8\n",
      "attribute_2                9\n",
      "                     ...    \n",
      "measurement_14           NaN\n",
      "measurement_15        13.034\n",
      "measurement_16        14.684\n",
      "measurement_17         764.1\n",
      "failure                    0\n",
      "Name: 1, Length: 25, dtype: object\n",
      "------\n",
      "data.loc[1]:\n",
      "product_code               A\n",
      "loading                 80.1\n",
      "attribute_0       material_7\n",
      "attribute_1       material_8\n",
      "attribute_2                9\n",
      "                     ...    \n",
      "measurement_14           NaN\n",
      "measurement_15        13.034\n",
      "measurement_16        14.684\n",
      "measurement_17         764.1\n",
      "failure                    0\n",
      "Name: 1, Length: 25, dtype: object\n"
     ]
    }
   ],
   "source": [
    "print(data.index)\n",
    "print('------')\n",
    "print(\"data.iloc[0]:\")\n",
    "print(data.iloc[0])\n",
    "print('------')\n",
    "print(\"data.loc[1]:\")\n",
    "print(data.loc[1])"
   ]
  },
  {
   "cell_type": "markdown",
   "metadata": {
    "id": "zqkU4nzfgxok"
   },
   "source": [
    "Also note that when indexing with `.loc` both slice ends are included:"
   ]
  },
  {
   "cell_type": "code",
   "execution_count": 219,
   "metadata": {
    "id": "lI0C2cG8g3To"
   },
   "outputs": [
    {
     "data": {
      "text/html": [
       "<div>\n",
       "<style scoped>\n",
       "    .dataframe tbody tr th:only-of-type {\n",
       "        vertical-align: middle;\n",
       "    }\n",
       "\n",
       "    .dataframe tbody tr th {\n",
       "        vertical-align: top;\n",
       "    }\n",
       "\n",
       "    .dataframe thead th {\n",
       "        text-align: right;\n",
       "    }\n",
       "</style>\n",
       "<table border=\"1\" class=\"dataframe\">\n",
       "  <thead>\n",
       "    <tr style=\"text-align: right;\">\n",
       "      <th></th>\n",
       "      <th>product_code</th>\n",
       "      <th>loading</th>\n",
       "      <th>attribute_0</th>\n",
       "      <th>attribute_1</th>\n",
       "      <th>attribute_2</th>\n",
       "      <th>attribute_3</th>\n",
       "      <th>measurement_0</th>\n",
       "      <th>measurement_1</th>\n",
       "      <th>measurement_2</th>\n",
       "      <th>measurement_3</th>\n",
       "      <th>...</th>\n",
       "      <th>measurement_9</th>\n",
       "      <th>measurement_10</th>\n",
       "      <th>measurement_11</th>\n",
       "      <th>measurement_12</th>\n",
       "      <th>measurement_13</th>\n",
       "      <th>measurement_14</th>\n",
       "      <th>measurement_15</th>\n",
       "      <th>measurement_16</th>\n",
       "      <th>measurement_17</th>\n",
       "      <th>failure</th>\n",
       "    </tr>\n",
       "    <tr>\n",
       "      <th>id</th>\n",
       "      <th></th>\n",
       "      <th></th>\n",
       "      <th></th>\n",
       "      <th></th>\n",
       "      <th></th>\n",
       "      <th></th>\n",
       "      <th></th>\n",
       "      <th></th>\n",
       "      <th></th>\n",
       "      <th></th>\n",
       "      <th></th>\n",
       "      <th></th>\n",
       "      <th></th>\n",
       "      <th></th>\n",
       "      <th></th>\n",
       "      <th></th>\n",
       "      <th></th>\n",
       "      <th></th>\n",
       "      <th></th>\n",
       "      <th></th>\n",
       "      <th></th>\n",
       "    </tr>\n",
       "  </thead>\n",
       "  <tbody>\n",
       "    <tr>\n",
       "      <th>2</th>\n",
       "      <td>A</td>\n",
       "      <td>84.89</td>\n",
       "      <td>material_7</td>\n",
       "      <td>material_8</td>\n",
       "      <td>9</td>\n",
       "      <td>5</td>\n",
       "      <td>14</td>\n",
       "      <td>3</td>\n",
       "      <td>3</td>\n",
       "      <td>18.213</td>\n",
       "      <td>...</td>\n",
       "      <td>12.448</td>\n",
       "      <td>17.947</td>\n",
       "      <td>17.915</td>\n",
       "      <td>11.755</td>\n",
       "      <td>14.732</td>\n",
       "      <td>15.425</td>\n",
       "      <td>14.395</td>\n",
       "      <td>15.631</td>\n",
       "      <td>682.057</td>\n",
       "      <td>0</td>\n",
       "    </tr>\n",
       "    <tr>\n",
       "      <th>3</th>\n",
       "      <td>A</td>\n",
       "      <td>82.43</td>\n",
       "      <td>material_7</td>\n",
       "      <td>material_8</td>\n",
       "      <td>9</td>\n",
       "      <td>5</td>\n",
       "      <td>12</td>\n",
       "      <td>1</td>\n",
       "      <td>5</td>\n",
       "      <td>18.057</td>\n",
       "      <td>...</td>\n",
       "      <td>12.715</td>\n",
       "      <td>15.607</td>\n",
       "      <td>NaN</td>\n",
       "      <td>13.798</td>\n",
       "      <td>16.711</td>\n",
       "      <td>18.631</td>\n",
       "      <td>14.094</td>\n",
       "      <td>17.946</td>\n",
       "      <td>663.376</td>\n",
       "      <td>0</td>\n",
       "    </tr>\n",
       "  </tbody>\n",
       "</table>\n",
       "<p>2 rows × 25 columns</p>\n",
       "</div>"
      ],
      "text/plain": [
       "   product_code  loading attribute_0 attribute_1  attribute_2  attribute_3  \\\n",
       "id                                                                           \n",
       "2             A    84.89  material_7  material_8            9            5   \n",
       "3             A    82.43  material_7  material_8            9            5   \n",
       "\n",
       "    measurement_0  measurement_1  measurement_2  measurement_3  ...  \\\n",
       "id                                                              ...   \n",
       "2              14              3              3         18.213  ...   \n",
       "3              12              1              5         18.057  ...   \n",
       "\n",
       "    measurement_9  measurement_10  measurement_11  measurement_12  \\\n",
       "id                                                                  \n",
       "2          12.448          17.947          17.915          11.755   \n",
       "3          12.715          15.607             NaN          13.798   \n",
       "\n",
       "    measurement_13  measurement_14  measurement_15  measurement_16  \\\n",
       "id                                                                   \n",
       "2           14.732          15.425          14.395          15.631   \n",
       "3           16.711          18.631          14.094          17.946   \n",
       "\n",
       "    measurement_17  failure  \n",
       "id                           \n",
       "2          682.057        0  \n",
       "3          663.376        0  \n",
       "\n",
       "[2 rows x 25 columns]"
      ]
     },
     "execution_count": 219,
     "metadata": {},
     "output_type": "execute_result"
    }
   ],
   "source": [
    "data.loc[2:3]"
   ]
  },
  {
   "cell_type": "markdown",
   "metadata": {
    "id": "kMf9SqMwg7Uw"
   },
   "source": [
    "while with `.iloc` the end is excluded:"
   ]
  },
  {
   "cell_type": "code",
   "execution_count": 220,
   "metadata": {
    "id": "S5JFLNVag6aP"
   },
   "outputs": [
    {
     "data": {
      "text/html": [
       "<div>\n",
       "<style scoped>\n",
       "    .dataframe tbody tr th:only-of-type {\n",
       "        vertical-align: middle;\n",
       "    }\n",
       "\n",
       "    .dataframe tbody tr th {\n",
       "        vertical-align: top;\n",
       "    }\n",
       "\n",
       "    .dataframe thead th {\n",
       "        text-align: right;\n",
       "    }\n",
       "</style>\n",
       "<table border=\"1\" class=\"dataframe\">\n",
       "  <thead>\n",
       "    <tr style=\"text-align: right;\">\n",
       "      <th></th>\n",
       "      <th>product_code</th>\n",
       "      <th>loading</th>\n",
       "      <th>attribute_0</th>\n",
       "      <th>attribute_1</th>\n",
       "      <th>attribute_2</th>\n",
       "      <th>attribute_3</th>\n",
       "      <th>measurement_0</th>\n",
       "      <th>measurement_1</th>\n",
       "      <th>measurement_2</th>\n",
       "      <th>measurement_3</th>\n",
       "      <th>...</th>\n",
       "      <th>measurement_9</th>\n",
       "      <th>measurement_10</th>\n",
       "      <th>measurement_11</th>\n",
       "      <th>measurement_12</th>\n",
       "      <th>measurement_13</th>\n",
       "      <th>measurement_14</th>\n",
       "      <th>measurement_15</th>\n",
       "      <th>measurement_16</th>\n",
       "      <th>measurement_17</th>\n",
       "      <th>failure</th>\n",
       "    </tr>\n",
       "    <tr>\n",
       "      <th>id</th>\n",
       "      <th></th>\n",
       "      <th></th>\n",
       "      <th></th>\n",
       "      <th></th>\n",
       "      <th></th>\n",
       "      <th></th>\n",
       "      <th></th>\n",
       "      <th></th>\n",
       "      <th></th>\n",
       "      <th></th>\n",
       "      <th></th>\n",
       "      <th></th>\n",
       "      <th></th>\n",
       "      <th></th>\n",
       "      <th></th>\n",
       "      <th></th>\n",
       "      <th></th>\n",
       "      <th></th>\n",
       "      <th></th>\n",
       "      <th></th>\n",
       "      <th></th>\n",
       "    </tr>\n",
       "  </thead>\n",
       "  <tbody>\n",
       "    <tr>\n",
       "      <th>2</th>\n",
       "      <td>A</td>\n",
       "      <td>84.89</td>\n",
       "      <td>material_7</td>\n",
       "      <td>material_8</td>\n",
       "      <td>9</td>\n",
       "      <td>5</td>\n",
       "      <td>14</td>\n",
       "      <td>3</td>\n",
       "      <td>3</td>\n",
       "      <td>18.213</td>\n",
       "      <td>...</td>\n",
       "      <td>12.448</td>\n",
       "      <td>17.947</td>\n",
       "      <td>17.915</td>\n",
       "      <td>11.755</td>\n",
       "      <td>14.732</td>\n",
       "      <td>15.425</td>\n",
       "      <td>14.395</td>\n",
       "      <td>15.631</td>\n",
       "      <td>682.057</td>\n",
       "      <td>0</td>\n",
       "    </tr>\n",
       "  </tbody>\n",
       "</table>\n",
       "<p>1 rows × 25 columns</p>\n",
       "</div>"
      ],
      "text/plain": [
       "   product_code  loading attribute_0 attribute_1  attribute_2  attribute_3  \\\n",
       "id                                                                           \n",
       "2             A    84.89  material_7  material_8            9            5   \n",
       "\n",
       "    measurement_0  measurement_1  measurement_2  measurement_3  ...  \\\n",
       "id                                                              ...   \n",
       "2              14              3              3         18.213  ...   \n",
       "\n",
       "    measurement_9  measurement_10  measurement_11  measurement_12  \\\n",
       "id                                                                  \n",
       "2          12.448          17.947          17.915          11.755   \n",
       "\n",
       "    measurement_13  measurement_14  measurement_15  measurement_16  \\\n",
       "id                                                                   \n",
       "2           14.732          15.425          14.395          15.631   \n",
       "\n",
       "    measurement_17  failure  \n",
       "id                           \n",
       "2          682.057        0  \n",
       "\n",
       "[1 rows x 25 columns]"
      ]
     },
     "execution_count": 220,
     "metadata": {},
     "output_type": "execute_result"
    }
   ],
   "source": [
    "data.iloc[1:2]"
   ]
  },
  {
   "cell_type": "markdown",
   "metadata": {
    "id": "FJgo08cJi6i6"
   },
   "source": [
    "More complicated indexing (similar to boolean indexing in numpy):"
   ]
  },
  {
   "cell_type": "code",
   "execution_count": 221,
   "metadata": {
    "id": "aMkc1lqHPjAo"
   },
   "outputs": [
    {
     "data": {
      "text/html": [
       "<div>\n",
       "<style scoped>\n",
       "    .dataframe tbody tr th:only-of-type {\n",
       "        vertical-align: middle;\n",
       "    }\n",
       "\n",
       "    .dataframe tbody tr th {\n",
       "        vertical-align: top;\n",
       "    }\n",
       "\n",
       "    .dataframe thead th {\n",
       "        text-align: right;\n",
       "    }\n",
       "</style>\n",
       "<table border=\"1\" class=\"dataframe\">\n",
       "  <thead>\n",
       "    <tr style=\"text-align: right;\">\n",
       "      <th></th>\n",
       "      <th>product_code</th>\n",
       "      <th>loading</th>\n",
       "      <th>attribute_0</th>\n",
       "      <th>attribute_1</th>\n",
       "      <th>attribute_2</th>\n",
       "      <th>attribute_3</th>\n",
       "      <th>measurement_0</th>\n",
       "      <th>measurement_1</th>\n",
       "      <th>measurement_2</th>\n",
       "      <th>measurement_3</th>\n",
       "      <th>...</th>\n",
       "      <th>measurement_9</th>\n",
       "      <th>measurement_10</th>\n",
       "      <th>measurement_11</th>\n",
       "      <th>measurement_12</th>\n",
       "      <th>measurement_13</th>\n",
       "      <th>measurement_14</th>\n",
       "      <th>measurement_15</th>\n",
       "      <th>measurement_16</th>\n",
       "      <th>measurement_17</th>\n",
       "      <th>failure</th>\n",
       "    </tr>\n",
       "    <tr>\n",
       "      <th>id</th>\n",
       "      <th></th>\n",
       "      <th></th>\n",
       "      <th></th>\n",
       "      <th></th>\n",
       "      <th></th>\n",
       "      <th></th>\n",
       "      <th></th>\n",
       "      <th></th>\n",
       "      <th></th>\n",
       "      <th></th>\n",
       "      <th></th>\n",
       "      <th></th>\n",
       "      <th></th>\n",
       "      <th></th>\n",
       "      <th></th>\n",
       "      <th></th>\n",
       "      <th></th>\n",
       "      <th></th>\n",
       "      <th></th>\n",
       "      <th></th>\n",
       "      <th></th>\n",
       "    </tr>\n",
       "  </thead>\n",
       "  <tbody>\n",
       "    <tr>\n",
       "      <th>16116</th>\n",
       "      <td>D</td>\n",
       "      <td>76.89</td>\n",
       "      <td>material_7</td>\n",
       "      <td>material_5</td>\n",
       "      <td>6</td>\n",
       "      <td>6</td>\n",
       "      <td>16</td>\n",
       "      <td>2</td>\n",
       "      <td>7</td>\n",
       "      <td>17.427</td>\n",
       "      <td>...</td>\n",
       "      <td>11.536</td>\n",
       "      <td>14.690</td>\n",
       "      <td>19.622</td>\n",
       "      <td>11.082</td>\n",
       "      <td>16.323</td>\n",
       "      <td>15.633</td>\n",
       "      <td>16.153</td>\n",
       "      <td>15.640</td>\n",
       "      <td>648.974</td>\n",
       "      <td>1</td>\n",
       "    </tr>\n",
       "    <tr>\n",
       "      <th>16122</th>\n",
       "      <td>D</td>\n",
       "      <td>82.59</td>\n",
       "      <td>material_7</td>\n",
       "      <td>material_5</td>\n",
       "      <td>6</td>\n",
       "      <td>6</td>\n",
       "      <td>9</td>\n",
       "      <td>8</td>\n",
       "      <td>5</td>\n",
       "      <td>18.209</td>\n",
       "      <td>...</td>\n",
       "      <td>13.024</td>\n",
       "      <td>18.911</td>\n",
       "      <td>17.562</td>\n",
       "      <td>11.571</td>\n",
       "      <td>15.633</td>\n",
       "      <td>18.695</td>\n",
       "      <td>15.811</td>\n",
       "      <td>17.630</td>\n",
       "      <td>630.983</td>\n",
       "      <td>0</td>\n",
       "    </tr>\n",
       "    <tr>\n",
       "      <th>16131</th>\n",
       "      <td>D</td>\n",
       "      <td>79.63</td>\n",
       "      <td>material_7</td>\n",
       "      <td>material_5</td>\n",
       "      <td>6</td>\n",
       "      <td>6</td>\n",
       "      <td>6</td>\n",
       "      <td>10</td>\n",
       "      <td>6</td>\n",
       "      <td>16.872</td>\n",
       "      <td>...</td>\n",
       "      <td>11.191</td>\n",
       "      <td>15.864</td>\n",
       "      <td>19.760</td>\n",
       "      <td>10.698</td>\n",
       "      <td>15.342</td>\n",
       "      <td>14.826</td>\n",
       "      <td>14.867</td>\n",
       "      <td>15.224</td>\n",
       "      <td>885.344</td>\n",
       "      <td>0</td>\n",
       "    </tr>\n",
       "    <tr>\n",
       "      <th>16133</th>\n",
       "      <td>D</td>\n",
       "      <td>88.14</td>\n",
       "      <td>material_7</td>\n",
       "      <td>material_5</td>\n",
       "      <td>6</td>\n",
       "      <td>6</td>\n",
       "      <td>4</td>\n",
       "      <td>6</td>\n",
       "      <td>4</td>\n",
       "      <td>17.103</td>\n",
       "      <td>...</td>\n",
       "      <td>10.433</td>\n",
       "      <td>19.147</td>\n",
       "      <td>18.607</td>\n",
       "      <td>NaN</td>\n",
       "      <td>15.041</td>\n",
       "      <td>16.656</td>\n",
       "      <td>15.965</td>\n",
       "      <td>16.455</td>\n",
       "      <td>854.214</td>\n",
       "      <td>0</td>\n",
       "    </tr>\n",
       "    <tr>\n",
       "      <th>16148</th>\n",
       "      <td>D</td>\n",
       "      <td>72.51</td>\n",
       "      <td>material_7</td>\n",
       "      <td>material_5</td>\n",
       "      <td>6</td>\n",
       "      <td>6</td>\n",
       "      <td>12</td>\n",
       "      <td>11</td>\n",
       "      <td>11</td>\n",
       "      <td>17.850</td>\n",
       "      <td>...</td>\n",
       "      <td>11.346</td>\n",
       "      <td>16.086</td>\n",
       "      <td>18.208</td>\n",
       "      <td>10.497</td>\n",
       "      <td>16.168</td>\n",
       "      <td>16.089</td>\n",
       "      <td>16.473</td>\n",
       "      <td>17.427</td>\n",
       "      <td>NaN</td>\n",
       "      <td>0</td>\n",
       "    </tr>\n",
       "    <tr>\n",
       "      <th>...</th>\n",
       "      <td>...</td>\n",
       "      <td>...</td>\n",
       "      <td>...</td>\n",
       "      <td>...</td>\n",
       "      <td>...</td>\n",
       "      <td>...</td>\n",
       "      <td>...</td>\n",
       "      <td>...</td>\n",
       "      <td>...</td>\n",
       "      <td>...</td>\n",
       "      <td>...</td>\n",
       "      <td>...</td>\n",
       "      <td>...</td>\n",
       "      <td>...</td>\n",
       "      <td>...</td>\n",
       "      <td>...</td>\n",
       "      <td>...</td>\n",
       "      <td>...</td>\n",
       "      <td>...</td>\n",
       "      <td>...</td>\n",
       "      <td>...</td>\n",
       "    </tr>\n",
       "    <tr>\n",
       "      <th>21198</th>\n",
       "      <td>D</td>\n",
       "      <td>87.18</td>\n",
       "      <td>material_7</td>\n",
       "      <td>material_5</td>\n",
       "      <td>6</td>\n",
       "      <td>6</td>\n",
       "      <td>8</td>\n",
       "      <td>7</td>\n",
       "      <td>9</td>\n",
       "      <td>NaN</td>\n",
       "      <td>...</td>\n",
       "      <td>11.826</td>\n",
       "      <td>18.091</td>\n",
       "      <td>18.773</td>\n",
       "      <td>10.738</td>\n",
       "      <td>14.331</td>\n",
       "      <td>17.264</td>\n",
       "      <td>16.253</td>\n",
       "      <td>15.556</td>\n",
       "      <td>970.503</td>\n",
       "      <td>0</td>\n",
       "    </tr>\n",
       "    <tr>\n",
       "      <th>21209</th>\n",
       "      <td>D</td>\n",
       "      <td>79.96</td>\n",
       "      <td>material_7</td>\n",
       "      <td>material_5</td>\n",
       "      <td>6</td>\n",
       "      <td>6</td>\n",
       "      <td>7</td>\n",
       "      <td>9</td>\n",
       "      <td>10</td>\n",
       "      <td>18.332</td>\n",
       "      <td>...</td>\n",
       "      <td>11.193</td>\n",
       "      <td>18.477</td>\n",
       "      <td>NaN</td>\n",
       "      <td>9.209</td>\n",
       "      <td>15.126</td>\n",
       "      <td>15.076</td>\n",
       "      <td>13.358</td>\n",
       "      <td>NaN</td>\n",
       "      <td>550.897</td>\n",
       "      <td>0</td>\n",
       "    </tr>\n",
       "    <tr>\n",
       "      <th>21211</th>\n",
       "      <td>D</td>\n",
       "      <td>84.99</td>\n",
       "      <td>material_7</td>\n",
       "      <td>material_5</td>\n",
       "      <td>6</td>\n",
       "      <td>6</td>\n",
       "      <td>4</td>\n",
       "      <td>5</td>\n",
       "      <td>5</td>\n",
       "      <td>17.110</td>\n",
       "      <td>...</td>\n",
       "      <td>9.675</td>\n",
       "      <td>19.299</td>\n",
       "      <td>19.591</td>\n",
       "      <td>12.341</td>\n",
       "      <td>17.290</td>\n",
       "      <td>18.017</td>\n",
       "      <td>15.365</td>\n",
       "      <td>12.892</td>\n",
       "      <td>818.508</td>\n",
       "      <td>0</td>\n",
       "    </tr>\n",
       "    <tr>\n",
       "      <th>21216</th>\n",
       "      <td>D</td>\n",
       "      <td>88.45</td>\n",
       "      <td>material_7</td>\n",
       "      <td>material_5</td>\n",
       "      <td>6</td>\n",
       "      <td>6</td>\n",
       "      <td>5</td>\n",
       "      <td>12</td>\n",
       "      <td>9</td>\n",
       "      <td>18.224</td>\n",
       "      <td>...</td>\n",
       "      <td>12.601</td>\n",
       "      <td>14.860</td>\n",
       "      <td>NaN</td>\n",
       "      <td>10.785</td>\n",
       "      <td>16.750</td>\n",
       "      <td>16.690</td>\n",
       "      <td>17.133</td>\n",
       "      <td>13.892</td>\n",
       "      <td>711.579</td>\n",
       "      <td>0</td>\n",
       "    </tr>\n",
       "    <tr>\n",
       "      <th>21218</th>\n",
       "      <td>D</td>\n",
       "      <td>66.27</td>\n",
       "      <td>material_7</td>\n",
       "      <td>material_5</td>\n",
       "      <td>6</td>\n",
       "      <td>6</td>\n",
       "      <td>7</td>\n",
       "      <td>12</td>\n",
       "      <td>11</td>\n",
       "      <td>17.447</td>\n",
       "      <td>...</td>\n",
       "      <td>11.309</td>\n",
       "      <td>19.147</td>\n",
       "      <td>18.094</td>\n",
       "      <td>NaN</td>\n",
       "      <td>14.172</td>\n",
       "      <td>16.384</td>\n",
       "      <td>14.505</td>\n",
       "      <td>16.975</td>\n",
       "      <td>753.140</td>\n",
       "      <td>0</td>\n",
       "    </tr>\n",
       "  </tbody>\n",
       "</table>\n",
       "<p>761 rows × 25 columns</p>\n",
       "</div>"
      ],
      "text/plain": [
       "      product_code  loading attribute_0 attribute_1  attribute_2  attribute_3  \\\n",
       "id                                                                              \n",
       "16116            D    76.89  material_7  material_5            6            6   \n",
       "16122            D    82.59  material_7  material_5            6            6   \n",
       "16131            D    79.63  material_7  material_5            6            6   \n",
       "16133            D    88.14  material_7  material_5            6            6   \n",
       "16148            D    72.51  material_7  material_5            6            6   \n",
       "...            ...      ...         ...         ...          ...          ...   \n",
       "21198            D    87.18  material_7  material_5            6            6   \n",
       "21209            D    79.96  material_7  material_5            6            6   \n",
       "21211            D    84.99  material_7  material_5            6            6   \n",
       "21216            D    88.45  material_7  material_5            6            6   \n",
       "21218            D    66.27  material_7  material_5            6            6   \n",
       "\n",
       "       measurement_0  measurement_1  measurement_2  measurement_3  ...  \\\n",
       "id                                                                 ...   \n",
       "16116             16              2              7         17.427  ...   \n",
       "16122              9              8              5         18.209  ...   \n",
       "16131              6             10              6         16.872  ...   \n",
       "16133              4              6              4         17.103  ...   \n",
       "16148             12             11             11         17.850  ...   \n",
       "...              ...            ...            ...            ...  ...   \n",
       "21198              8              7              9            NaN  ...   \n",
       "21209              7              9             10         18.332  ...   \n",
       "21211              4              5              5         17.110  ...   \n",
       "21216              5             12              9         18.224  ...   \n",
       "21218              7             12             11         17.447  ...   \n",
       "\n",
       "       measurement_9  measurement_10  measurement_11  measurement_12  \\\n",
       "id                                                                     \n",
       "16116         11.536          14.690          19.622          11.082   \n",
       "16122         13.024          18.911          17.562          11.571   \n",
       "16131         11.191          15.864          19.760          10.698   \n",
       "16133         10.433          19.147          18.607             NaN   \n",
       "16148         11.346          16.086          18.208          10.497   \n",
       "...              ...             ...             ...             ...   \n",
       "21198         11.826          18.091          18.773          10.738   \n",
       "21209         11.193          18.477             NaN           9.209   \n",
       "21211          9.675          19.299          19.591          12.341   \n",
       "21216         12.601          14.860             NaN          10.785   \n",
       "21218         11.309          19.147          18.094             NaN   \n",
       "\n",
       "       measurement_13  measurement_14  measurement_15  measurement_16  \\\n",
       "id                                                                      \n",
       "16116          16.323          15.633          16.153          15.640   \n",
       "16122          15.633          18.695          15.811          17.630   \n",
       "16131          15.342          14.826          14.867          15.224   \n",
       "16133          15.041          16.656          15.965          16.455   \n",
       "16148          16.168          16.089          16.473          17.427   \n",
       "...               ...             ...             ...             ...   \n",
       "21198          14.331          17.264          16.253          15.556   \n",
       "21209          15.126          15.076          13.358             NaN   \n",
       "21211          17.290          18.017          15.365          12.892   \n",
       "21216          16.750          16.690          17.133          13.892   \n",
       "21218          14.172          16.384          14.505          16.975   \n",
       "\n",
       "       measurement_17  failure  \n",
       "id                              \n",
       "16116         648.974        1  \n",
       "16122         630.983        0  \n",
       "16131         885.344        0  \n",
       "16133         854.214        0  \n",
       "16148             NaN        0  \n",
       "...               ...      ...  \n",
       "21198         970.503        0  \n",
       "21209         550.897        0  \n",
       "21211         818.508        0  \n",
       "21216         711.579        0  \n",
       "21218         753.140        0  \n",
       "\n",
       "[761 rows x 25 columns]"
      ]
     },
     "execution_count": 221,
     "metadata": {},
     "output_type": "execute_result"
    }
   ],
   "source": [
    "data.loc[(data['loading'] < 90) & (data['product_code'] == np.random.choice(data.product_code.unique()))]"
   ]
  },
  {
   "cell_type": "code",
   "execution_count": 222,
   "metadata": {
    "id": "eyQmIF5Rdngw"
   },
   "outputs": [
    {
     "data": {
      "text/html": [
       "<div>\n",
       "<style scoped>\n",
       "    .dataframe tbody tr th:only-of-type {\n",
       "        vertical-align: middle;\n",
       "    }\n",
       "\n",
       "    .dataframe tbody tr th {\n",
       "        vertical-align: top;\n",
       "    }\n",
       "\n",
       "    .dataframe thead th {\n",
       "        text-align: right;\n",
       "    }\n",
       "</style>\n",
       "<table border=\"1\" class=\"dataframe\">\n",
       "  <thead>\n",
       "    <tr style=\"text-align: right;\">\n",
       "      <th></th>\n",
       "      <th>product_code</th>\n",
       "      <th>loading</th>\n",
       "      <th>attribute_0</th>\n",
       "      <th>attribute_1</th>\n",
       "      <th>attribute_2</th>\n",
       "      <th>attribute_3</th>\n",
       "      <th>measurement_0</th>\n",
       "      <th>measurement_1</th>\n",
       "      <th>measurement_2</th>\n",
       "      <th>measurement_3</th>\n",
       "      <th>...</th>\n",
       "      <th>measurement_9</th>\n",
       "      <th>measurement_10</th>\n",
       "      <th>measurement_11</th>\n",
       "      <th>measurement_12</th>\n",
       "      <th>measurement_13</th>\n",
       "      <th>measurement_14</th>\n",
       "      <th>measurement_15</th>\n",
       "      <th>measurement_16</th>\n",
       "      <th>measurement_17</th>\n",
       "      <th>failure</th>\n",
       "    </tr>\n",
       "    <tr>\n",
       "      <th>id</th>\n",
       "      <th></th>\n",
       "      <th></th>\n",
       "      <th></th>\n",
       "      <th></th>\n",
       "      <th></th>\n",
       "      <th></th>\n",
       "      <th></th>\n",
       "      <th></th>\n",
       "      <th></th>\n",
       "      <th></th>\n",
       "      <th></th>\n",
       "      <th></th>\n",
       "      <th></th>\n",
       "      <th></th>\n",
       "      <th></th>\n",
       "      <th></th>\n",
       "      <th></th>\n",
       "      <th></th>\n",
       "      <th></th>\n",
       "      <th></th>\n",
       "      <th></th>\n",
       "    </tr>\n",
       "  </thead>\n",
       "  <tbody>\n",
       "    <tr>\n",
       "      <th>1988</th>\n",
       "      <td>A</td>\n",
       "      <td>107.35</td>\n",
       "      <td>material_7</td>\n",
       "      <td>material_8</td>\n",
       "      <td>9</td>\n",
       "      <td>5</td>\n",
       "      <td>12</td>\n",
       "      <td>5</td>\n",
       "      <td>5</td>\n",
       "      <td>18.485</td>\n",
       "      <td>...</td>\n",
       "      <td>7.537</td>\n",
       "      <td>16.246</td>\n",
       "      <td>16.695</td>\n",
       "      <td>14.122</td>\n",
       "      <td>16.527</td>\n",
       "      <td>17.616</td>\n",
       "      <td>15.843</td>\n",
       "      <td>17.702</td>\n",
       "      <td>416.012</td>\n",
       "      <td>0</td>\n",
       "    </tr>\n",
       "    <tr>\n",
       "      <th>8028</th>\n",
       "      <td>B</td>\n",
       "      <td>100.97</td>\n",
       "      <td>material_5</td>\n",
       "      <td>material_5</td>\n",
       "      <td>8</td>\n",
       "      <td>8</td>\n",
       "      <td>6</td>\n",
       "      <td>10</td>\n",
       "      <td>8</td>\n",
       "      <td>17.438</td>\n",
       "      <td>...</td>\n",
       "      <td>8.648</td>\n",
       "      <td>18.480</td>\n",
       "      <td>18.544</td>\n",
       "      <td>12.323</td>\n",
       "      <td>14.601</td>\n",
       "      <td>14.046</td>\n",
       "      <td>14.912</td>\n",
       "      <td>14.510</td>\n",
       "      <td>646.400</td>\n",
       "      <td>1</td>\n",
       "    </tr>\n",
       "    <tr>\n",
       "      <th>8568</th>\n",
       "      <td>B</td>\n",
       "      <td>102.46</td>\n",
       "      <td>material_5</td>\n",
       "      <td>material_5</td>\n",
       "      <td>8</td>\n",
       "      <td>8</td>\n",
       "      <td>7</td>\n",
       "      <td>8</td>\n",
       "      <td>6</td>\n",
       "      <td>18.627</td>\n",
       "      <td>...</td>\n",
       "      <td>7.934</td>\n",
       "      <td>17.228</td>\n",
       "      <td>20.714</td>\n",
       "      <td>13.912</td>\n",
       "      <td>15.037</td>\n",
       "      <td>17.131</td>\n",
       "      <td>13.293</td>\n",
       "      <td>15.795</td>\n",
       "      <td>613.805</td>\n",
       "      <td>0</td>\n",
       "    </tr>\n",
       "    <tr>\n",
       "      <th>10248</th>\n",
       "      <td>B</td>\n",
       "      <td>99.38</td>\n",
       "      <td>material_5</td>\n",
       "      <td>material_5</td>\n",
       "      <td>8</td>\n",
       "      <td>8</td>\n",
       "      <td>7</td>\n",
       "      <td>11</td>\n",
       "      <td>7</td>\n",
       "      <td>18.170</td>\n",
       "      <td>...</td>\n",
       "      <td>8.865</td>\n",
       "      <td>18.669</td>\n",
       "      <td>NaN</td>\n",
       "      <td>11.138</td>\n",
       "      <td>16.825</td>\n",
       "      <td>15.577</td>\n",
       "      <td>18.297</td>\n",
       "      <td>14.512</td>\n",
       "      <td>520.083</td>\n",
       "      <td>0</td>\n",
       "    </tr>\n",
       "    <tr>\n",
       "      <th>13811</th>\n",
       "      <td>C</td>\n",
       "      <td>72.13</td>\n",
       "      <td>material_7</td>\n",
       "      <td>material_8</td>\n",
       "      <td>5</td>\n",
       "      <td>8</td>\n",
       "      <td>11</td>\n",
       "      <td>6</td>\n",
       "      <td>11</td>\n",
       "      <td>14.556</td>\n",
       "      <td>...</td>\n",
       "      <td>7.701</td>\n",
       "      <td>17.490</td>\n",
       "      <td>19.037</td>\n",
       "      <td>9.875</td>\n",
       "      <td>15.661</td>\n",
       "      <td>16.627</td>\n",
       "      <td>15.769</td>\n",
       "      <td>18.039</td>\n",
       "      <td>542.246</td>\n",
       "      <td>0</td>\n",
       "    </tr>\n",
       "    <tr>\n",
       "      <th>...</th>\n",
       "      <td>...</td>\n",
       "      <td>...</td>\n",
       "      <td>...</td>\n",
       "      <td>...</td>\n",
       "      <td>...</td>\n",
       "      <td>...</td>\n",
       "      <td>...</td>\n",
       "      <td>...</td>\n",
       "      <td>...</td>\n",
       "      <td>...</td>\n",
       "      <td>...</td>\n",
       "      <td>...</td>\n",
       "      <td>...</td>\n",
       "      <td>...</td>\n",
       "      <td>...</td>\n",
       "      <td>...</td>\n",
       "      <td>...</td>\n",
       "      <td>...</td>\n",
       "      <td>...</td>\n",
       "      <td>...</td>\n",
       "      <td>...</td>\n",
       "    </tr>\n",
       "    <tr>\n",
       "      <th>16368</th>\n",
       "      <td>D</td>\n",
       "      <td>61.56</td>\n",
       "      <td>material_7</td>\n",
       "      <td>material_5</td>\n",
       "      <td>6</td>\n",
       "      <td>6</td>\n",
       "      <td>9</td>\n",
       "      <td>5</td>\n",
       "      <td>8</td>\n",
       "      <td>18.230</td>\n",
       "      <td>...</td>\n",
       "      <td>7.900</td>\n",
       "      <td>18.183</td>\n",
       "      <td>19.737</td>\n",
       "      <td>13.575</td>\n",
       "      <td>16.671</td>\n",
       "      <td>16.548</td>\n",
       "      <td>13.622</td>\n",
       "      <td>17.312</td>\n",
       "      <td>553.560</td>\n",
       "      <td>0</td>\n",
       "    </tr>\n",
       "    <tr>\n",
       "      <th>16927</th>\n",
       "      <td>D</td>\n",
       "      <td>104.81</td>\n",
       "      <td>material_7</td>\n",
       "      <td>material_5</td>\n",
       "      <td>6</td>\n",
       "      <td>6</td>\n",
       "      <td>11</td>\n",
       "      <td>7</td>\n",
       "      <td>3</td>\n",
       "      <td>18.383</td>\n",
       "      <td>...</td>\n",
       "      <td>9.260</td>\n",
       "      <td>21.121</td>\n",
       "      <td>20.088</td>\n",
       "      <td>15.147</td>\n",
       "      <td>15.462</td>\n",
       "      <td>19.530</td>\n",
       "      <td>12.111</td>\n",
       "      <td>17.329</td>\n",
       "      <td>910.184</td>\n",
       "      <td>0</td>\n",
       "    </tr>\n",
       "    <tr>\n",
       "      <th>17030</th>\n",
       "      <td>D</td>\n",
       "      <td>97.71</td>\n",
       "      <td>material_7</td>\n",
       "      <td>material_5</td>\n",
       "      <td>6</td>\n",
       "      <td>6</td>\n",
       "      <td>12</td>\n",
       "      <td>10</td>\n",
       "      <td>4</td>\n",
       "      <td>19.072</td>\n",
       "      <td>...</td>\n",
       "      <td>8.069</td>\n",
       "      <td>17.231</td>\n",
       "      <td>18.853</td>\n",
       "      <td>13.342</td>\n",
       "      <td>14.885</td>\n",
       "      <td>17.725</td>\n",
       "      <td>13.838</td>\n",
       "      <td>15.624</td>\n",
       "      <td>743.200</td>\n",
       "      <td>0</td>\n",
       "    </tr>\n",
       "    <tr>\n",
       "      <th>17452</th>\n",
       "      <td>D</td>\n",
       "      <td>66.45</td>\n",
       "      <td>material_7</td>\n",
       "      <td>material_5</td>\n",
       "      <td>6</td>\n",
       "      <td>6</td>\n",
       "      <td>5</td>\n",
       "      <td>4</td>\n",
       "      <td>6</td>\n",
       "      <td>18.097</td>\n",
       "      <td>...</td>\n",
       "      <td>8.723</td>\n",
       "      <td>19.021</td>\n",
       "      <td>20.365</td>\n",
       "      <td>14.197</td>\n",
       "      <td>14.079</td>\n",
       "      <td>14.181</td>\n",
       "      <td>14.201</td>\n",
       "      <td>16.536</td>\n",
       "      <td>649.098</td>\n",
       "      <td>0</td>\n",
       "    </tr>\n",
       "    <tr>\n",
       "      <th>18721</th>\n",
       "      <td>D</td>\n",
       "      <td>86.98</td>\n",
       "      <td>material_7</td>\n",
       "      <td>material_5</td>\n",
       "      <td>6</td>\n",
       "      <td>6</td>\n",
       "      <td>11</td>\n",
       "      <td>12</td>\n",
       "      <td>7</td>\n",
       "      <td>18.394</td>\n",
       "      <td>...</td>\n",
       "      <td>9.141</td>\n",
       "      <td>19.277</td>\n",
       "      <td>18.822</td>\n",
       "      <td>11.757</td>\n",
       "      <td>14.474</td>\n",
       "      <td>17.244</td>\n",
       "      <td>14.919</td>\n",
       "      <td>13.974</td>\n",
       "      <td>NaN</td>\n",
       "      <td>0</td>\n",
       "    </tr>\n",
       "  </tbody>\n",
       "</table>\n",
       "<p>12 rows × 25 columns</p>\n",
       "</div>"
      ],
      "text/plain": [
       "      product_code  loading attribute_0 attribute_1  attribute_2  attribute_3  \\\n",
       "id                                                                              \n",
       "1988             A   107.35  material_7  material_8            9            5   \n",
       "8028             B   100.97  material_5  material_5            8            8   \n",
       "8568             B   102.46  material_5  material_5            8            8   \n",
       "10248            B    99.38  material_5  material_5            8            8   \n",
       "13811            C    72.13  material_7  material_8            5            8   \n",
       "...            ...      ...         ...         ...          ...          ...   \n",
       "16368            D    61.56  material_7  material_5            6            6   \n",
       "16927            D   104.81  material_7  material_5            6            6   \n",
       "17030            D    97.71  material_7  material_5            6            6   \n",
       "17452            D    66.45  material_7  material_5            6            6   \n",
       "18721            D    86.98  material_7  material_5            6            6   \n",
       "\n",
       "       measurement_0  measurement_1  measurement_2  measurement_3  ...  \\\n",
       "id                                                                 ...   \n",
       "1988              12              5              5         18.485  ...   \n",
       "8028               6             10              8         17.438  ...   \n",
       "8568               7              8              6         18.627  ...   \n",
       "10248              7             11              7         18.170  ...   \n",
       "13811             11              6             11         14.556  ...   \n",
       "...              ...            ...            ...            ...  ...   \n",
       "16368              9              5              8         18.230  ...   \n",
       "16927             11              7              3         18.383  ...   \n",
       "17030             12             10              4         19.072  ...   \n",
       "17452              5              4              6         18.097  ...   \n",
       "18721             11             12              7         18.394  ...   \n",
       "\n",
       "       measurement_9  measurement_10  measurement_11  measurement_12  \\\n",
       "id                                                                     \n",
       "1988           7.537          16.246          16.695          14.122   \n",
       "8028           8.648          18.480          18.544          12.323   \n",
       "8568           7.934          17.228          20.714          13.912   \n",
       "10248          8.865          18.669             NaN          11.138   \n",
       "13811          7.701          17.490          19.037           9.875   \n",
       "...              ...             ...             ...             ...   \n",
       "16368          7.900          18.183          19.737          13.575   \n",
       "16927          9.260          21.121          20.088          15.147   \n",
       "17030          8.069          17.231          18.853          13.342   \n",
       "17452          8.723          19.021          20.365          14.197   \n",
       "18721          9.141          19.277          18.822          11.757   \n",
       "\n",
       "       measurement_13  measurement_14  measurement_15  measurement_16  \\\n",
       "id                                                                      \n",
       "1988           16.527          17.616          15.843          17.702   \n",
       "8028           14.601          14.046          14.912          14.510   \n",
       "8568           15.037          17.131          13.293          15.795   \n",
       "10248          16.825          15.577          18.297          14.512   \n",
       "13811          15.661          16.627          15.769          18.039   \n",
       "...               ...             ...             ...             ...   \n",
       "16368          16.671          16.548          13.622          17.312   \n",
       "16927          15.462          19.530          12.111          17.329   \n",
       "17030          14.885          17.725          13.838          15.624   \n",
       "17452          14.079          14.181          14.201          16.536   \n",
       "18721          14.474          17.244          14.919          13.974   \n",
       "\n",
       "       measurement_17  failure  \n",
       "id                              \n",
       "1988          416.012        0  \n",
       "8028          646.400        1  \n",
       "8568          613.805        0  \n",
       "10248         520.083        0  \n",
       "13811         542.246        0  \n",
       "...               ...      ...  \n",
       "16368         553.560        0  \n",
       "16927         910.184        0  \n",
       "17030         743.200        0  \n",
       "17452         649.098        0  \n",
       "18721             NaN        0  \n",
       "\n",
       "[12 rows x 25 columns]"
      ]
     },
     "execution_count": 222,
     "metadata": {},
     "output_type": "execute_result"
    }
   ],
   "source": [
    "data.query('2.1 * measurement_9 < measurement_10 and loading < 111')"
   ]
  },
  {
   "cell_type": "markdown",
   "metadata": {
    "id": "ln3hUck0JXVx"
   },
   "source": [
    "### Your turn:\n"
   ]
  },
  {
   "cell_type": "code",
   "execution_count": 223,
   "metadata": {
    "id": "r0surSILJXVy"
   },
   "outputs": [
    {
     "data": {
      "text/html": [
       "<div>\n",
       "<style scoped>\n",
       "    .dataframe tbody tr th:only-of-type {\n",
       "        vertical-align: middle;\n",
       "    }\n",
       "\n",
       "    .dataframe tbody tr th {\n",
       "        vertical-align: top;\n",
       "    }\n",
       "\n",
       "    .dataframe thead th {\n",
       "        text-align: right;\n",
       "    }\n",
       "</style>\n",
       "<table border=\"1\" class=\"dataframe\">\n",
       "  <thead>\n",
       "    <tr style=\"text-align: right;\">\n",
       "      <th></th>\n",
       "      <th>product_code</th>\n",
       "      <th>loading</th>\n",
       "      <th>attribute_0</th>\n",
       "      <th>attribute_1</th>\n",
       "      <th>attribute_2</th>\n",
       "      <th>attribute_3</th>\n",
       "      <th>measurement_0</th>\n",
       "      <th>measurement_1</th>\n",
       "      <th>measurement_2</th>\n",
       "      <th>measurement_3</th>\n",
       "      <th>...</th>\n",
       "      <th>measurement_9</th>\n",
       "      <th>measurement_10</th>\n",
       "      <th>measurement_11</th>\n",
       "      <th>measurement_12</th>\n",
       "      <th>measurement_13</th>\n",
       "      <th>measurement_14</th>\n",
       "      <th>measurement_15</th>\n",
       "      <th>measurement_16</th>\n",
       "      <th>measurement_17</th>\n",
       "      <th>failure</th>\n",
       "    </tr>\n",
       "    <tr>\n",
       "      <th>id</th>\n",
       "      <th></th>\n",
       "      <th></th>\n",
       "      <th></th>\n",
       "      <th></th>\n",
       "      <th></th>\n",
       "      <th></th>\n",
       "      <th></th>\n",
       "      <th></th>\n",
       "      <th></th>\n",
       "      <th></th>\n",
       "      <th></th>\n",
       "      <th></th>\n",
       "      <th></th>\n",
       "      <th></th>\n",
       "      <th></th>\n",
       "      <th></th>\n",
       "      <th></th>\n",
       "      <th></th>\n",
       "      <th></th>\n",
       "      <th></th>\n",
       "      <th></th>\n",
       "    </tr>\n",
       "  </thead>\n",
       "  <tbody>\n",
       "    <tr>\n",
       "      <th>13</th>\n",
       "      <td>A</td>\n",
       "      <td>232.58</td>\n",
       "      <td>material_7</td>\n",
       "      <td>material_8</td>\n",
       "      <td>9</td>\n",
       "      <td>5</td>\n",
       "      <td>9</td>\n",
       "      <td>0</td>\n",
       "      <td>6</td>\n",
       "      <td>19.107</td>\n",
       "      <td>...</td>\n",
       "      <td>11.528</td>\n",
       "      <td>15.631</td>\n",
       "      <td>19.709</td>\n",
       "      <td>14.616</td>\n",
       "      <td>14.801</td>\n",
       "      <td>14.750</td>\n",
       "      <td>12.762</td>\n",
       "      <td>16.226</td>\n",
       "      <td>858.722</td>\n",
       "      <td>0</td>\n",
       "    </tr>\n",
       "    <tr>\n",
       "      <th>666</th>\n",
       "      <td>A</td>\n",
       "      <td>153.99</td>\n",
       "      <td>material_7</td>\n",
       "      <td>material_8</td>\n",
       "      <td>9</td>\n",
       "      <td>5</td>\n",
       "      <td>8</td>\n",
       "      <td>4</td>\n",
       "      <td>5</td>\n",
       "      <td>17.995</td>\n",
       "      <td>...</td>\n",
       "      <td>10.956</td>\n",
       "      <td>16.890</td>\n",
       "      <td>18.453</td>\n",
       "      <td>NaN</td>\n",
       "      <td>16.229</td>\n",
       "      <td>14.964</td>\n",
       "      <td>15.606</td>\n",
       "      <td>15.705</td>\n",
       "      <td>558.140</td>\n",
       "      <td>0</td>\n",
       "    </tr>\n",
       "  </tbody>\n",
       "</table>\n",
       "<p>2 rows × 25 columns</p>\n",
       "</div>"
      ],
      "text/plain": [
       "    product_code  loading attribute_0 attribute_1  attribute_2  attribute_3  \\\n",
       "id                                                                            \n",
       "13             A   232.58  material_7  material_8            9            5   \n",
       "666            A   153.99  material_7  material_8            9            5   \n",
       "\n",
       "     measurement_0  measurement_1  measurement_2  measurement_3  ...  \\\n",
       "id                                                               ...   \n",
       "13               9              0              6         19.107  ...   \n",
       "666              8              4              5         17.995  ...   \n",
       "\n",
       "     measurement_9  measurement_10  measurement_11  measurement_12  \\\n",
       "id                                                                   \n",
       "13          11.528          15.631          19.709          14.616   \n",
       "666         10.956          16.890          18.453             NaN   \n",
       "\n",
       "     measurement_13  measurement_14  measurement_15  measurement_16  \\\n",
       "id                                                                    \n",
       "13           14.801          14.750          12.762          16.226   \n",
       "666          16.229          14.964          15.606          15.705   \n",
       "\n",
       "     measurement_17  failure  \n",
       "id                            \n",
       "13          858.722        0  \n",
       "666         558.140        0  \n",
       "\n",
       "[2 rows x 25 columns]"
      ]
     },
     "execution_count": 223,
     "metadata": {},
     "output_type": "execute_result"
    }
   ],
   "source": [
    "# select studies number 13 and 666 in a single line - did they fail?\n",
    "\n",
    "data.loc[[13,666]]\n",
    "\n",
    "# They did not fail"
   ]
  },
  {
   "cell_type": "code",
   "execution_count": 224,
   "metadata": {
    "id": "WfL_YYOVJXV3"
   },
   "outputs": [
    {
     "data": {
      "text/plain": [
       "21.260820474219045"
      ]
     },
     "execution_count": 224,
     "metadata": {},
     "output_type": "execute_result"
    }
   ],
   "source": [
    "# compute the overall fail-rate (what fraction of studies failed)\n",
    "# do we face a balanced train dataset?\n",
    "\n",
    "data['failure'].loc[data['failure']==1].count()*100/data.loc[:,'failure'].count()\n",
    "\n",
    "# We do not face balanced train dataset, only 21% of target are 1\n"
   ]
  },
  {
   "cell_type": "markdown",
   "metadata": {
    "id": "NaDF00ADJXV7"
   },
   "source": [
    "```\n",
    "\n",
    "```\n",
    "\n",
    "```\n",
    "\n",
    "```\n",
    "\n",
    "```\n",
    "\n",
    "```\n",
    "\n",
    "```\n",
    "\n",
    "```\n",
    "\n",
    "```\n",
    "\n",
    "```\n",
    "\n",
    "```\n",
    "\n",
    "```\n",
    "\n",
    "```\n",
    "\n",
    "```\n",
    "\n"
   ]
  },
  {
   "cell_type": "markdown",
   "metadata": {
    "id": "dZAezJgDJXV8"
   },
   "source": [
    "Pandas also has some basic data analysis tools. For one, you can quickly display statistical aggregates for each column using `.describe()`"
   ]
  },
  {
   "cell_type": "code",
   "execution_count": 225,
   "metadata": {
    "id": "yHtn-GlbJXV8"
   },
   "outputs": [
    {
     "data": {
      "text/html": [
       "<div>\n",
       "<style scoped>\n",
       "    .dataframe tbody tr th:only-of-type {\n",
       "        vertical-align: middle;\n",
       "    }\n",
       "\n",
       "    .dataframe tbody tr th {\n",
       "        vertical-align: top;\n",
       "    }\n",
       "\n",
       "    .dataframe thead th {\n",
       "        text-align: right;\n",
       "    }\n",
       "</style>\n",
       "<table border=\"1\" class=\"dataframe\">\n",
       "  <thead>\n",
       "    <tr style=\"text-align: right;\">\n",
       "      <th></th>\n",
       "      <th>loading</th>\n",
       "      <th>attribute_2</th>\n",
       "      <th>attribute_3</th>\n",
       "      <th>measurement_0</th>\n",
       "      <th>measurement_1</th>\n",
       "      <th>measurement_2</th>\n",
       "      <th>measurement_3</th>\n",
       "      <th>measurement_4</th>\n",
       "      <th>measurement_5</th>\n",
       "      <th>measurement_6</th>\n",
       "      <th>...</th>\n",
       "      <th>measurement_9</th>\n",
       "      <th>measurement_10</th>\n",
       "      <th>measurement_11</th>\n",
       "      <th>measurement_12</th>\n",
       "      <th>measurement_13</th>\n",
       "      <th>measurement_14</th>\n",
       "      <th>measurement_15</th>\n",
       "      <th>measurement_16</th>\n",
       "      <th>measurement_17</th>\n",
       "      <th>failure</th>\n",
       "    </tr>\n",
       "  </thead>\n",
       "  <tbody>\n",
       "    <tr>\n",
       "      <th>count</th>\n",
       "      <td>26320.000000</td>\n",
       "      <td>26570.000000</td>\n",
       "      <td>26570.000000</td>\n",
       "      <td>26570.000000</td>\n",
       "      <td>26570.000000</td>\n",
       "      <td>26570.000000</td>\n",
       "      <td>26189.000000</td>\n",
       "      <td>26032.000000</td>\n",
       "      <td>25894.000000</td>\n",
       "      <td>25774.000000</td>\n",
       "      <td>...</td>\n",
       "      <td>25343.000000</td>\n",
       "      <td>25270.000000</td>\n",
       "      <td>25102.000000</td>\n",
       "      <td>24969.000000</td>\n",
       "      <td>24796.000000</td>\n",
       "      <td>24696.000000</td>\n",
       "      <td>24561.000000</td>\n",
       "      <td>24460.000000</td>\n",
       "      <td>24286.000000</td>\n",
       "      <td>26570.000000</td>\n",
       "    </tr>\n",
       "    <tr>\n",
       "      <th>mean</th>\n",
       "      <td>127.826233</td>\n",
       "      <td>6.754046</td>\n",
       "      <td>7.240459</td>\n",
       "      <td>7.415883</td>\n",
       "      <td>8.232518</td>\n",
       "      <td>6.256568</td>\n",
       "      <td>17.791528</td>\n",
       "      <td>11.731988</td>\n",
       "      <td>17.127804</td>\n",
       "      <td>17.510759</td>\n",
       "      <td>...</td>\n",
       "      <td>11.430725</td>\n",
       "      <td>16.117711</td>\n",
       "      <td>19.172085</td>\n",
       "      <td>11.702464</td>\n",
       "      <td>15.652904</td>\n",
       "      <td>16.048444</td>\n",
       "      <td>14.995554</td>\n",
       "      <td>16.460727</td>\n",
       "      <td>701.269059</td>\n",
       "      <td>0.212608</td>\n",
       "    </tr>\n",
       "    <tr>\n",
       "      <th>std</th>\n",
       "      <td>39.030020</td>\n",
       "      <td>1.471852</td>\n",
       "      <td>1.456493</td>\n",
       "      <td>4.116690</td>\n",
       "      <td>4.199401</td>\n",
       "      <td>3.309109</td>\n",
       "      <td>1.001200</td>\n",
       "      <td>0.996085</td>\n",
       "      <td>0.996414</td>\n",
       "      <td>0.995980</td>\n",
       "      <td>...</td>\n",
       "      <td>0.999137</td>\n",
       "      <td>1.405978</td>\n",
       "      <td>1.520785</td>\n",
       "      <td>1.488838</td>\n",
       "      <td>1.155247</td>\n",
       "      <td>1.491923</td>\n",
       "      <td>1.549226</td>\n",
       "      <td>1.708935</td>\n",
       "      <td>123.304161</td>\n",
       "      <td>0.409160</td>\n",
       "    </tr>\n",
       "    <tr>\n",
       "      <th>min</th>\n",
       "      <td>33.160000</td>\n",
       "      <td>5.000000</td>\n",
       "      <td>5.000000</td>\n",
       "      <td>0.000000</td>\n",
       "      <td>0.000000</td>\n",
       "      <td>0.000000</td>\n",
       "      <td>13.968000</td>\n",
       "      <td>8.008000</td>\n",
       "      <td>12.073000</td>\n",
       "      <td>12.715000</td>\n",
       "      <td>...</td>\n",
       "      <td>7.537000</td>\n",
       "      <td>9.323000</td>\n",
       "      <td>12.461000</td>\n",
       "      <td>5.167000</td>\n",
       "      <td>10.890000</td>\n",
       "      <td>9.140000</td>\n",
       "      <td>9.104000</td>\n",
       "      <td>9.701000</td>\n",
       "      <td>196.787000</td>\n",
       "      <td>0.000000</td>\n",
       "    </tr>\n",
       "    <tr>\n",
       "      <th>25%</th>\n",
       "      <td>99.987500</td>\n",
       "      <td>6.000000</td>\n",
       "      <td>6.000000</td>\n",
       "      <td>4.000000</td>\n",
       "      <td>5.000000</td>\n",
       "      <td>4.000000</td>\n",
       "      <td>17.117000</td>\n",
       "      <td>11.051000</td>\n",
       "      <td>16.443000</td>\n",
       "      <td>16.839000</td>\n",
       "      <td>...</td>\n",
       "      <td>10.757000</td>\n",
       "      <td>15.209000</td>\n",
       "      <td>18.170000</td>\n",
       "      <td>10.703000</td>\n",
       "      <td>14.890000</td>\n",
       "      <td>15.057000</td>\n",
       "      <td>13.957000</td>\n",
       "      <td>15.268000</td>\n",
       "      <td>618.961500</td>\n",
       "      <td>0.000000</td>\n",
       "    </tr>\n",
       "    <tr>\n",
       "      <th>50%</th>\n",
       "      <td>122.390000</td>\n",
       "      <td>6.000000</td>\n",
       "      <td>8.000000</td>\n",
       "      <td>7.000000</td>\n",
       "      <td>8.000000</td>\n",
       "      <td>6.000000</td>\n",
       "      <td>17.787000</td>\n",
       "      <td>11.733000</td>\n",
       "      <td>17.132000</td>\n",
       "      <td>17.516000</td>\n",
       "      <td>...</td>\n",
       "      <td>11.430000</td>\n",
       "      <td>16.127000</td>\n",
       "      <td>19.211500</td>\n",
       "      <td>11.717000</td>\n",
       "      <td>15.628500</td>\n",
       "      <td>16.040000</td>\n",
       "      <td>14.969000</td>\n",
       "      <td>16.436000</td>\n",
       "      <td>701.024500</td>\n",
       "      <td>0.000000</td>\n",
       "    </tr>\n",
       "    <tr>\n",
       "      <th>75%</th>\n",
       "      <td>149.152500</td>\n",
       "      <td>8.000000</td>\n",
       "      <td>8.000000</td>\n",
       "      <td>10.000000</td>\n",
       "      <td>11.000000</td>\n",
       "      <td>8.000000</td>\n",
       "      <td>18.469000</td>\n",
       "      <td>12.410000</td>\n",
       "      <td>17.805000</td>\n",
       "      <td>18.178000</td>\n",
       "      <td>...</td>\n",
       "      <td>12.102000</td>\n",
       "      <td>17.025000</td>\n",
       "      <td>20.207000</td>\n",
       "      <td>12.709000</td>\n",
       "      <td>16.374000</td>\n",
       "      <td>17.082000</td>\n",
       "      <td>16.018000</td>\n",
       "      <td>17.628000</td>\n",
       "      <td>784.090250</td>\n",
       "      <td>0.000000</td>\n",
       "    </tr>\n",
       "    <tr>\n",
       "      <th>max</th>\n",
       "      <td>385.860000</td>\n",
       "      <td>9.000000</td>\n",
       "      <td>9.000000</td>\n",
       "      <td>29.000000</td>\n",
       "      <td>29.000000</td>\n",
       "      <td>24.000000</td>\n",
       "      <td>21.499000</td>\n",
       "      <td>16.484000</td>\n",
       "      <td>21.425000</td>\n",
       "      <td>21.543000</td>\n",
       "      <td>...</td>\n",
       "      <td>15.412000</td>\n",
       "      <td>22.479000</td>\n",
       "      <td>25.640000</td>\n",
       "      <td>17.663000</td>\n",
       "      <td>22.713000</td>\n",
       "      <td>22.303000</td>\n",
       "      <td>21.626000</td>\n",
       "      <td>24.094000</td>\n",
       "      <td>1312.794000</td>\n",
       "      <td>1.000000</td>\n",
       "    </tr>\n",
       "  </tbody>\n",
       "</table>\n",
       "<p>8 rows × 22 columns</p>\n",
       "</div>"
      ],
      "text/plain": [
       "            loading   attribute_2   attribute_3  measurement_0  measurement_1  \\\n",
       "count  26320.000000  26570.000000  26570.000000   26570.000000   26570.000000   \n",
       "mean     127.826233      6.754046      7.240459       7.415883       8.232518   \n",
       "std       39.030020      1.471852      1.456493       4.116690       4.199401   \n",
       "min       33.160000      5.000000      5.000000       0.000000       0.000000   \n",
       "25%       99.987500      6.000000      6.000000       4.000000       5.000000   \n",
       "50%      122.390000      6.000000      8.000000       7.000000       8.000000   \n",
       "75%      149.152500      8.000000      8.000000      10.000000      11.000000   \n",
       "max      385.860000      9.000000      9.000000      29.000000      29.000000   \n",
       "\n",
       "       measurement_2  measurement_3  measurement_4  measurement_5  \\\n",
       "count   26570.000000   26189.000000   26032.000000   25894.000000   \n",
       "mean        6.256568      17.791528      11.731988      17.127804   \n",
       "std         3.309109       1.001200       0.996085       0.996414   \n",
       "min         0.000000      13.968000       8.008000      12.073000   \n",
       "25%         4.000000      17.117000      11.051000      16.443000   \n",
       "50%         6.000000      17.787000      11.733000      17.132000   \n",
       "75%         8.000000      18.469000      12.410000      17.805000   \n",
       "max        24.000000      21.499000      16.484000      21.425000   \n",
       "\n",
       "       measurement_6  ...  measurement_9  measurement_10  measurement_11  \\\n",
       "count   25774.000000  ...   25343.000000    25270.000000    25102.000000   \n",
       "mean       17.510759  ...      11.430725       16.117711       19.172085   \n",
       "std         0.995980  ...       0.999137        1.405978        1.520785   \n",
       "min        12.715000  ...       7.537000        9.323000       12.461000   \n",
       "25%        16.839000  ...      10.757000       15.209000       18.170000   \n",
       "50%        17.516000  ...      11.430000       16.127000       19.211500   \n",
       "75%        18.178000  ...      12.102000       17.025000       20.207000   \n",
       "max        21.543000  ...      15.412000       22.479000       25.640000   \n",
       "\n",
       "       measurement_12  measurement_13  measurement_14  measurement_15  \\\n",
       "count    24969.000000    24796.000000    24696.000000    24561.000000   \n",
       "mean        11.702464       15.652904       16.048444       14.995554   \n",
       "std          1.488838        1.155247        1.491923        1.549226   \n",
       "min          5.167000       10.890000        9.140000        9.104000   \n",
       "25%         10.703000       14.890000       15.057000       13.957000   \n",
       "50%         11.717000       15.628500       16.040000       14.969000   \n",
       "75%         12.709000       16.374000       17.082000       16.018000   \n",
       "max         17.663000       22.713000       22.303000       21.626000   \n",
       "\n",
       "       measurement_16  measurement_17       failure  \n",
       "count    24460.000000    24286.000000  26570.000000  \n",
       "mean        16.460727      701.269059      0.212608  \n",
       "std          1.708935      123.304161      0.409160  \n",
       "min          9.701000      196.787000      0.000000  \n",
       "25%         15.268000      618.961500      0.000000  \n",
       "50%         16.436000      701.024500      0.000000  \n",
       "75%         17.628000      784.090250      0.000000  \n",
       "max         24.094000     1312.794000      1.000000  \n",
       "\n",
       "[8 rows x 22 columns]"
      ]
     },
     "execution_count": 225,
     "metadata": {},
     "output_type": "execute_result"
    }
   ],
   "source": [
    "data.describe()"
   ]
  },
  {
   "cell_type": "markdown",
   "metadata": {
    "id": "hp-OG6bOJXWA"
   },
   "source": [
    "Some columns contain __NaN__ values - this means that there is no data there. For example, study `#26565` has unknown `measurement_16`. To simplify the future data analysis, we'll replace NaN values by using pandas `fillna` function.\n",
    "\n",
    "_Note: we do this so easily because it's a tutorial. In general, you think twice before you modify data like this._"
   ]
  },
  {
   "cell_type": "code",
   "execution_count": 226,
   "metadata": {
    "id": "EHEegWTOJXWK"
   },
   "outputs": [],
   "source": [
    "data['measurement_9'] = data['measurement_9'].fillna(value=data['measurement_9'].mean())\n",
    "data['measurement_16'].fillna(value=data['measurement_16'].mean(), inplace = True)"
   ]
  },
  {
   "cell_type": "code",
   "execution_count": 227,
   "metadata": {
    "id": "jSIS7m9RJXWO"
   },
   "outputs": [
    {
     "data": {
      "text/plain": [
       "product_code               E\n",
       "loading               158.95\n",
       "attribute_0       material_7\n",
       "attribute_1       material_6\n",
       "attribute_2                6\n",
       "                     ...    \n",
       "measurement_14        18.572\n",
       "measurement_15        16.144\n",
       "measurement_16     16.460727\n",
       "measurement_17       729.131\n",
       "failure                    0\n",
       "Name: 26566, Length: 25, dtype: object"
      ]
     },
     "execution_count": 227,
     "metadata": {},
     "output_type": "execute_result"
    }
   ],
   "source": [
    "data.iloc[26565]"
   ]
  },
  {
   "cell_type": "markdown",
   "metadata": {
    "id": "d_oQnE9JhlWW"
   },
   "source": [
    "### Pandas + numpy"
   ]
  },
  {
   "cell_type": "markdown",
   "metadata": {
    "id": "Wk8fA8HBJXWs"
   },
   "source": [
    "The important part: as pandas uses numpy under the hood, most of numpy functionality works with dataframes, as you can get their numpy representation with `.values` (most numpy functions will even work on pure pandas objects):"
   ]
  },
  {
   "cell_type": "code",
   "execution_count": 228,
   "metadata": {
    "id": "uE53osRgJXWs"
   },
   "outputs": [
    {
     "name": "stdout",
     "output_type": "stream",
     "text": [
      "Max measurement_17:  1312.794\n",
      "\n",
      "The study with the max measurement_17:\n",
      " product_code               A\n",
      "loading                109.5\n",
      "attribute_0       material_7\n",
      "attribute_1       material_8\n",
      "attribute_2                9\n",
      "                     ...    \n",
      "measurement_14        13.327\n",
      "measurement_15        13.535\n",
      "measurement_16        15.408\n",
      "measurement_17           NaN\n",
      "failure                    0\n",
      "Name: 9, Length: 25, dtype: object\n"
     ]
    }
   ],
   "source": [
    "# calling np.max on a pure pandas column:\n",
    "column_name = 'measurement_17'\n",
    "print(\"Max {}: \".format(column_name), np.max(data[column_name]))\n",
    "\n",
    "# calling np.argmax on a numpy representation of a pandas column\n",
    "# to get its positional index:\n",
    "print(\"\\nThe study with the max \" + column_name + \":\\n\",\n",
    "      data.iloc[\n",
    "          np.argmax(data[column_name].values)\n",
    "      ])"
   ]
  },
  {
   "cell_type": "code",
   "execution_count": 229,
   "metadata": {
    "id": "X5l90RFPN6SL"
   },
   "outputs": [
    {
     "name": "stdout",
     "output_type": "stream",
     "text": [
      "8654\n",
      "8655\n"
     ]
    }
   ],
   "source": [
    "# numpy works only with positional index:\n",
    "column_name = 'measurement_16'\n",
    "print(data[column_name].values.argmax())\n",
    "#     ^^^^^^^^^^^^^^^^^^^\n",
    "#     this part returns a numpy array, argmax of which we are calculating\n",
    "\n",
    "\n",
    "# in pandas you can ask for the index (i.e. value of the index column)\n",
    "# of the maximal element like this:\n",
    "print(data[column_name].idxmax())"
   ]
  },
  {
   "cell_type": "markdown",
   "metadata": {
    "id": "T_xqJK6UJXW6"
   },
   "source": [
    "### Your turn\n",
    "\n",
    "Use numpy and pandas to answer a few questions about data"
   ]
  },
  {
   "cell_type": "code",
   "execution_count": 230,
   "metadata": {
    "id": "p7O68NpyJXWw"
   },
   "outputs": [
    {
     "name": "stdout",
     "output_type": "stream",
     "text": [
      "Mean value of loading is 127.82623252279674\n",
      "The study with the max loading is\n",
      " product_code               C\n",
      "loading               385.86\n",
      "attribute_0       material_7\n",
      "attribute_1       material_8\n",
      "attribute_2                5\n",
      "                     ...    \n",
      "measurement_14        15.522\n",
      "measurement_15        14.544\n",
      "measurement_16        15.527\n",
      "measurement_17       890.711\n",
      "failure                    1\n",
      "Name: 14119, Length: 25, dtype: object\n"
     ]
    }
   ],
   "source": [
    "# your code: compute mean loading and find max one.\n",
    "# mean loading:\n",
    "col = 'loading'\n",
    "print('Mean value of loading is {}'.format(data[col].mean()))\n",
    "print('The study with the max loading is' + '\\n', \n",
    "      data.loc[data[col].idxmax()])"
   ]
  },
  {
   "cell_type": "code",
   "execution_count": 231,
   "metadata": {
    "id": "EyDEaifrJXW8"
   },
   "outputs": [
    {
     "data": {
      "text/plain": [
       "product_code\n",
       "A    0.227255\n",
       "B    0.200381\n",
       "C    0.211622\n",
       "D    0.217527\n",
       "E    0.207000\n",
       "Name: failure, dtype: float64"
      ]
     },
     "execution_count": 231,
     "metadata": {},
     "output_type": "execute_result"
    }
   ],
   "source": [
    "# which product code is more likely to fail?\n",
    "col = 'product_code'\n",
    "data.loc[data['failure']==1].groupby(col)['failure'].count()/data.groupby(col)['failure'].count()\n",
    "# Product with code A is more likely to fail\n"
   ]
  },
  {
   "cell_type": "markdown",
   "metadata": {
    "id": "ASsnUCRMJXWS"
   },
   "source": [
    "More pandas: \n",
    "* Official [tutorials](https://pandas.pydata.org/pandas-docs/stable/tutorials.html), including this [10 minutes to pandas](https://pandas.pydata.org/pandas-docs/stable/10min.html#min)\n",
    "* Bunch of cheat sheets awaits just one google query away from you (e.g. [basics](http://datacamp-community-prod.s3.amazonaws.com/dbed353d-2757-4617-8206-8767ab379ab3), [combining datasets](https://pbs.twimg.com/media/C65MaMpVwAA3v0A.jpg) and so on). "
   ]
  },
  {
   "cell_type": "markdown",
   "metadata": {
    "id": "yt0lgtQox2e1"
   },
   "source": [
    "## Part IV: plots and matplotlib"
   ]
  },
  {
   "cell_type": "markdown",
   "metadata": {
    "id": "Odx24QWTJXW-"
   },
   "source": [
    "Using python to visualize the data is covered by yet another library: `matplotlib`.\n",
    "\n",
    "Just like python itself, matplotlib has an awesome tendency of keeping simple things simple while still allowing you to write complicated stuff with convenience (e.g. super-detailed plots or custom animations)."
   ]
  },
  {
   "cell_type": "code",
   "execution_count": 232,
   "metadata": {
    "id": "7QxD0DoLJXW-",
    "scrolled": true
   },
   "outputs": [
    {
     "name": "stdout",
     "output_type": "stream",
     "text": [
      "x = [0 1 2 3 4]\n",
      "x**2 = [ 0  1  4  9 16]\n",
      "plotting x**2 vs x:\n"
     ]
    },
    {
     "data": {
      "image/png": "[encoded data removed]",
      "text/plain": [
       "<Figure size 640x480 with 1 Axes>"
      ]
     },
     "metadata": {},
     "output_type": "display_data"
    },
    {
     "data": {
      "image/png": "[encoded data removed]",
      "text/plain": [
       "<Figure size 640x480 with 1 Axes>"
      ]
     },
     "metadata": {},
     "output_type": "display_data"
    }
   ],
   "source": [
    "import matplotlib.pyplot as plt\n",
    "%matplotlib inline  \n",
    "# ^-- this \"magic\" selects specific matplotlib backend suitable for\n",
    "# jupyter notebooks. For more info see:\n",
    "# https://ipython.readthedocs.io/en/stable/interactive/plotting.html#id1\n",
    "# (actually it's the default in google colab)\n",
    "\n",
    "#scatter-plot\n",
    "x = np.arange(5)\n",
    "print(\"x =\", x)\n",
    "print(\"x**2 =\", x**2)\n",
    "print(\"plotting x**2 vs x:\")\n",
    "plt.scatter(x, x**2)\n",
    "plt.show()  # show the first plot to begin drawing the next one\n",
    "\n",
    "plt.plot(x, x**2);"
   ]
  },
  {
   "cell_type": "code",
   "execution_count": 233,
   "metadata": {
    "id": "fz5WDA4YJXXI"
   },
   "outputs": [
    {
     "data": {
      "image/png": "[encoded data removed]",
      "text/plain": [
       "<Figure size 1000x500 with 8 Axes>"
      ]
     },
     "metadata": {},
     "output_type": "display_data"
    }
   ],
   "source": [
    "# histogram - showing data density\n",
    "float_cols = [c for c in data.columns if data[c].dtype == float]\n",
    "\n",
    "_, axs = plt.subplots(2, 4, figsize=(10,5))\n",
    "\n",
    "for f, ax in zip(float_cols[:8], axs.ravel()):\n",
    "    bins = np.linspace(min(data[f]), max(data[f]), 50)\n",
    "    ax.hist(data[f], bins=bins, density=True)\n",
    "    ax.set_xlabel(f)\n",
    "\n",
    "plt.tight_layout(w_pad=1)\n",
    "plt.suptitle('Distributions of the continuous features', fontsize=15, y=1.12)\n",
    "plt.show()"
   ]
  },
  {
   "cell_type": "code",
   "execution_count": 234,
   "metadata": {
    "id": "d4F8dkG_l7sw"
   },
   "outputs": [
    {
     "data": {
      "image/png": "[encoded data removed]",
      "text/plain": [
       "<Figure size 640x480 with 1 Axes>"
      ]
     },
     "metadata": {},
     "output_type": "display_data"
    }
   ],
   "source": [
    "# or you can use inbuilt methods and combine it with pyplot\n",
    "data.failure.hist()\n",
    "plt.title('Failure hist')\n",
    "plt.show()"
   ]
  },
  {
   "cell_type": "code",
   "execution_count": 235,
   "metadata": {
    "id": "zdX4D1Pz2UV3"
   },
   "outputs": [
    {
     "data": {
      "image/png": "[encoded data removed]",
      "text/plain": [
       "<Figure size 640x480 with 1 Axes>"
      ]
     },
     "metadata": {},
     "output_type": "display_data"
    }
   ],
   "source": [
    "# .plot() method allows you to plot in different styles\n",
    "data.product_code.value_counts().plot(kind='pie', autopct=\"%1.1f%%\",shadow=True, \n",
    "        startangle=45, explode=[0.065] * data.product_code.nunique());"
   ]
  },
  {
   "cell_type": "code",
   "execution_count": 236,
   "metadata": {
    "id": "QqBRikzYqPgW"
   },
   "outputs": [],
   "source": [
    "import seaborn as sns\n"
   ]
  },
  {
   "cell_type": "code",
   "execution_count": 237,
   "metadata": {
    "id": "lpSzeTVCq13z"
   },
   "outputs": [
    {
     "data": {
      "image/png": "[encoded data removed]",
      "text/plain": [
       "<Figure size 1900x1900 with 4 Axes>"
      ]
     },
     "metadata": {},
     "output_type": "display_data"
    }
   ],
   "source": [
    "_, axs = plt.subplots(2, 2, figsize=(19, 19))\n",
    "for product, ax in zip(np.unique(data.product_code)[:4], axs.ravel()):\n",
    "    corr = data[float_cols + ['measurement_0', 'measurement_1', 'measurement_2']][data.product_code == product].corr()\n",
    "    mask = np.triu(np.ones_like(corr, dtype=bool))\n",
    "    sns.heatmap(corr, mask=mask, fmt='0.2f', \n",
    "                annot=True, cmap='Purples',  ax=ax, cbar=False)\n",
    "    ax.set_title(product)\n",
    "plt.tight_layout(w_pad=0.8)\n",
    "plt.show()"
   ]
  },
  {
   "cell_type": "code",
   "execution_count": 238,
   "metadata": {
    "id": "XmapamrGJXXM"
   },
   "outputs": [
    {
     "data": {
      "image/png": "[encoded data removed]",
      "text/plain": [
       "<Figure size 1200x600 with 1 Axes>"
      ]
     },
     "metadata": {},
     "output_type": "display_data"
    }
   ],
   "source": [
    "# plot a barplot of number of missing values in columns\n",
    "_, ax = plt.subplots(1, figsize=(12, 6))\n",
    "\n",
    "missing_counts = data.isnull().sum()\n",
    "\n",
    "sns.barplot(x=missing_counts[missing_counts.values > 0].index, y=missing_counts.values[missing_counts.values > 0], ax = ax)\n",
    "ax.tick_params(axis='x', labelrotation=90)\n",
    "\n",
    "# hint: use data.isnull() method"
   ]
  },
  {
   "cell_type": "markdown",
   "metadata": {
    "id": "bHDcDWFKJXXS"
   },
   "source": [
    "* Extended [tutorial](https://matplotlib.org/2.0.2/users/pyplot_tutorial.html)\n",
    "* Other libraries for more sophisticated stuff: [Plotly](https://plot.ly/python/), and [Bokeh](https://bokeh.pydata.org/en/latest/)"
   ]
  },
  {
   "cell_type": "markdown",
   "metadata": {
    "id": "ARBewmPBye4-"
   },
   "source": [
    "## Part V (final): machine learning with scikit-learn"
   ]
  },
  {
   "cell_type": "markdown",
   "metadata": {
    "id": "Hpc3yTBjJXXT"
   },
   "source": [
    "<img src='https://i.redd.it/k13eojlo31i31.png' width=500px>\n",
    "\n",
    "Scikit-learn is the tool for simple machine learning pipelines. \n",
    "\n",
    "It's a single library that unites a whole bunch of models under the common interface:\n",
    "* Create:__ `model = sklearn.whatever.ModelNameHere(parameters_if_any)`__\n",
    "* Train:__ `model.fit(X,y)`__\n",
    "* Predict:__ `model.predict(X_test)`__\n",
    "\n",
    "It also contains utilities for feature extraction, quality estimation or cross-validation."
   ]
  },
  {
   "cell_type": "code",
   "execution_count": 260,
   "metadata": {},
   "outputs": [],
   "source": [
    "# lets fill the missing data \n",
    "for col in data[float_cols]:\n",
    "    data[col].fillna(data[col].mean(), inplace=True)"
   ]
  },
  {
   "cell_type": "code",
   "execution_count": 262,
   "metadata": {
    "id": "JhbbBk93JXXV"
   },
   "outputs": [
    {
     "name": "stdout",
     "output_type": "stream",
     "text": [
      "Test accuracy: 0.7470831765148664\n"
     ]
    },
    {
     "name": "stderr",
     "output_type": "stream",
     "text": [
      "/Users/nikitasenyatkin/opt/anaconda3/lib/python3.9/site-packages/sklearn/neighbors/_classification.py:228: FutureWarning: Unlike other reduction functions (e.g. `skew`, `kurtosis`), the default behavior of `mode` typically preserves the axis it acts along. In SciPy 1.11.0, this behavior will change: the default value of `keepdims` will become False, the `axis` over which the statistic is taken will be eliminated, and the value None will no longer be accepted. Set `keepdims` to True or False to avoid this warning.\n",
      "  mode, _ = stats.mode(_y[neigh_ind, k], axis=1)\n"
     ]
    }
   ],
   "source": [
    "from sklearn.neighbors import KNeighborsClassifier\n",
    "from sklearn.metrics import accuracy_score\n",
    "\n",
    "x = data[float_cols].copy()\n",
    "y = data[\"failure\"]\n",
    "\n",
    "model = KNeighborsClassifier(n_neighbors=5)\n",
    "\n",
    "# split the data into train(90%) and test(10%)\n",
    "ids = np.arange(data.shape[0])\n",
    "np.random.shuffle(ids)\n",
    "split = int(data.shape[0]*.9)\n",
    "\n",
    "train_ids = ids[:split] \n",
    "test_ids = ids[split:] \n",
    "\n",
    "X_train = x.iloc[train_ids]\n",
    "X_test = x.iloc[test_ids]\n",
    "\n",
    "y_train = y.iloc[train_ids]\n",
    "y_test = y.iloc[test_ids]\n",
    "\n",
    "# fit the model\n",
    "model.fit(X_train, y_train)\n",
    "\n",
    "# make the prediction\n",
    "test_predictions = model.predict(X_test)\n",
    "print(\"Test accuracy:\", accuracy_score(y_test, test_predictions))\n"
   ]
  },
  {
   "cell_type": "markdown",
   "metadata": {
    "id": "Wxe6EeCSJXXY"
   },
   "source": [
    "Try to tune n_neighbors and add play around features to boost accuracy"
   ]
  },
  {
   "cell_type": "markdown",
   "metadata": {
    "id": "WcdyuBflJXXZ"
   },
   "source": [
    "* Sklearn [tutorials](http://scikit-learn.org/stable/tutorial/index.html)\n",
    "* Sklearn [examples](http://scikit-learn.org/stable/auto_examples/index.html)\n",
    "* Sklearn [cheat sheet](http://scikit-learn.org/stable/_static/ml_map.png)"
   ]
  },
  {
   "cell_type": "code",
   "execution_count": 303,
   "metadata": {},
   "outputs": [
    {
     "name": "stdout",
     "output_type": "stream",
     "text": [
      "Test accuracy: 0.7779450508091833\n"
     ]
    }
   ],
   "source": [
    "from sklearn.neighbors import KNeighborsClassifier\n",
    "from sklearn.metrics import accuracy_score\n",
    "\n",
    "x = data[float_cols].copy()\n",
    "y = data[\"failure\"]\n",
    "\n",
    "model = KNeighborsClassifier(n_neighbors=50, weights='distance', leaf_size=100, p=1)\n",
    "\n",
    "# fit the model\n",
    "model.fit(X_train, y_train)\n",
    "\n",
    "# make the prediction\n",
    "test_predictions = model.predict(X_test)\n",
    "print(\"Test accuracy:\", accuracy_score(y_test, test_predictions))\n"
   ]
  },
  {
   "cell_type": "markdown",
   "metadata": {
    "id": "toDL-cAILb8H"
   },
   "source": [
    "```\n",
    "```\n",
    "```\n",
    "```"
   ]
  },
  {
   "cell_type": "markdown",
   "metadata": {
    "id": "_gdvIZBILdoo"
   },
   "source": [
    "## Bonus part"
   ]
  },
  {
   "cell_type": "markdown",
   "metadata": {
    "id": "4z88BXYDLunO"
   },
   "source": [
    "### Pandas: adding new columns"
   ]
  },
  {
   "cell_type": "code",
   "execution_count": 305,
   "metadata": {
    "id": "b8kPXF_mZLwO"
   },
   "outputs": [
    {
     "name": "stdout",
     "output_type": "stream",
     "text": [
      "--2023-09-23 18:33:32--  https://raw.githubusercontent.com/HSE-LAMBDA/MLDM-2022/main/01-intro/train.csv\n",
      "Resolving raw.githubusercontent.com (raw.githubusercontent.com)... 2606:50c0:8001::154, 2606:50c0:8003::154, 2606:50c0:8002::154, ...\n",
      "Connecting to raw.githubusercontent.com (raw.githubusercontent.com)|2606:50c0:8001::154|:443... connected.\n",
      "HTTP request sent, awaiting response... 200 OK\n",
      "Length: 60302 (59K) [text/plain]\n",
      "Saving to: 'train.csv'\n",
      "\n",
      "train.csv           100%[===================>]  58.89K  --.-KB/s    in 0.04s   \n",
      "\n",
      "2023-09-23 18:33:33 (1.33 MB/s) - 'train.csv' saved [60302/60302]\n",
      "\n"
     ]
    }
   ],
   "source": [
    "# !wget https://raw.githubusercontent.com/HSE-LAMBDA/MLDM-2022/main/01-intro/train.csv #use Titanic Data for examples below"
   ]
  },
  {
   "cell_type": "markdown",
   "metadata": {
    "id": "fAqszFVKMHCG"
   },
   "source": [
    "To define a new column in a dataframe simply assign to it (if such a column exists it will get overwritten):"
   ]
  },
  {
   "cell_type": "code",
   "execution_count": 307,
   "metadata": {
    "id": "jTf14P-ELzXD"
   },
   "outputs": [
    {
     "data": {
      "text/html": [
       "<div>\n",
       "<style scoped>\n",
       "    .dataframe tbody tr th:only-of-type {\n",
       "        vertical-align: middle;\n",
       "    }\n",
       "\n",
       "    .dataframe tbody tr th {\n",
       "        vertical-align: top;\n",
       "    }\n",
       "\n",
       "    .dataframe thead th {\n",
       "        text-align: right;\n",
       "    }\n",
       "</style>\n",
       "<table border=\"1\" class=\"dataframe\">\n",
       "  <thead>\n",
       "    <tr style=\"text-align: right;\">\n",
       "      <th></th>\n",
       "      <th>PassengerId</th>\n",
       "      <th>Survived</th>\n",
       "      <th>Pclass</th>\n",
       "      <th>Name</th>\n",
       "      <th>Sex</th>\n",
       "      <th>Age</th>\n",
       "      <th>SibSp</th>\n",
       "      <th>Parch</th>\n",
       "      <th>Ticket</th>\n",
       "      <th>Fare</th>\n",
       "      <th>Cabin</th>\n",
       "      <th>Embarked</th>\n",
       "      <th>CabinUnknown</th>\n",
       "    </tr>\n",
       "  </thead>\n",
       "  <tbody>\n",
       "    <tr>\n",
       "      <th>0</th>\n",
       "      <td>1</td>\n",
       "      <td>0</td>\n",
       "      <td>3</td>\n",
       "      <td>Braund, Mr. Owen Harris</td>\n",
       "      <td>male</td>\n",
       "      <td>22.0</td>\n",
       "      <td>1</td>\n",
       "      <td>0</td>\n",
       "      <td>A/5 21171</td>\n",
       "      <td>7.2500</td>\n",
       "      <td>NaN</td>\n",
       "      <td>S</td>\n",
       "      <td>True</td>\n",
       "    </tr>\n",
       "    <tr>\n",
       "      <th>1</th>\n",
       "      <td>2</td>\n",
       "      <td>1</td>\n",
       "      <td>1</td>\n",
       "      <td>Cumings, Mrs. John Bradley (Florence Briggs Th...</td>\n",
       "      <td>female</td>\n",
       "      <td>38.0</td>\n",
       "      <td>1</td>\n",
       "      <td>0</td>\n",
       "      <td>PC 17599</td>\n",
       "      <td>71.2833</td>\n",
       "      <td>C85</td>\n",
       "      <td>C</td>\n",
       "      <td>False</td>\n",
       "    </tr>\n",
       "    <tr>\n",
       "      <th>2</th>\n",
       "      <td>3</td>\n",
       "      <td>1</td>\n",
       "      <td>3</td>\n",
       "      <td>Heikkinen, Miss. Laina</td>\n",
       "      <td>female</td>\n",
       "      <td>26.0</td>\n",
       "      <td>0</td>\n",
       "      <td>0</td>\n",
       "      <td>STON/O2. 3101282</td>\n",
       "      <td>7.9250</td>\n",
       "      <td>NaN</td>\n",
       "      <td>S</td>\n",
       "      <td>True</td>\n",
       "    </tr>\n",
       "    <tr>\n",
       "      <th>3</th>\n",
       "      <td>4</td>\n",
       "      <td>1</td>\n",
       "      <td>1</td>\n",
       "      <td>Futrelle, Mrs. Jacques Heath (Lily May Peel)</td>\n",
       "      <td>female</td>\n",
       "      <td>35.0</td>\n",
       "      <td>1</td>\n",
       "      <td>0</td>\n",
       "      <td>113803</td>\n",
       "      <td>53.1000</td>\n",
       "      <td>C123</td>\n",
       "      <td>S</td>\n",
       "      <td>False</td>\n",
       "    </tr>\n",
       "    <tr>\n",
       "      <th>4</th>\n",
       "      <td>5</td>\n",
       "      <td>0</td>\n",
       "      <td>3</td>\n",
       "      <td>Allen, Mr. William Henry</td>\n",
       "      <td>male</td>\n",
       "      <td>35.0</td>\n",
       "      <td>0</td>\n",
       "      <td>0</td>\n",
       "      <td>373450</td>\n",
       "      <td>8.0500</td>\n",
       "      <td>NaN</td>\n",
       "      <td>S</td>\n",
       "      <td>True</td>\n",
       "    </tr>\n",
       "  </tbody>\n",
       "</table>\n",
       "</div>"
      ],
      "text/plain": [
       "   PassengerId  Survived  Pclass  \\\n",
       "0            1         0       3   \n",
       "1            2         1       1   \n",
       "2            3         1       3   \n",
       "3            4         1       1   \n",
       "4            5         0       3   \n",
       "\n",
       "                                                Name     Sex   Age  SibSp  \\\n",
       "0                            Braund, Mr. Owen Harris    male  22.0      1   \n",
       "1  Cumings, Mrs. John Bradley (Florence Briggs Th...  female  38.0      1   \n",
       "2                             Heikkinen, Miss. Laina  female  26.0      0   \n",
       "3       Futrelle, Mrs. Jacques Heath (Lily May Peel)  female  35.0      1   \n",
       "4                           Allen, Mr. William Henry    male  35.0      0   \n",
       "\n",
       "   Parch            Ticket     Fare Cabin Embarked  CabinUnknown  \n",
       "0      0         A/5 21171   7.2500   NaN        S          True  \n",
       "1      0          PC 17599  71.2833   C85        C         False  \n",
       "2      0  STON/O2. 3101282   7.9250   NaN        S          True  \n",
       "3      0            113803  53.1000  C123        S         False  \n",
       "4      0            373450   8.0500   NaN        S          True  "
      ]
     },
     "execution_count": 307,
     "metadata": {},
     "output_type": "execute_result"
    }
   ],
   "source": [
    "data = pd.read_csv('train.csv') # this yields a pandas.DataFrame\n",
    "\n",
    "data['CabinUnknown'] = data.Cabin.isna()\n",
    "data.head()"
   ]
  },
  {
   "cell_type": "markdown",
   "metadata": {
    "id": "rLtCIDVCMx3t"
   },
   "source": [
    "Be sure to use the approach with a `['ColumnName']` , rather than `.ColumnName`, otherwize it won't work:"
   ]
  },
  {
   "cell_type": "code",
   "execution_count": 308,
   "metadata": {
    "id": "ctpV_MWvMh6b"
   },
   "outputs": [
    {
     "name": "stderr",
     "output_type": "stream",
     "text": [
      "/var/folders/pd/fjb9sj5x6t3dnxtpzxxzkv6c0000gn/T/ipykernel_75994/4284665310.py:1: UserWarning: Pandas doesn't allow columns to be created via a new attribute name - see https://pandas.pydata.org/pandas-docs/stable/indexing.html#attribute-access\n",
      "  data.this_will_not_work = data.Age**2\n"
     ]
    },
    {
     "data": {
      "text/html": [
       "<div>\n",
       "<style scoped>\n",
       "    .dataframe tbody tr th:only-of-type {\n",
       "        vertical-align: middle;\n",
       "    }\n",
       "\n",
       "    .dataframe tbody tr th {\n",
       "        vertical-align: top;\n",
       "    }\n",
       "\n",
       "    .dataframe thead th {\n",
       "        text-align: right;\n",
       "    }\n",
       "</style>\n",
       "<table border=\"1\" class=\"dataframe\">\n",
       "  <thead>\n",
       "    <tr style=\"text-align: right;\">\n",
       "      <th></th>\n",
       "      <th>PassengerId</th>\n",
       "      <th>Survived</th>\n",
       "      <th>Pclass</th>\n",
       "      <th>Name</th>\n",
       "      <th>Sex</th>\n",
       "      <th>Age</th>\n",
       "      <th>SibSp</th>\n",
       "      <th>Parch</th>\n",
       "      <th>Ticket</th>\n",
       "      <th>Fare</th>\n",
       "      <th>Cabin</th>\n",
       "      <th>Embarked</th>\n",
       "      <th>CabinUnknown</th>\n",
       "    </tr>\n",
       "  </thead>\n",
       "  <tbody>\n",
       "    <tr>\n",
       "      <th>0</th>\n",
       "      <td>1</td>\n",
       "      <td>0</td>\n",
       "      <td>3</td>\n",
       "      <td>Braund, Mr. Owen Harris</td>\n",
       "      <td>male</td>\n",
       "      <td>22.0</td>\n",
       "      <td>1</td>\n",
       "      <td>0</td>\n",
       "      <td>A/5 21171</td>\n",
       "      <td>7.2500</td>\n",
       "      <td>NaN</td>\n",
       "      <td>S</td>\n",
       "      <td>True</td>\n",
       "    </tr>\n",
       "    <tr>\n",
       "      <th>1</th>\n",
       "      <td>2</td>\n",
       "      <td>1</td>\n",
       "      <td>1</td>\n",
       "      <td>Cumings, Mrs. John Bradley (Florence Briggs Th...</td>\n",
       "      <td>female</td>\n",
       "      <td>38.0</td>\n",
       "      <td>1</td>\n",
       "      <td>0</td>\n",
       "      <td>PC 17599</td>\n",
       "      <td>71.2833</td>\n",
       "      <td>C85</td>\n",
       "      <td>C</td>\n",
       "      <td>False</td>\n",
       "    </tr>\n",
       "    <tr>\n",
       "      <th>2</th>\n",
       "      <td>3</td>\n",
       "      <td>1</td>\n",
       "      <td>3</td>\n",
       "      <td>Heikkinen, Miss. Laina</td>\n",
       "      <td>female</td>\n",
       "      <td>26.0</td>\n",
       "      <td>0</td>\n",
       "      <td>0</td>\n",
       "      <td>STON/O2. 3101282</td>\n",
       "      <td>7.9250</td>\n",
       "      <td>NaN</td>\n",
       "      <td>S</td>\n",
       "      <td>True</td>\n",
       "    </tr>\n",
       "    <tr>\n",
       "      <th>3</th>\n",
       "      <td>4</td>\n",
       "      <td>1</td>\n",
       "      <td>1</td>\n",
       "      <td>Futrelle, Mrs. Jacques Heath (Lily May Peel)</td>\n",
       "      <td>female</td>\n",
       "      <td>35.0</td>\n",
       "      <td>1</td>\n",
       "      <td>0</td>\n",
       "      <td>113803</td>\n",
       "      <td>53.1000</td>\n",
       "      <td>C123</td>\n",
       "      <td>S</td>\n",
       "      <td>False</td>\n",
       "    </tr>\n",
       "    <tr>\n",
       "      <th>4</th>\n",
       "      <td>5</td>\n",
       "      <td>0</td>\n",
       "      <td>3</td>\n",
       "      <td>Allen, Mr. William Henry</td>\n",
       "      <td>male</td>\n",
       "      <td>35.0</td>\n",
       "      <td>0</td>\n",
       "      <td>0</td>\n",
       "      <td>373450</td>\n",
       "      <td>8.0500</td>\n",
       "      <td>NaN</td>\n",
       "      <td>S</td>\n",
       "      <td>True</td>\n",
       "    </tr>\n",
       "  </tbody>\n",
       "</table>\n",
       "</div>"
      ],
      "text/plain": [
       "   PassengerId  Survived  Pclass  \\\n",
       "0            1         0       3   \n",
       "1            2         1       1   \n",
       "2            3         1       3   \n",
       "3            4         1       1   \n",
       "4            5         0       3   \n",
       "\n",
       "                                                Name     Sex   Age  SibSp  \\\n",
       "0                            Braund, Mr. Owen Harris    male  22.0      1   \n",
       "1  Cumings, Mrs. John Bradley (Florence Briggs Th...  female  38.0      1   \n",
       "2                             Heikkinen, Miss. Laina  female  26.0      0   \n",
       "3       Futrelle, Mrs. Jacques Heath (Lily May Peel)  female  35.0      1   \n",
       "4                           Allen, Mr. William Henry    male  35.0      0   \n",
       "\n",
       "   Parch            Ticket     Fare Cabin Embarked  CabinUnknown  \n",
       "0      0         A/5 21171   7.2500   NaN        S          True  \n",
       "1      0          PC 17599  71.2833   C85        C         False  \n",
       "2      0  STON/O2. 3101282   7.9250   NaN        S          True  \n",
       "3      0            113803  53.1000  C123        S         False  \n",
       "4      0            373450   8.0500   NaN        S          True  "
      ]
     },
     "execution_count": 308,
     "metadata": {},
     "output_type": "execute_result"
    }
   ],
   "source": [
    "data.this_will_not_work = data.Age**2\n",
    "data.head()"
   ]
  },
  {
   "cell_type": "markdown",
   "metadata": {
    "id": "ErWMVXfvcgrZ"
   },
   "source": [
    "### Pandas: one-hot encoding"
   ]
  },
  {
   "cell_type": "code",
   "execution_count": 309,
   "metadata": {
    "id": "YBfOdHGGdCMC"
   },
   "outputs": [
    {
     "data": {
      "text/html": [
       "<div>\n",
       "<style scoped>\n",
       "    .dataframe tbody tr th:only-of-type {\n",
       "        vertical-align: middle;\n",
       "    }\n",
       "\n",
       "    .dataframe tbody tr th {\n",
       "        vertical-align: top;\n",
       "    }\n",
       "\n",
       "    .dataframe thead th {\n",
       "        text-align: right;\n",
       "    }\n",
       "</style>\n",
       "<table border=\"1\" class=\"dataframe\">\n",
       "  <thead>\n",
       "    <tr style=\"text-align: right;\">\n",
       "      <th></th>\n",
       "      <th>Embarked_C</th>\n",
       "      <th>Embarked_Q</th>\n",
       "      <th>Embarked_S</th>\n",
       "    </tr>\n",
       "  </thead>\n",
       "  <tbody>\n",
       "    <tr>\n",
       "      <th>0</th>\n",
       "      <td>0</td>\n",
       "      <td>0</td>\n",
       "      <td>1</td>\n",
       "    </tr>\n",
       "    <tr>\n",
       "      <th>1</th>\n",
       "      <td>1</td>\n",
       "      <td>0</td>\n",
       "      <td>0</td>\n",
       "    </tr>\n",
       "    <tr>\n",
       "      <th>2</th>\n",
       "      <td>0</td>\n",
       "      <td>0</td>\n",
       "      <td>1</td>\n",
       "    </tr>\n",
       "    <tr>\n",
       "      <th>3</th>\n",
       "      <td>0</td>\n",
       "      <td>0</td>\n",
       "      <td>1</td>\n",
       "    </tr>\n",
       "    <tr>\n",
       "      <th>4</th>\n",
       "      <td>0</td>\n",
       "      <td>0</td>\n",
       "      <td>1</td>\n",
       "    </tr>\n",
       "  </tbody>\n",
       "</table>\n",
       "</div>"
      ],
      "text/plain": [
       "   Embarked_C  Embarked_Q  Embarked_S\n",
       "0           0           0           1\n",
       "1           1           0           0\n",
       "2           0           0           1\n",
       "3           0           0           1\n",
       "4           0           0           1"
      ]
     },
     "execution_count": 309,
     "metadata": {},
     "output_type": "execute_result"
    }
   ],
   "source": [
    "pd.get_dummies(data.Embarked, prefix='Embarked').head()\n",
    "# added .head() for a more compact output"
   ]
  },
  {
   "cell_type": "markdown",
   "metadata": {
    "id": "ZxqeVSdKd0DT"
   },
   "source": [
    "### Pandas: merging tables"
   ]
  },
  {
   "cell_type": "code",
   "execution_count": 310,
   "metadata": {
    "id": "AP9PrE8qdyI_"
   },
   "outputs": [
    {
     "data": {
      "text/html": [
       "<div>\n",
       "<style scoped>\n",
       "    .dataframe tbody tr th:only-of-type {\n",
       "        vertical-align: middle;\n",
       "    }\n",
       "\n",
       "    .dataframe tbody tr th {\n",
       "        vertical-align: top;\n",
       "    }\n",
       "\n",
       "    .dataframe thead th {\n",
       "        text-align: right;\n",
       "    }\n",
       "</style>\n",
       "<table border=\"1\" class=\"dataframe\">\n",
       "  <thead>\n",
       "    <tr style=\"text-align: right;\">\n",
       "      <th></th>\n",
       "      <th>PassengerId</th>\n",
       "      <th>Survived</th>\n",
       "      <th>Pclass</th>\n",
       "      <th>Name</th>\n",
       "      <th>Sex</th>\n",
       "      <th>Age</th>\n",
       "      <th>SibSp</th>\n",
       "      <th>Parch</th>\n",
       "      <th>Ticket</th>\n",
       "      <th>Fare</th>\n",
       "      <th>Cabin</th>\n",
       "      <th>Embarked</th>\n",
       "      <th>CabinUnknown</th>\n",
       "      <th>Embarked_C</th>\n",
       "      <th>Embarked_Q</th>\n",
       "      <th>Embarked_S</th>\n",
       "    </tr>\n",
       "  </thead>\n",
       "  <tbody>\n",
       "    <tr>\n",
       "      <th>0</th>\n",
       "      <td>1</td>\n",
       "      <td>0</td>\n",
       "      <td>3</td>\n",
       "      <td>Braund, Mr. Owen Harris</td>\n",
       "      <td>male</td>\n",
       "      <td>22.0</td>\n",
       "      <td>1</td>\n",
       "      <td>0</td>\n",
       "      <td>A/5 21171</td>\n",
       "      <td>7.2500</td>\n",
       "      <td>NaN</td>\n",
       "      <td>S</td>\n",
       "      <td>True</td>\n",
       "      <td>0</td>\n",
       "      <td>0</td>\n",
       "      <td>1</td>\n",
       "    </tr>\n",
       "    <tr>\n",
       "      <th>1</th>\n",
       "      <td>2</td>\n",
       "      <td>1</td>\n",
       "      <td>1</td>\n",
       "      <td>Cumings, Mrs. John Bradley (Florence Briggs Th...</td>\n",
       "      <td>female</td>\n",
       "      <td>38.0</td>\n",
       "      <td>1</td>\n",
       "      <td>0</td>\n",
       "      <td>PC 17599</td>\n",
       "      <td>71.2833</td>\n",
       "      <td>C85</td>\n",
       "      <td>C</td>\n",
       "      <td>False</td>\n",
       "      <td>1</td>\n",
       "      <td>0</td>\n",
       "      <td>0</td>\n",
       "    </tr>\n",
       "    <tr>\n",
       "      <th>2</th>\n",
       "      <td>3</td>\n",
       "      <td>1</td>\n",
       "      <td>3</td>\n",
       "      <td>Heikkinen, Miss. Laina</td>\n",
       "      <td>female</td>\n",
       "      <td>26.0</td>\n",
       "      <td>0</td>\n",
       "      <td>0</td>\n",
       "      <td>STON/O2. 3101282</td>\n",
       "      <td>7.9250</td>\n",
       "      <td>NaN</td>\n",
       "      <td>S</td>\n",
       "      <td>True</td>\n",
       "      <td>0</td>\n",
       "      <td>0</td>\n",
       "      <td>1</td>\n",
       "    </tr>\n",
       "    <tr>\n",
       "      <th>3</th>\n",
       "      <td>4</td>\n",
       "      <td>1</td>\n",
       "      <td>1</td>\n",
       "      <td>Futrelle, Mrs. Jacques Heath (Lily May Peel)</td>\n",
       "      <td>female</td>\n",
       "      <td>35.0</td>\n",
       "      <td>1</td>\n",
       "      <td>0</td>\n",
       "      <td>113803</td>\n",
       "      <td>53.1000</td>\n",
       "      <td>C123</td>\n",
       "      <td>S</td>\n",
       "      <td>False</td>\n",
       "      <td>0</td>\n",
       "      <td>0</td>\n",
       "      <td>1</td>\n",
       "    </tr>\n",
       "    <tr>\n",
       "      <th>4</th>\n",
       "      <td>5</td>\n",
       "      <td>0</td>\n",
       "      <td>3</td>\n",
       "      <td>Allen, Mr. William Henry</td>\n",
       "      <td>male</td>\n",
       "      <td>35.0</td>\n",
       "      <td>0</td>\n",
       "      <td>0</td>\n",
       "      <td>373450</td>\n",
       "      <td>8.0500</td>\n",
       "      <td>NaN</td>\n",
       "      <td>S</td>\n",
       "      <td>True</td>\n",
       "      <td>0</td>\n",
       "      <td>0</td>\n",
       "      <td>1</td>\n",
       "    </tr>\n",
       "  </tbody>\n",
       "</table>\n",
       "</div>"
      ],
      "text/plain": [
       "   PassengerId  Survived  Pclass  \\\n",
       "0            1         0       3   \n",
       "1            2         1       1   \n",
       "2            3         1       3   \n",
       "3            4         1       1   \n",
       "4            5         0       3   \n",
       "\n",
       "                                                Name     Sex   Age  SibSp  \\\n",
       "0                            Braund, Mr. Owen Harris    male  22.0      1   \n",
       "1  Cumings, Mrs. John Bradley (Florence Briggs Th...  female  38.0      1   \n",
       "2                             Heikkinen, Miss. Laina  female  26.0      0   \n",
       "3       Futrelle, Mrs. Jacques Heath (Lily May Peel)  female  35.0      1   \n",
       "4                           Allen, Mr. William Henry    male  35.0      0   \n",
       "\n",
       "   Parch            Ticket     Fare Cabin Embarked  CabinUnknown  Embarked_C  \\\n",
       "0      0         A/5 21171   7.2500   NaN        S          True           0   \n",
       "1      0          PC 17599  71.2833   C85        C         False           1   \n",
       "2      0  STON/O2. 3101282   7.9250   NaN        S          True           0   \n",
       "3      0            113803  53.1000  C123        S         False           0   \n",
       "4      0            373450   8.0500   NaN        S          True           0   \n",
       "\n",
       "   Embarked_Q  Embarked_S  \n",
       "0           0           1  \n",
       "1           0           0  \n",
       "2           0           1  \n",
       "3           0           1  \n",
       "4           0           1  "
      ]
     },
     "execution_count": 310,
     "metadata": {},
     "output_type": "execute_result"
    }
   ],
   "source": [
    "data_extended = pd.concat([\n",
    "                      data,\n",
    "                      pd.get_dummies(data.Embarked, prefix='Embarked')\n",
    "                    ], axis=1)\n",
    "data_extended.head()"
   ]
  },
  {
   "cell_type": "markdown",
   "metadata": {
    "id": "QeaeflaAeQ7W"
   },
   "source": [
    "### Pandas: groupby"
   ]
  },
  {
   "cell_type": "markdown",
   "metadata": {
    "id": "fP6HFtuRhwPD"
   },
   "source": [
    "This function provides a neat way to calculate some statistics for groups of entries with some common feature value."
   ]
  },
  {
   "cell_type": "code",
   "execution_count": 311,
   "metadata": {
    "id": "y4QeQUKmiDSZ"
   },
   "outputs": [
    {
     "name": "stdout",
     "output_type": "stream",
     "text": [
      "C <class 'pandas.core.frame.DataFrame'> (168, 13)\n",
      "Q <class 'pandas.core.frame.DataFrame'> (77, 13)\n",
      "S <class 'pandas.core.frame.DataFrame'> (644, 13)\n"
     ]
    }
   ],
   "source": [
    "g = data.groupby('Embarked')\n",
    "# Now `g` is an iterable of dataframes split based on the values\n",
    "# in the 'Embarked' column:\n",
    "\n",
    "for embarked, group in g:\n",
    "  print(embarked, type(group), group.shape)"
   ]
  },
  {
   "cell_type": "code",
   "execution_count": 312,
   "metadata": {
    "id": "cZlGdJ3-jo05"
   },
   "outputs": [
    {
     "data": {
      "text/html": [
       "<div>\n",
       "<style scoped>\n",
       "    .dataframe tbody tr th:only-of-type {\n",
       "        vertical-align: middle;\n",
       "    }\n",
       "\n",
       "    .dataframe tbody tr th {\n",
       "        vertical-align: top;\n",
       "    }\n",
       "\n",
       "    .dataframe thead th {\n",
       "        text-align: right;\n",
       "    }\n",
       "</style>\n",
       "<table border=\"1\" class=\"dataframe\">\n",
       "  <thead>\n",
       "    <tr style=\"text-align: right;\">\n",
       "      <th></th>\n",
       "      <th>PassengerId</th>\n",
       "      <th>Survived</th>\n",
       "      <th>Pclass</th>\n",
       "      <th>Age</th>\n",
       "      <th>SibSp</th>\n",
       "      <th>Parch</th>\n",
       "      <th>Fare</th>\n",
       "      <th>CabinUnknown</th>\n",
       "    </tr>\n",
       "    <tr>\n",
       "      <th>Embarked</th>\n",
       "      <th></th>\n",
       "      <th></th>\n",
       "      <th></th>\n",
       "      <th></th>\n",
       "      <th></th>\n",
       "      <th></th>\n",
       "      <th></th>\n",
       "      <th></th>\n",
       "    </tr>\n",
       "  </thead>\n",
       "  <tbody>\n",
       "    <tr>\n",
       "      <th>C</th>\n",
       "      <td>445.357143</td>\n",
       "      <td>0.553571</td>\n",
       "      <td>1.886905</td>\n",
       "      <td>30.814769</td>\n",
       "      <td>0.386905</td>\n",
       "      <td>0.363095</td>\n",
       "      <td>59.954144</td>\n",
       "      <td>0.589286</td>\n",
       "    </tr>\n",
       "    <tr>\n",
       "      <th>Q</th>\n",
       "      <td>417.896104</td>\n",
       "      <td>0.389610</td>\n",
       "      <td>2.909091</td>\n",
       "      <td>28.089286</td>\n",
       "      <td>0.428571</td>\n",
       "      <td>0.168831</td>\n",
       "      <td>13.276030</td>\n",
       "      <td>0.948052</td>\n",
       "    </tr>\n",
       "    <tr>\n",
       "      <th>S</th>\n",
       "      <td>449.527950</td>\n",
       "      <td>0.336957</td>\n",
       "      <td>2.350932</td>\n",
       "      <td>29.445397</td>\n",
       "      <td>0.571429</td>\n",
       "      <td>0.413043</td>\n",
       "      <td>27.079812</td>\n",
       "      <td>0.799689</td>\n",
       "    </tr>\n",
       "  </tbody>\n",
       "</table>\n",
       "</div>"
      ],
      "text/plain": [
       "          PassengerId  Survived    Pclass        Age     SibSp     Parch  \\\n",
       "Embarked                                                                   \n",
       "C          445.357143  0.553571  1.886905  30.814769  0.386905  0.363095   \n",
       "Q          417.896104  0.389610  2.909091  28.089286  0.428571  0.168831   \n",
       "S          449.527950  0.336957  2.350932  29.445397  0.571429  0.413043   \n",
       "\n",
       "               Fare  CabinUnknown  \n",
       "Embarked                           \n",
       "C         59.954144      0.589286  \n",
       "Q         13.276030      0.948052  \n",
       "S         27.079812      0.799689  "
      ]
     },
     "execution_count": 312,
     "metadata": {},
     "output_type": "execute_result"
    }
   ],
   "source": [
    "# You can calculate things on the groups simultaniously:\n",
    "\n",
    "g.mean()"
   ]
  },
  {
   "cell_type": "code",
   "execution_count": 313,
   "metadata": {
    "id": "P-3FFL-hj8qP"
   },
   "outputs": [
    {
     "data": {
      "text/html": [
       "<div>\n",
       "<style scoped>\n",
       "    .dataframe tbody tr th:only-of-type {\n",
       "        vertical-align: middle;\n",
       "    }\n",
       "\n",
       "    .dataframe tbody tr th {\n",
       "        vertical-align: top;\n",
       "    }\n",
       "\n",
       "    .dataframe thead th {\n",
       "        text-align: right;\n",
       "    }\n",
       "</style>\n",
       "<table border=\"1\" class=\"dataframe\">\n",
       "  <thead>\n",
       "    <tr style=\"text-align: right;\">\n",
       "      <th></th>\n",
       "      <th>PassengerId</th>\n",
       "      <th>Survived</th>\n",
       "      <th>Pclass</th>\n",
       "      <th>Name</th>\n",
       "      <th>Sex</th>\n",
       "      <th>Age</th>\n",
       "      <th>SibSp</th>\n",
       "      <th>Parch</th>\n",
       "      <th>Ticket</th>\n",
       "      <th>Fare</th>\n",
       "      <th>Cabin</th>\n",
       "      <th>CabinUnknown</th>\n",
       "    </tr>\n",
       "    <tr>\n",
       "      <th>Embarked</th>\n",
       "      <th></th>\n",
       "      <th></th>\n",
       "      <th></th>\n",
       "      <th></th>\n",
       "      <th></th>\n",
       "      <th></th>\n",
       "      <th></th>\n",
       "      <th></th>\n",
       "      <th></th>\n",
       "      <th></th>\n",
       "      <th></th>\n",
       "      <th></th>\n",
       "    </tr>\n",
       "  </thead>\n",
       "  <tbody>\n",
       "    <tr>\n",
       "      <th>C</th>\n",
       "      <td>168</td>\n",
       "      <td>168</td>\n",
       "      <td>168</td>\n",
       "      <td>168</td>\n",
       "      <td>168</td>\n",
       "      <td>130</td>\n",
       "      <td>168</td>\n",
       "      <td>168</td>\n",
       "      <td>168</td>\n",
       "      <td>168</td>\n",
       "      <td>69</td>\n",
       "      <td>168</td>\n",
       "    </tr>\n",
       "    <tr>\n",
       "      <th>Q</th>\n",
       "      <td>77</td>\n",
       "      <td>77</td>\n",
       "      <td>77</td>\n",
       "      <td>77</td>\n",
       "      <td>77</td>\n",
       "      <td>28</td>\n",
       "      <td>77</td>\n",
       "      <td>77</td>\n",
       "      <td>77</td>\n",
       "      <td>77</td>\n",
       "      <td>4</td>\n",
       "      <td>77</td>\n",
       "    </tr>\n",
       "    <tr>\n",
       "      <th>S</th>\n",
       "      <td>644</td>\n",
       "      <td>644</td>\n",
       "      <td>644</td>\n",
       "      <td>644</td>\n",
       "      <td>644</td>\n",
       "      <td>554</td>\n",
       "      <td>644</td>\n",
       "      <td>644</td>\n",
       "      <td>644</td>\n",
       "      <td>644</td>\n",
       "      <td>129</td>\n",
       "      <td>644</td>\n",
       "    </tr>\n",
       "  </tbody>\n",
       "</table>\n",
       "</div>"
      ],
      "text/plain": [
       "          PassengerId  Survived  Pclass  Name  Sex  Age  SibSp  Parch  Ticket  \\\n",
       "Embarked                                                                        \n",
       "C                 168       168     168   168  168  130    168    168     168   \n",
       "Q                  77        77      77    77   77   28     77     77      77   \n",
       "S                 644       644     644   644  644  554    644    644     644   \n",
       "\n",
       "          Fare  Cabin  CabinUnknown  \n",
       "Embarked                             \n",
       "C          168     69           168  \n",
       "Q           77      4            77  \n",
       "S          644    129           644  "
      ]
     },
     "execution_count": 313,
     "metadata": {},
     "output_type": "execute_result"
    }
   ],
   "source": [
    "g.count() # this calculates the number of valid entries (excluding nans)"
   ]
  },
  {
   "cell_type": "code",
   "execution_count": 314,
   "metadata": {
    "id": "c4KA9HsekPiA"
   },
   "outputs": [
    {
     "data": {
      "text/plain": [
       "Embarked\n",
       "C    512.3292\n",
       "Q     90.0000\n",
       "S    263.0000\n",
       "Name: Fare, dtype: float64"
      ]
     },
     "execution_count": 314,
     "metadata": {},
     "output_type": "execute_result"
    }
   ],
   "source": [
    "# You can also access individual columns:\n",
    "g.Fare.max()"
   ]
  },
  {
   "cell_type": "markdown",
   "metadata": {
    "id": "WRhTgAVHekYH"
   },
   "source": [
    "### Pandas: cut and qcut"
   ]
  },
  {
   "cell_type": "markdown",
   "metadata": {
    "id": "c42YbZKlksNz"
   },
   "source": [
    "These functions let us split data into bins: `cut` makes linear splits, while `qcut` makes quantile-based splits. They both return a column of bins to which current entry belongs:"
   ]
  },
  {
   "cell_type": "code",
   "execution_count": 317,
   "metadata": {
    "id": "UHMNswNblHeB"
   },
   "outputs": [
    {
     "data": {
      "text/plain": [
       "0      (0.34, 26.947]\n",
       "1    (26.947, 53.473]\n",
       "2      (0.34, 26.947]\n",
       "3    (26.947, 53.473]\n",
       "4    (26.947, 53.473]\n",
       "Name: Age, dtype: category\n",
       "Categories (3, interval[float64, right]): [(0.34, 26.947] < (26.947, 53.473] < (53.473, 80.0]]"
      ]
     },
     "execution_count": 317,
     "metadata": {},
     "output_type": "execute_result"
    }
   ],
   "source": [
    "pd.cut(data.Age, 3).head() # '.head()' added for a more compact output"
   ]
  },
  {
   "cell_type": "code",
   "execution_count": 318,
   "metadata": {
    "id": "GJGJhcqUlgKC"
   },
   "outputs": [
    {
     "data": {
      "text/plain": [
       "0    (0.419, 23.0]\n",
       "1     (34.0, 80.0]\n",
       "2     (23.0, 34.0]\n",
       "3     (34.0, 80.0]\n",
       "4     (34.0, 80.0]\n",
       "Name: Age, dtype: category\n",
       "Categories (3, interval[float64, right]): [(0.419, 23.0] < (23.0, 34.0] < (34.0, 80.0]]"
      ]
     },
     "execution_count": 318,
     "metadata": {},
     "output_type": "execute_result"
    }
   ],
   "source": [
    "pd.qcut(data.Age, 3).head() # '.head()' added for a more compact output"
   ]
  },
  {
   "cell_type": "markdown",
   "metadata": {
    "id": "pCGLUZ8CmjD0"
   },
   "source": [
    "### Your turn"
   ]
  },
  {
   "cell_type": "markdown",
   "metadata": {
    "id": "G6ryMww4mlK-"
   },
   "source": [
    "Use `cut` and `groupby` to calculate survival rate for 3 age categories.\n",
    "\n",
    "**Hint:** you need to add the result of `cut` as a new column"
   ]
  },
  {
   "cell_type": "code",
   "execution_count": 334,
   "metadata": {
    "id": "_VD_cgA8m6WT"
   },
   "outputs": [
    {
     "data": {
      "text/plain": [
       "Age\n",
       "(0.34, 26.947]      40.752351\n",
       "(26.947, 53.473]    41.739130\n",
       "(53.473, 80.0]      32.000000\n",
       "Name: PassengerId, dtype: float64"
      ]
     },
     "execution_count": 334,
     "metadata": {},
     "output_type": "execute_result"
    }
   ],
   "source": [
    "age = pd.cut(data.Age, 3)\n",
    "\n",
    "data.loc[data['Survived']==1].groupby(age)['PassengerId'].count()*100/data.groupby(age)['PassengerId'].count()"
   ]
  },
  {
   "cell_type": "markdown",
   "metadata": {
    "id": "UYc963-eepev"
   },
   "source": [
    "### Pandas: combining the tricks (survival vs ticket fare)"
   ]
  },
  {
   "cell_type": "code",
   "execution_count": 335,
   "metadata": {
    "id": "8aA6C8vbLdJk"
   },
   "outputs": [
    {
     "data": {
      "image/png": "[encoded data removed]",
      "text/plain": [
       "<Figure size 1600x900 with 1 Axes>"
      ]
     },
     "metadata": {},
     "output_type": "display_data"
    }
   ],
   "source": [
    "from matplotlib.ticker import ScalarFormatter\n",
    "\n",
    "data['qFare'] = pd.qcut(data.Fare, 20)\n",
    "\n",
    "sur_vs_price = data.groupby('qFare').Survived.mean()\n",
    "sur_vs_price_e = data.groupby('qFare').Survived.std() \\\n",
    "                        / data.groupby('qFare').Survived.count()**0.5\n",
    "\n",
    "fig = plt.figure(figsize=(16, 9))\n",
    "plt.errorbar(x=sur_vs_price.index.categories.mid,\n",
    "             y=sur_vs_price.values,\n",
    "             yerr=sur_vs_price_e.values,\n",
    "             xerr=(\n",
    "                 sur_vs_price.index.categories.right - \n",
    "                 sur_vs_price.index.categories.left\n",
    "               ) / 2,\n",
    "             fmt='o')\n",
    "plt.gca().set_xscale('log')\n",
    "plt.gca().xaxis.set_major_formatter(ScalarFormatter())\n",
    "plt.gca().set_xticks(\n",
    "              list(range(3, 10)) +\n",
    "              list(range(10, 100, 10)) +\n",
    "              list(range(100, 700, 100))\n",
    "            )\n",
    "\n",
    "plt.xlabel('Fare')\n",
    "plt.ylabel('Survival probability');"
   ]
  },
  {
   "cell_type": "code",
   "execution_count": null,
   "metadata": {},
   "outputs": [],
   "source": []
  }
 ],
 "metadata": {
  "colab": {
   "collapsed_sections": [],
   "provenance": []
  },
  "kernelspec": {
   "display_name": "Python 3 (ipykernel)",
   "language": "python",
   "name": "python3"
  },
  "language_info": {
   "codemirror_mode": {
    "name": "ipython",
    "version": 3
   },
   "file_extension": ".py",
   "mimetype": "text/x-python",
   "name": "python",
   "nbconvert_exporter": "python",
   "pygments_lexer": "ipython3",
   "version": "3.9.13"
  }
 },
 "nbformat": 4,
 "nbformat_minor": 1
}
